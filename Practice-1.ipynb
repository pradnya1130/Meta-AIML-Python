{
 "cells": [
  {
   "cell_type": "code",
   "execution_count": 1,
   "id": "865bd4b0-2d41-4517-bdb9-fc55d9c5002e",
   "metadata": {},
   "outputs": [],
   "source": [
    "import keyword"
   ]
  },
  {
   "cell_type": "code",
   "execution_count": 2,
   "id": "65cdf30c-6f76-4eb3-957e-db3f7d2d46f0",
   "metadata": {},
   "outputs": [
    {
     "name": "stdout",
     "output_type": "stream",
     "text": [
      "['False', 'None', 'True', 'and', 'as', 'assert', 'async', 'await', 'break', 'class', 'continue', 'def', 'del', 'elif', 'else', 'except', 'finally', 'for', 'from', 'global', 'if', 'import', 'in', 'is', 'lambda', 'nonlocal', 'not', 'or', 'pass', 'raise', 'return', 'try', 'while', 'with', 'yield']\n"
     ]
    }
   ],
   "source": [
    "print(keyword.kwlist)"
   ]
  },
  {
   "cell_type": "code",
   "execution_count": 3,
   "id": "9e9c30cb-2459-4f66-9966-cf8d48f83e96",
   "metadata": {},
   "outputs": [],
   "source": [
    "#Boolean Expression"
   ]
  },
  {
   "cell_type": "code",
   "execution_count": 5,
   "id": "2f3f0ccb-5fac-4829-aba6-81ad0677bffb",
   "metadata": {},
   "outputs": [
    {
     "data": {
      "text/plain": [
       "False"
      ]
     },
     "execution_count": 5,
     "metadata": {},
     "output_type": "execute_result"
    }
   ],
   "source": [
    "True and False\n"
   ]
  },
  {
   "cell_type": "code",
   "execution_count": 6,
   "id": "dfadf7b8-6976-45d9-8fec-e96bac50c3d7",
   "metadata": {},
   "outputs": [
    {
     "data": {
      "text/plain": [
       "True"
      ]
     },
     "execution_count": 6,
     "metadata": {},
     "output_type": "execute_result"
    }
   ],
   "source": [
    "True and True\n"
   ]
  },
  {
   "cell_type": "code",
   "execution_count": 8,
   "id": "4829a0ee-cb4e-4ab8-9fe2-5d56c9adfeb0",
   "metadata": {},
   "outputs": [
    {
     "data": {
      "text/plain": [
       "True"
      ]
     },
     "execution_count": 8,
     "metadata": {},
     "output_type": "execute_result"
    }
   ],
   "source": [
    "True or False"
   ]
  },
  {
   "cell_type": "code",
   "execution_count": 9,
   "id": "0e054b15-eaa3-4147-9915-0c231e1913a5",
   "metadata": {},
   "outputs": [],
   "source": [
    "#the difference between and/or\n"
   ]
  },
  {
   "cell_type": "code",
   "execution_count": 10,
   "id": "8c631b42-633d-44e9-abc3-b3cf49e70a0e",
   "metadata": {},
   "outputs": [
    {
     "data": {
      "text/plain": [
       "False"
      ]
     },
     "execution_count": 10,
     "metadata": {},
     "output_type": "execute_result"
    }
   ],
   "source": [
    "\n",
    "not True"
   ]
  },
  {
   "cell_type": "code",
   "execution_count": 11,
   "id": "5941eed2-b1ea-49ea-8fbd-a8991d4ca2a0",
   "metadata": {},
   "outputs": [
    {
     "data": {
      "text/plain": [
       "True"
      ]
     },
     "execution_count": 11,
     "metadata": {},
     "output_type": "execute_result"
    }
   ],
   "source": [
    "\n",
    "not False"
   ]
  },
  {
   "cell_type": "code",
   "execution_count": 12,
   "id": "cebb46fd-f4c4-46c7-80b6-81d610b0ee7d",
   "metadata": {},
   "outputs": [
    {
     "data": {
      "text/plain": [
       "True"
      ]
     },
     "execution_count": 12,
     "metadata": {},
     "output_type": "execute_result"
    }
   ],
   "source": [
    "True is True"
   ]
  },
  {
   "cell_type": "code",
   "execution_count": 13,
   "id": "c48391a4-96ef-4a0c-b2dd-8565e63fe952",
   "metadata": {},
   "outputs": [
    {
     "name": "stderr",
     "output_type": "stream",
     "text": [
      "<>:1: SyntaxWarning: \"is\" with 'str' literal. Did you mean \"==\"?\n",
      "<>:1: SyntaxWarning: \"is\" with 'str' literal. Did you mean \"==\"?\n",
      "C:\\Users\\admin\\AppData\\Local\\Temp\\ipykernel_14612\\4173413985.py:1: SyntaxWarning: \"is\" with 'str' literal. Did you mean \"==\"?\n",
      "  'a' is 'b'\n"
     ]
    },
    {
     "data": {
      "text/plain": [
       "False"
      ]
     },
     "execution_count": 13,
     "metadata": {},
     "output_type": "execute_result"
    }
   ],
   "source": [
    "'a' is 'b'"
   ]
  },
  {
   "cell_type": "code",
   "execution_count": 14,
   "id": "3150c427-fd25-4cf6-a82e-ba37bf96eaa1",
   "metadata": {},
   "outputs": [],
   "source": [
    "#True=1\n",
    "#False=0"
   ]
  },
  {
   "cell_type": "code",
   "execution_count": 15,
   "id": "3f72a4ff-8a00-4723-9105-558fb3c4f06e",
   "metadata": {},
   "outputs": [
    {
     "data": {
      "text/plain": [
       "2"
      ]
     },
     "execution_count": 15,
     "metadata": {},
     "output_type": "execute_result"
    }
   ],
   "source": [
    "True + True"
   ]
  },
  {
   "cell_type": "code",
   "execution_count": 16,
   "id": "15532d05-c1f1-4d61-972c-d7dca7660b0e",
   "metadata": {},
   "outputs": [
    {
     "data": {
      "text/plain": [
       "1"
      ]
     },
     "execution_count": 16,
     "metadata": {},
     "output_type": "execute_result"
    }
   ],
   "source": [
    "True + False"
   ]
  },
  {
   "cell_type": "code",
   "execution_count": 17,
   "id": "535b14c4-9f0d-4192-9c84-ea6c36d5bae6",
   "metadata": {},
   "outputs": [
    {
     "data": {
      "text/plain": [
       "0"
      ]
     },
     "execution_count": 17,
     "metadata": {},
     "output_type": "execute_result"
    }
   ],
   "source": [
    "False + False"
   ]
  },
  {
   "cell_type": "code",
   "execution_count": 18,
   "id": "f7ffb19a-7d74-4c2b-9317-7bc736fa06c4",
   "metadata": {},
   "outputs": [
    {
     "data": {
      "text/plain": [
       "0"
      ]
     },
     "execution_count": 18,
     "metadata": {},
     "output_type": "execute_result"
    }
   ],
   "source": [
    "\n",
    "False - False"
   ]
  },
  {
   "cell_type": "code",
   "execution_count": 19,
   "id": "e080910a-9714-4a8e-81bf-58374c55b3bf",
   "metadata": {},
   "outputs": [
    {
     "data": {
      "text/plain": [
       "-1"
      ]
     },
     "execution_count": 19,
     "metadata": {},
     "output_type": "execute_result"
    }
   ],
   "source": [
    "False-True"
   ]
  },
  {
   "cell_type": "code",
   "execution_count": 22,
   "id": "ade9304e-5b3e-4105-bc73-e3664a6a1ec9",
   "metadata": {},
   "outputs": [],
   "source": [
    "#Also,\n",
    "# (is)  and  (==) is same  i.e      == Means eqaul to"
   ]
  },
  {
   "cell_type": "code",
   "execution_count": 21,
   "id": "a16ebba3-cb01-4d07-a2b3-3d80941a6248",
   "metadata": {},
   "outputs": [
    {
     "data": {
      "text/plain": [
       "True"
      ]
     },
     "execution_count": 21,
     "metadata": {},
     "output_type": "execute_result"
    }
   ],
   "source": [
    "10<=10"
   ]
  },
  {
   "cell_type": "code",
   "execution_count": 23,
   "id": "a2fe6106-c98e-41aa-985a-f9c91b4549c7",
   "metadata": {},
   "outputs": [
    {
     "data": {
      "text/plain": [
       "True"
      ]
     },
     "execution_count": 23,
     "metadata": {},
     "output_type": "execute_result"
    }
   ],
   "source": [
    "\n",
    "10==10"
   ]
  },
  {
   "cell_type": "code",
   "execution_count": 24,
   "id": "c511a1af-8c0b-407b-b234-eeba833bd026",
   "metadata": {},
   "outputs": [
    {
     "data": {
      "text/plain": [
       "True"
      ]
     },
     "execution_count": 24,
     "metadata": {},
     "output_type": "execute_result"
    }
   ],
   "source": [
    "True and False or True"
   ]
  },
  {
   "cell_type": "code",
   "execution_count": 25,
   "id": "90922b7f-3cc1-466b-9634-60ff7fb58eef",
   "metadata": {},
   "outputs": [],
   "source": [
    "#Data types and their types\n",
    "# 1- Numbers/Integer\n",
    "# 2-String\n",
    "# 3-List\n",
    "# 4-Tuple\n",
    "# 5-Set\n",
    "# 6-Dictionary\n"
   ]
  },
  {
   "cell_type": "markdown",
   "id": "4fc8c379-060b-4e4e-8d65-01076e027462",
   "metadata": {},
   "source": [
    "#lets start with integers\n"
   ]
  },
  {
   "cell_type": "code",
   "execution_count": 27,
   "id": "adec90f9-b37c-44db-81b2-97b2a0d0cfda",
   "metadata": {},
   "outputs": [],
   "source": [
    "x=30"
   ]
  },
  {
   "cell_type": "code",
   "execution_count": 28,
   "id": "62049bde-1d6e-4588-a1c2-e3de9d02566d",
   "metadata": {},
   "outputs": [],
   "source": [
    "# x is variable\n",
    "# 30 is Data"
   ]
  },
  {
   "cell_type": "code",
   "execution_count": 29,
   "id": "7fa18d53-64c0-4a34-8abc-e3b8ba72136b",
   "metadata": {},
   "outputs": [],
   "source": [
    "#To check the data type of x"
   ]
  },
  {
   "cell_type": "code",
   "execution_count": 30,
   "id": "a15873dd-2711-47a6-8dc9-7a5a20f011f1",
   "metadata": {},
   "outputs": [
    {
     "data": {
      "text/plain": [
       "int"
      ]
     },
     "execution_count": 30,
     "metadata": {},
     "output_type": "execute_result"
    }
   ],
   "source": [
    "type(x)"
   ]
  },
  {
   "cell_type": "code",
   "execution_count": 31,
   "id": "197bd109-dae1-4a85-855c-dcabdc1f8333",
   "metadata": {},
   "outputs": [],
   "source": [
    "x=35.7"
   ]
  },
  {
   "cell_type": "code",
   "execution_count": 32,
   "id": "7e03a495-5fa4-4a6d-afc2-fc6c5cf8049d",
   "metadata": {},
   "outputs": [
    {
     "data": {
      "text/plain": [
       "35.7"
      ]
     },
     "execution_count": 32,
     "metadata": {},
     "output_type": "execute_result"
    }
   ],
   "source": [
    "x"
   ]
  },
  {
   "cell_type": "code",
   "execution_count": 33,
   "id": "fd1fd35d-6a4a-4c26-859a-a32cbe76b69f",
   "metadata": {},
   "outputs": [
    {
     "data": {
      "text/plain": [
       "float"
      ]
     },
     "execution_count": 33,
     "metadata": {},
     "output_type": "execute_result"
    }
   ],
   "source": [
    "type(x)"
   ]
  },
  {
   "cell_type": "code",
   "execution_count": 34,
   "id": "6c23937a-b1f6-460b-a77d-665f464dbb45",
   "metadata": {},
   "outputs": [],
   "source": [
    "#Lets do some simple Maths operations\n"
   ]
  },
  {
   "cell_type": "code",
   "execution_count": 35,
   "id": "fee993a1-e7f6-419e-b44c-974b196e1b4f",
   "metadata": {},
   "outputs": [],
   "source": [
    "x=7+8\n"
   ]
  },
  {
   "cell_type": "code",
   "execution_count": 36,
   "id": "91d7e089-da15-4ccd-a69a-b344c0e75946",
   "metadata": {},
   "outputs": [
    {
     "data": {
      "text/plain": [
       "15"
      ]
     },
     "execution_count": 36,
     "metadata": {},
     "output_type": "execute_result"
    }
   ],
   "source": [
    "x"
   ]
  },
  {
   "cell_type": "code",
   "execution_count": 37,
   "id": "5be2b28c-935f-4343-8ff7-880126219cda",
   "metadata": {},
   "outputs": [],
   "source": [
    "p=90\n",
    "q=76"
   ]
  },
  {
   "cell_type": "code",
   "execution_count": 38,
   "id": "70f03747-ffaa-4f1a-8d7e-3ce1e4838634",
   "metadata": {},
   "outputs": [],
   "source": [
    "r=p+q"
   ]
  },
  {
   "cell_type": "code",
   "execution_count": 39,
   "id": "d85bdf23-6d23-4e73-8642-592a227b80a8",
   "metadata": {},
   "outputs": [
    {
     "data": {
      "text/plain": [
       "166"
      ]
     },
     "execution_count": 39,
     "metadata": {},
     "output_type": "execute_result"
    }
   ],
   "source": [
    "r"
   ]
  },
  {
   "cell_type": "code",
   "execution_count": 40,
   "id": "b04500ef-fc3e-4c63-b0ec-476e49a73c48",
   "metadata": {},
   "outputs": [
    {
     "name": "stdout",
     "output_type": "stream",
     "text": [
      "332\n"
     ]
    }
   ],
   "source": [
    "print(r*2)"
   ]
  },
  {
   "cell_type": "code",
   "execution_count": null,
   "id": "ff2914ad-cf36-4626-812b-933170967f15",
   "metadata": {},
   "outputs": [],
   "source": []
  }
 ],
 "metadata": {
  "kernelspec": {
   "display_name": "Python 3 (ipykernel)",
   "language": "python",
   "name": "python3"
  },
  "language_info": {
   "codemirror_mode": {
    "name": "ipython",
    "version": 3
   },
   "file_extension": ".py",
   "mimetype": "text/x-python",
   "name": "python",
   "nbconvert_exporter": "python",
   "pygments_lexer": "ipython3",
   "version": "3.12.7"
  }
 },
 "nbformat": 4,
 "nbformat_minor": 5
}
