{
 "cells": [
  {
   "cell_type": "code",
   "execution_count": 1,
   "id": "f18dcb8c-da34-422b-b5d4-82f58f2ab7a8",
   "metadata": {},
   "outputs": [],
   "source": [
    "#1. Create a pandas DataFrame from the following dictionary and display it: data = {'Name': ['Alice', 'Bob', 'Charlie'], 'Age': [25, 30, 35], 'City': ['New York', 'Paris', 'London']} df = \n",
    "import pandas as pd\n",
    "\n",
    "data = {'Name': ['Alice', 'Bob', 'Charlie'],\n",
    "        'Age': [25, 30, 35],\n",
    "        'City': ['NewYork', 'Paris', 'London']}\n",
    "\n",
    "df = pd.DataFrame(data)\n",
    "\n"
   ]
  },
  {
   "cell_type": "code",
   "execution_count": 2,
   "id": "6e43d50d-5c60-4f5b-a999-24a5da4ae58b",
   "metadata": {},
   "outputs": [
    {
     "name": "stdout",
     "output_type": "stream",
     "text": [
      "      Name  Age     City\n",
      "0    Alice   25  NewYork\n",
      "1      Bob   30    Paris\n",
      "2  Charlie   35   London\n"
     ]
    }
   ],
   "source": [
    "print(df)"
   ]
  },
  {
   "cell_type": "code",
   "execution_count": 14,
   "id": "b5bdd722-cad9-4bef-bf70-261cc4f9bbf8",
   "metadata": {},
   "outputs": [
    {
     "data": {
      "text/html": [
       "<div>\n",
       "<style scoped>\n",
       "    .dataframe tbody tr th:only-of-type {\n",
       "        vertical-align: middle;\n",
       "    }\n",
       "\n",
       "    .dataframe tbody tr th {\n",
       "        vertical-align: top;\n",
       "    }\n",
       "\n",
       "    .dataframe thead th {\n",
       "        text-align: right;\n",
       "    }\n",
       "</style>\n",
       "<table border=\"1\" class=\"dataframe\">\n",
       "  <thead>\n",
       "    <tr style=\"text-align: right;\">\n",
       "      <th></th>\n",
       "      <th>Name</th>\n",
       "      <th>Roll_No</th>\n",
       "      <th>Age</th>\n",
       "      <th>Gender</th>\n",
       "      <th>Score</th>\n",
       "      <th>Fail/Pass</th>\n",
       "    </tr>\n",
       "  </thead>\n",
       "  <tbody>\n",
       "    <tr>\n",
       "      <th>0</th>\n",
       "      <td>Student_1</td>\n",
       "      <td>R001</td>\n",
       "      <td>20</td>\n",
       "      <td>Female</td>\n",
       "      <td>66</td>\n",
       "      <td>Fail</td>\n",
       "    </tr>\n",
       "    <tr>\n",
       "      <th>1</th>\n",
       "      <td>Student_2</td>\n",
       "      <td>R002</td>\n",
       "      <td>24</td>\n",
       "      <td>Other</td>\n",
       "      <td>95</td>\n",
       "      <td>Fail</td>\n",
       "    </tr>\n",
       "    <tr>\n",
       "      <th>2</th>\n",
       "      <td>Student_3</td>\n",
       "      <td>R003</td>\n",
       "      <td>25</td>\n",
       "      <td>Male</td>\n",
       "      <td>91</td>\n",
       "      <td>Pass</td>\n",
       "    </tr>\n",
       "    <tr>\n",
       "      <th>3</th>\n",
       "      <td>Student_4</td>\n",
       "      <td>R004</td>\n",
       "      <td>25</td>\n",
       "      <td>Female</td>\n",
       "      <td>77</td>\n",
       "      <td>Pass</td>\n",
       "    </tr>\n",
       "    <tr>\n",
       "      <th>4</th>\n",
       "      <td>Student_5</td>\n",
       "      <td>R005</td>\n",
       "      <td>24</td>\n",
       "      <td>Female</td>\n",
       "      <td>41</td>\n",
       "      <td>Fail</td>\n",
       "    </tr>\n",
       "  </tbody>\n",
       "</table>\n",
       "</div>"
      ],
      "text/plain": [
       "        Name Roll_No  Age  Gender  Score Fail/Pass\n",
       "0  Student_1    R001   20  Female     66      Fail\n",
       "1  Student_2    R002   24   Other     95      Fail\n",
       "2  Student_3    R003   25    Male     91      Pass\n",
       "3  Student_4    R004   25  Female     77      Pass\n",
       "4  Student_5    R005   24  Female     41      Fail"
      ]
     },
     "execution_count": 14,
     "metadata": {},
     "output_type": "execute_result"
    }
   ],
   "source": [
    "#2. Load a CSV file named data.csv into a DataFrame.df = ?\n",
    "df = pd.read_csv(r'C:\\Users\\SHRI\\Downloads\\student_data.csv')\n",
    "df.head()"
   ]
  },
  {
   "cell_type": "code",
   "execution_count": 15,
   "id": "3bef1d15-1537-4f84-be52-40525b1d8b22",
   "metadata": {},
   "outputs": [
    {
     "name": "stdout",
     "output_type": "stream",
     "text": [
      "         Name Roll_No  Age  Gender  Score Fail/Pass\n",
      "0   Student_1    R001   20  Female     66      Fail\n",
      "1   Student_2    R002   24   Other     95      Fail\n",
      "2   Student_3    R003   25    Male     91      Pass\n",
      "3   Student_4    R004   25  Female     77      Pass\n",
      "4   Student_5    R005   24  Female     41      Fail\n",
      "5   Student_6    R006   25   Other     86      Fail\n",
      "6   Student_7    R007   19   Other      0      Pass\n",
      "7   Student_8    R008   21  Female      7      Fail\n",
      "8   Student_9    R009   21    Male     45      Pass\n",
      "9  Student_10    R010   24  Female     51      Fail\n"
     ]
    }
   ],
   "source": [
    "# 3. Display the first 10 rows of a DataFrame.result = ?\n",
    "\n",
    "result = df.head(10)\n",
    "print(result)\n",
    "result=pd.DataFrame(result)"
   ]
  },
  {
   "cell_type": "code",
   "execution_count": 21,
   "id": "0a50eeb2-1b6e-4605-ba94-35deed258f53",
   "metadata": {},
   "outputs": [
    {
     "name": "stdout",
     "output_type": "stream",
     "text": [
      "      Name  Age\n",
      "0    Alice   25\n",
      "1      Bob   30\n",
      "2  Charlie   35\n"
     ]
    }
   ],
   "source": [
    "\n",
    "#4 Select only the Name and Age columns from the DataFrame.\n",
    " #result = ?\n",
    "\n",
    "dict = {'Name': ['Alice', 'Bob', 'Charlie'], 'Age': [25, 30, 35], 'City': ['New York', 'Paris', 'London']}\n",
    "df = pd.DataFrame(dict)\n",
    "\n",
    "selected_columns = df[['Name', 'Age']]   ## Selects specific columns in dataframe\n",
    "print(selected_columns)"
   ]
  },
  {
   "cell_type": "code",
   "execution_count": 22,
   "id": "86511d45-0e23-4995-b150-f0399ac16e25",
   "metadata": {},
   "outputs": [
    {
     "data": {
      "text/plain": [
       "(50, 6)"
      ]
     },
     "execution_count": 22,
     "metadata": {},
     "output_type": "execute_result"
    }
   ],
   "source": [
    "#5 Find the shape (number of rows and columns) of the DataFrame.\n",
    "#result = ?\n",
    "df = pd.read_csv(r'C:\\Users\\SHRI\\Downloads\\student_data.csv')\n",
    "df.shape"
   ]
  },
  {
   "cell_type": "code",
   "execution_count": 24,
   "id": "b52371cf-16ff-4aa2-bce9-b5f48730f6b3",
   "metadata": {},
   "outputs": [
    {
     "data": {
      "text/plain": [
       "Name         0\n",
       "Roll_No      0\n",
       "Age          0\n",
       "Gender       0\n",
       "Score        0\n",
       "Fail/Pass    0\n",
       "dtype: int64"
      ]
     },
     "execution_count": 24,
     "metadata": {},
     "output_type": "execute_result"
    }
   ],
   "source": [
    "#6 Check if there are any missing values in the DataFrame.\n",
    "# result = ?\n",
    "\n",
    "df = pd.read_csv(r'C:\\Users\\SHRI\\Downloads\\student_data.csv')\n",
    "df.isnull().sum()"
   ]
  },
  {
   "cell_type": "code",
   "execution_count": 25,
   "id": "de895efa-4d10-4101-a7bd-77b381763abb",
   "metadata": {},
   "outputs": [
    {
     "data": {
      "text/html": [
       "<div>\n",
       "<style scoped>\n",
       "    .dataframe tbody tr th:only-of-type {\n",
       "        vertical-align: middle;\n",
       "    }\n",
       "\n",
       "    .dataframe tbody tr th {\n",
       "        vertical-align: top;\n",
       "    }\n",
       "\n",
       "    .dataframe thead th {\n",
       "        text-align: right;\n",
       "    }\n",
       "</style>\n",
       "<table border=\"1\" class=\"dataframe\">\n",
       "  <thead>\n",
       "    <tr style=\"text-align: right;\">\n",
       "      <th></th>\n",
       "      <th>Name</th>\n",
       "      <th>Age</th>\n",
       "      <th>City</th>\n",
       "      <th>Country</th>\n",
       "    </tr>\n",
       "  </thead>\n",
       "  <tbody>\n",
       "    <tr>\n",
       "      <th>0</th>\n",
       "      <td>Alice</td>\n",
       "      <td>25</td>\n",
       "      <td>New York</td>\n",
       "      <td>USA</td>\n",
       "    </tr>\n",
       "    <tr>\n",
       "      <th>1</th>\n",
       "      <td>Bob</td>\n",
       "      <td>30</td>\n",
       "      <td>Paris</td>\n",
       "      <td>USA</td>\n",
       "    </tr>\n",
       "    <tr>\n",
       "      <th>2</th>\n",
       "      <td>Charlie</td>\n",
       "      <td>35</td>\n",
       "      <td>London</td>\n",
       "      <td>USA</td>\n",
       "    </tr>\n",
       "  </tbody>\n",
       "</table>\n",
       "</div>"
      ],
      "text/plain": [
       "      Name  Age      City Country\n",
       "0    Alice   25  New York     USA\n",
       "1      Bob   30     Paris     USA\n",
       "2  Charlie   35    London     USA"
      ]
     },
     "execution_count": 25,
     "metadata": {},
     "output_type": "execute_result"
    }
   ],
   "source": [
    "#7. Add a new column Country to the DataFrame with a default value of 'USA'.\n",
    " #df['Country'] = ?\n",
    "dict = {'Name': ['Alice', 'Bob', 'Charlie'], 'Age': [25, 30, 35], 'City': ['New York', 'Paris', 'London']}\n",
    "df = pd.DataFrame(dict)\n",
    "\n",
    "df['Country'] = 'USA'       \n",
    "df"
   ]
  },
  {
   "cell_type": "code",
   "execution_count": 26,
   "id": "63fb8dab-9dd6-4d21-8f4d-225d0ad2a66b",
   "metadata": {},
   "outputs": [
    {
     "data": {
      "text/html": [
       "<div>\n",
       "<style scoped>\n",
       "    .dataframe tbody tr th:only-of-type {\n",
       "        vertical-align: middle;\n",
       "    }\n",
       "\n",
       "    .dataframe tbody tr th {\n",
       "        vertical-align: top;\n",
       "    }\n",
       "\n",
       "    .dataframe thead th {\n",
       "        text-align: right;\n",
       "    }\n",
       "</style>\n",
       "<table border=\"1\" class=\"dataframe\">\n",
       "  <thead>\n",
       "    <tr style=\"text-align: right;\">\n",
       "      <th></th>\n",
       "      <th>Name</th>\n",
       "      <th>Age</th>\n",
       "    </tr>\n",
       "  </thead>\n",
       "  <tbody>\n",
       "    <tr>\n",
       "      <th>0</th>\n",
       "      <td>Alice</td>\n",
       "      <td>25</td>\n",
       "    </tr>\n",
       "    <tr>\n",
       "      <th>1</th>\n",
       "      <td>Bob</td>\n",
       "      <td>30</td>\n",
       "    </tr>\n",
       "    <tr>\n",
       "      <th>2</th>\n",
       "      <td>Charlie</td>\n",
       "      <td>35</td>\n",
       "    </tr>\n",
       "  </tbody>\n",
       "</table>\n",
       "</div>"
      ],
      "text/plain": [
       "      Name  Age\n",
       "0    Alice   25\n",
       "1      Bob   30\n",
       "2  Charlie   35"
      ]
     },
     "execution_count": 26,
     "metadata": {},
     "output_type": "execute_result"
    }
   ],
   "source": [
    "#8. Delete the City column from the DataFrame.\n",
    "# df = ?\n",
    "dict = {'Name': ['Alice', 'Bob', 'Charlie'], 'Age': [25, 30, 35], 'City': ['New York', 'Paris', 'London']}\n",
    "df = pd.DataFrame(dict)\n",
    "\n",
    "del df['City']      \n",
    "\n",
    "df"
   ]
  },
  {
   "cell_type": "code",
   "execution_count": 23,
   "id": "2f45f5e2-1011-481c-95db-e1dd6cc27363",
   "metadata": {},
   "outputs": [
    {
     "name": "stdout",
     "output_type": "stream",
     "text": [
      "         Name Roll_No  Age  Gender  Score Fail/Pass Age_Group date_of_join\n",
      "5   Student_6    R006   40   Other     86      Fail       Old   2023-11-06\n",
      "2   Student_3    R003   35    Male     91      Pass       Old   2023-11-03\n",
      "9  Student_10    R010   34  Female     51      Fail       Old   2023-11-10\n",
      "7   Student_8    R008   34  Female      7      Fail       Old   2023-11-08\n",
      "4   Student_5    R005   34  Female     41      Fail       Old   2023-11-05\n",
      "1   Student_2    R002   30   Other     95      Fail     Young   2023-11-02\n",
      "3   Student_4    R004   28  Female     77      Pass     Young   2023-11-04\n",
      "6   Student_7    R007   26   Other      0      Pass     Young   2023-11-07\n",
      "0   Student_1    R001   25  Female     66      Fail     Young   2023-11-01\n",
      "8   Student_9    R009   25    Male     45      Pass     Young   2023-11-09\n"
     ]
    }
   ],
   "source": [
    "#13. Sort the DataFrame by the Age column in descending order.sorted_df = ?\n",
    "\n",
    "sorted_result = result.sort_values(by='Age', ascending=False)\n",
    "print(sorted_result)"
   ]
  },
  {
   "cell_type": "code",
   "execution_count": 27,
   "id": "b0f26a0c-f750-4bc2-bdd4-28e6ca17226d",
   "metadata": {},
   "outputs": [
    {
     "data": {
      "text/plain": [
       "array(['New York', 'Paris'], dtype=object)"
      ]
     },
     "execution_count": 27,
     "metadata": {},
     "output_type": "execute_result"
    }
   ],
   "source": [
    "#15. Find the unique values in the City column.\n",
    "# unique_cities = ?\n",
    "dict = {'Name': ['Alice', 'Bob', 'Charlie'], 'Age': [25, 30, 35], 'City': ['New York', 'Paris', 'Paris']}\n",
    "df = pd.DataFrame(dict)\n",
    "\n",
    "df['City'].unique()   "
   ]
  },
  {
   "cell_type": "code",
   "execution_count": 28,
   "id": "1dcfae1e-4347-4446-b070-b4cf48ad430c",
   "metadata": {},
   "outputs": [
    {
     "data": {
      "text/plain": [
       "City\n",
       "Paris       2\n",
       "New York    1\n",
       "Name: count, dtype: int64"
      ]
     },
     "execution_count": 28,
     "metadata": {},
     "output_type": "execute_result"
    }
   ],
   "source": [
    "#16. Count the occurrences of each unique value in the City column.\n",
    "# city_counts = ?\n",
    "\n",
    "dict = {'Name': ['Alice', 'Bob', 'Charlie'], 'Age': [25, 30, 35], 'City': ['New York', 'Paris', 'Paris']}\n",
    "df = pd.DataFrame(dict)\n",
    "\n",
    "city_counts = df['City'].value_counts()         \n",
    "city_counts"
   ]
  },
  {
   "cell_type": "code",
   "execution_count": 30,
   "id": "3cecbaf2-ad14-4706-831a-ea81976ebccd",
   "metadata": {},
   "outputs": [
    {
     "data": {
      "text/html": [
       "<div>\n",
       "<style scoped>\n",
       "    .dataframe tbody tr th:only-of-type {\n",
       "        vertical-align: middle;\n",
       "    }\n",
       "\n",
       "    .dataframe tbody tr th {\n",
       "        vertical-align: top;\n",
       "    }\n",
       "\n",
       "    .dataframe thead th {\n",
       "        text-align: right;\n",
       "    }\n",
       "</style>\n",
       "<table border=\"1\" class=\"dataframe\">\n",
       "  <thead>\n",
       "    <tr style=\"text-align: right;\">\n",
       "      <th></th>\n",
       "      <th>ID</th>\n",
       "      <th>Name</th>\n",
       "      <th>Score</th>\n",
       "    </tr>\n",
       "  </thead>\n",
       "  <tbody>\n",
       "    <tr>\n",
       "      <th>0</th>\n",
       "      <td>2</td>\n",
       "      <td>Meena</td>\n",
       "      <td>90</td>\n",
       "    </tr>\n",
       "    <tr>\n",
       "      <th>1</th>\n",
       "      <td>3</td>\n",
       "      <td>Meera</td>\n",
       "      <td>91</td>\n",
       "    </tr>\n",
       "  </tbody>\n",
       "</table>\n",
       "</div>"
      ],
      "text/plain": [
       "   ID   Name  Score\n",
       "0   2  Meena     90\n",
       "1   3  Meera     91"
      ]
     },
     "execution_count": 30,
     "metadata": {},
     "output_type": "execute_result"
    }
   ],
   "source": [
    "#18. Merge two DataFrames df1 and df2 on a common column, ID.\n",
    "# result = ?\n",
    "import pandas as pd\n",
    "\n",
    "df1 = pd.DataFrame({'ID': [1, 2, 3],'Name': ['Manisha', 'Meena', 'Meera']})\n",
    "df2 = pd.DataFrame({'ID': [2, 3, 4],'Score': [90, 91, 92]})\n",
    "\n",
    "merge = pd.merge(df1, df2, on='ID')             \n",
    "merge\n"
   ]
  },
  {
   "cell_type": "code",
   "execution_count": 32,
   "id": "c46d1b1a-313d-489b-a1c4-3b34519cbebc",
   "metadata": {},
   "outputs": [
    {
     "data": {
      "text/html": [
       "<div>\n",
       "<style scoped>\n",
       "    .dataframe tbody tr th:only-of-type {\n",
       "        vertical-align: middle;\n",
       "    }\n",
       "\n",
       "    .dataframe tbody tr th {\n",
       "        vertical-align: top;\n",
       "    }\n",
       "\n",
       "    .dataframe thead th {\n",
       "        text-align: right;\n",
       "    }\n",
       "</style>\n",
       "<table border=\"1\" class=\"dataframe\">\n",
       "  <thead>\n",
       "    <tr style=\"text-align: right;\">\n",
       "      <th></th>\n",
       "      <th>Name</th>\n",
       "      <th>Age</th>\n",
       "      <th>ID</th>\n",
       "    </tr>\n",
       "  </thead>\n",
       "  <tbody>\n",
       "    <tr>\n",
       "      <th>0</th>\n",
       "      <td>Manisha</td>\n",
       "      <td>23.0</td>\n",
       "      <td>1.0</td>\n",
       "    </tr>\n",
       "  </tbody>\n",
       "</table>\n",
       "</div>"
      ],
      "text/plain": [
       "      Name   Age   ID\n",
       "0  Manisha  23.0  1.0"
      ]
     },
     "execution_count": 32,
     "metadata": {},
     "output_type": "execute_result"
    }
   ],
   "source": [
    "#20. Drop all rows with missing values in the DataFrame.\n",
    "#cleaned_df = ?\n",
    "import pandas as pd\n",
    "import numpy as np\n",
    "\n",
    "df = pd.DataFrame({'Name':['Manisha','Meena',np.nan], 'Age':[23,34,np.nan],'ID':[1, np.nan, 9]})\n",
    "\n",
    "df = df.dropna()        ## Drops data containg null values\n",
    "df"
   ]
  },
  {
   "cell_type": "code",
   "execution_count": 33,
   "id": "1179e3f0-59cd-4b94-9d0b-339dc8158c81",
   "metadata": {},
   "outputs": [
    {
     "name": "stdout",
     "output_type": "stream",
     "text": [
      "        date\n",
      "0 2023-01-01\n",
      "1 2023-02-01\n",
      "2 2023-03-01\n"
     ]
    }
   ],
   "source": [
    "#21. Convert a column date with string values like \"2023-01-01\" into pandas datetime objects.\n",
    "# df['date'] = ?\n",
    "import pandas as pd\n",
    "\n",
    "# Example DataFrame with date as string\n",
    "data = {'date': ['2023-01-01', '2023-02-01', '2023-03-01']}\n",
    "df = pd.DataFrame(data)\n",
    "\n",
    "# Convert the 'date' column to pandas datetime objects\n",
    "df['date'] = pd.to_datetime(df['date'])\n",
    "\n",
    "print(df)"
   ]
  },
  {
   "cell_type": "code",
   "execution_count": 34,
   "id": "bbf0c764-df9e-45fb-ba55-5f78f2d829b0",
   "metadata": {},
   "outputs": [
    {
     "data": {
      "text/html": [
       "<div>\n",
       "<style scoped>\n",
       "    .dataframe tbody tr th:only-of-type {\n",
       "        vertical-align: middle;\n",
       "    }\n",
       "\n",
       "    .dataframe tbody tr th {\n",
       "        vertical-align: top;\n",
       "    }\n",
       "\n",
       "    .dataframe thead th {\n",
       "        text-align: right;\n",
       "    }\n",
       "</style>\n",
       "<table border=\"1\" class=\"dataframe\">\n",
       "  <thead>\n",
       "    <tr style=\"text-align: right;\">\n",
       "      <th></th>\n",
       "      <th>Date</th>\n",
       "      <th>year</th>\n",
       "      <th>month</th>\n",
       "      <th>day</th>\n",
       "    </tr>\n",
       "  </thead>\n",
       "  <tbody>\n",
       "    <tr>\n",
       "      <th>0</th>\n",
       "      <td>1989-11-05</td>\n",
       "      <td>1989</td>\n",
       "      <td>11</td>\n",
       "      <td>5</td>\n",
       "    </tr>\n",
       "    <tr>\n",
       "      <th>1</th>\n",
       "      <td>1989-11-06</td>\n",
       "      <td>1989</td>\n",
       "      <td>11</td>\n",
       "      <td>6</td>\n",
       "    </tr>\n",
       "    <tr>\n",
       "      <th>2</th>\n",
       "      <td>1989-11-07</td>\n",
       "      <td>1989</td>\n",
       "      <td>11</td>\n",
       "      <td>7</td>\n",
       "    </tr>\n",
       "    <tr>\n",
       "      <th>3</th>\n",
       "      <td>1989-11-08</td>\n",
       "      <td>1989</td>\n",
       "      <td>11</td>\n",
       "      <td>8</td>\n",
       "    </tr>\n",
       "    <tr>\n",
       "      <th>4</th>\n",
       "      <td>1989-11-09</td>\n",
       "      <td>1989</td>\n",
       "      <td>11</td>\n",
       "      <td>9</td>\n",
       "    </tr>\n",
       "    <tr>\n",
       "      <th>5</th>\n",
       "      <td>1989-11-10</td>\n",
       "      <td>1989</td>\n",
       "      <td>11</td>\n",
       "      <td>10</td>\n",
       "    </tr>\n",
       "    <tr>\n",
       "      <th>6</th>\n",
       "      <td>1989-11-11</td>\n",
       "      <td>1989</td>\n",
       "      <td>11</td>\n",
       "      <td>11</td>\n",
       "    </tr>\n",
       "    <tr>\n",
       "      <th>7</th>\n",
       "      <td>1989-11-12</td>\n",
       "      <td>1989</td>\n",
       "      <td>11</td>\n",
       "      <td>12</td>\n",
       "    </tr>\n",
       "  </tbody>\n",
       "</table>\n",
       "</div>"
      ],
      "text/plain": [
       "        Date  year  month  day\n",
       "0 1989-11-05  1989     11    5\n",
       "1 1989-11-06  1989     11    6\n",
       "2 1989-11-07  1989     11    7\n",
       "3 1989-11-08  1989     11    8\n",
       "4 1989-11-09  1989     11    9\n",
       "5 1989-11-10  1989     11   10\n",
       "6 1989-11-11  1989     11   11\n",
       "7 1989-11-12  1989     11   12"
      ]
     },
     "execution_count": 34,
     "metadata": {},
     "output_type": "execute_result"
    }
   ],
   "source": [
    "#22. Extract the year, month, and day from the date column and add them as new columns.\n",
    " #df['year'] = ?\n",
    " #df['month'] = ?\n",
    " #df['day'] = ?\n",
    "date_range=pd.date_range('11/05/1989',periods=8)        \n",
    "dates=pd.DataFrame(date_range,columns=['Date'])\n",
    "\n",
    "dates['year']=dates['Date'].dt.year                      \n",
    "dates['month']=dates['Date'].dt.month\n",
    "dates['day']=dates['Date'].dt.day\n",
    "\n",
    "dates"
   ]
  },
  {
   "cell_type": "code",
   "execution_count": 35,
   "id": "b2ec5b19-b230-4728-97df-219b6478a4e0",
   "metadata": {},
   "outputs": [
    {
     "name": "stdout",
     "output_type": "stream",
     "text": [
      "  start_date   end_date  days_difference\n",
      "0 2024-01-01 2024-01-10                9\n",
      "1 2024-05-01 2024-05-15               14\n",
      "2 2024-11-15 2024-11-25               10\n"
     ]
    }
   ],
   "source": [
    "#24. Calculate the time difference in days between two columns, start_date and end_date.\n",
    "# df['days_difference'] = ?\n",
    "\n",
    "import pandas as pd\n",
    "\n",
    "# Create a DataFrame\n",
    "data = {'start_date': ['2024-01-01', '2024-05-01', '2024-11-15'],\n",
    "        'end_date': ['2024-01-10', '2024-05-15', '2024-11-25']}\n",
    "\n",
    "df = pd.DataFrame(data)\n",
    "df['start_date'] = pd.to_datetime(df['start_date'])\n",
    "df['end_date'] = pd.to_datetime(df['end_date'])\n",
    "\n",
    "# Calculate the time difference in days\n",
    "df['days_difference'] = (df['end_date'] - df['start_date']).dt.days\n",
    "\n",
    "print(df)"
   ]
  },
  {
   "cell_type": "code",
   "execution_count": 36,
   "id": "109ba478-6c2f-4f82-914d-713f34b4ad31",
   "metadata": {},
   "outputs": [
    {
     "name": "stdout",
     "output_type": "stream",
     "text": [
      "   year  sales\n",
      "0  2021    100\n",
      "1  2022    350\n",
      "2  2023    250\n"
     ]
    }
   ],
   "source": [
    "#25. Group data by the year from the date column and calculate the total sales for each year.\n",
    "# grouped = ?\n",
    "\n",
    "import pandas as pd\n",
    "\n",
    "# Example DataFrame\n",
    "data = {'date': ['2021-05-01', '2022-03-15', '2022-07-20', '2023-01-10'],\n",
    "        'sales': [100, 200, 150, 250]}\n",
    "\n",
    "df = pd.DataFrame(data)\n",
    "df['date'] = pd.to_datetime(df['date'])\n",
    "\n",
    "# Extract the year from the date column\n",
    "df['year'] = df['date'].dt.year\n",
    "\n",
    "# Group by the year and calculate the total sales for each year\n",
    "grouped = df.groupby('year')['sales'].sum().reset_index()\n",
    "\n",
    "print(grouped)"
   ]
  },
  {
   "cell_type": "code",
   "execution_count": 37,
   "id": "af4d69ef-dc9f-4629-a48a-a76e68155f4b",
   "metadata": {},
   "outputs": [
    {
     "data": {
      "text/plain": [
       "np.float64(175.0)"
      ]
     },
     "execution_count": 37,
     "metadata": {},
     "output_type": "execute_result"
    }
   ],
   "source": [
    "#26. Group the DataFrame by category and calculate the mean of the sales column.\n",
    " #grouped = ?\n",
    "\n",
    "data = {'date': ['2021-05-01', '2022-03-15', '2022-07-20', '2023-01-10'],\n",
    "        'sales': [100, 200, 150, 250]}\n",
    "\n",
    "df['sales'].mean() "
   ]
  },
  {
   "cell_type": "code",
   "execution_count": 38,
   "id": "ac82623d-a872-4207-a80e-6fed1e337ae7",
   "metadata": {},
   "outputs": [
    {
     "name": "stdout",
     "output_type": "stream",
     "text": [
      "region  category\n",
      "India   B           450\n",
      "Russia  A           550\n",
      "Name: sales, dtype: int64\n"
     ]
    }
   ],
   "source": [
    "#27. Use multiple columns (region, category) to group the data and find the sum of the sales column.\n",
    "# grouped = ?\n",
    "import pandas as pd\n",
    "\n",
    "# Create a DataFrame\n",
    "data = {'region': ['Russia', 'India', 'Russia', 'India', 'Russia'],'category': ['A', 'B', 'A', 'B', 'A'],\n",
    "        'sales': [100, 200, 150, 250, 300]}\n",
    "\n",
    "df = pd.DataFrame(data)\n",
    "\n",
    "# Group by 'region' and 'category' and calculate the sum of sales\n",
    "grouped = df.groupby(['region', 'category'])['sales'].sum()\n",
    "\n",
    "print(grouped)\n"
   ]
  },
  {
   "cell_type": "code",
   "execution_count": 39,
   "id": "c5ef6fb0-8684-4bbe-9718-0e90c881c5a9",
   "metadata": {},
   "outputs": [
    {
     "name": "stdout",
     "output_type": "stream",
     "text": [
      "region\n",
      "East    9500\n",
      "West    8000\n",
      "Name: sales, dtype: int64\n"
     ]
    }
   ],
   "source": [
    "#28. After grouping by region, filter groups where the total sales are greater than 5000.\n",
    "# filtered_groups = ?\n",
    "\n",
    "import pandas as pd\n",
    "\n",
    "# Create a DataFrame\n",
    "data = {'region': ['North', 'South', 'East', 'West'],'sales': [1000, 2000, 9500, 8000]}\n",
    "\n",
    "df = pd.DataFrame(data)\n",
    "\n",
    "# Group by 'region' and calculate the total sales\n",
    "grouped = df.groupby('region')['sales'].sum()\n",
    "\n",
    "# Filter groups where total sales are greater than 5000\n",
    "filtered_groups = grouped[grouped > 5000]\n",
    "\n",
    "print(filtered_groups)"
   ]
  },
  {
   "cell_type": "code",
   "execution_count": 42,
   "id": "8c8af074-ea1a-48a9-8288-f6fd32f197c9",
   "metadata": {},
   "outputs": [
    {
     "name": "stdout",
     "output_type": "stream",
     "text": [
      "    name  age\n",
      "0  Meena   21\n",
      "1  Meera   22\n"
     ]
    }
   ],
   "source": [
    "#32\n",
    "import pandas as pd\n",
    "\n",
    "df = pd.DataFrame({'name': ['Meena', 'Meera', 'Meesha'],'age': [21, 22, 23]})\n",
    "\n",
    "# Select all rows and 2 columns\n",
    "subset = df.iloc[:2]\n",
    "\n",
    "print(subset)"
   ]
  },
  {
   "cell_type": "code",
   "execution_count": 43,
   "id": "34433d9b-d74c-4489-bf68-522c5c188c27",
   "metadata": {},
   "outputs": [
    {
     "name": "stdout",
     "output_type": "stream",
     "text": [
      "     name  age\n",
      "0  Meesha   23\n",
      "1   Meera   22\n",
      "2   Meena   21\n"
     ]
    }
   ],
   "source": [
    "#34\n",
    "import pandas as pd\n",
    "\n",
    "df = pd.DataFrame({'name': ['Meena', 'Meera', 'Meesha'],'age': [21, 22, 23]})\n",
    "\n",
    "reversed_df = df.iloc[::-1].reset_index(drop=True)\n",
    "\n",
    "print(reversed_df)"
   ]
  },
  {
   "cell_type": "code",
   "execution_count": 46,
   "id": "7ce55414-b3f7-4af7-abb0-eee64b4e7b8e",
   "metadata": {},
   "outputs": [
    {
     "data": {
      "text/html": [
       "<div>\n",
       "<style scoped>\n",
       "    .dataframe tbody tr th:only-of-type {\n",
       "        vertical-align: middle;\n",
       "    }\n",
       "\n",
       "    .dataframe tbody tr th {\n",
       "        vertical-align: top;\n",
       "    }\n",
       "\n",
       "    .dataframe thead th {\n",
       "        text-align: right;\n",
       "    }\n",
       "</style>\n",
       "<table border=\"1\" class=\"dataframe\">\n",
       "  <thead>\n",
       "    <tr style=\"text-align: right;\">\n",
       "      <th></th>\n",
       "      <th>Name</th>\n",
       "      <th>Roll_No</th>\n",
       "      <th>Years</th>\n",
       "      <th>Gender</th>\n",
       "      <th>Score</th>\n",
       "      <th>Fail/Pass</th>\n",
       "      <th>Age_Group</th>\n",
       "      <th>date_of_join</th>\n",
       "    </tr>\n",
       "  </thead>\n",
       "  <tbody>\n",
       "    <tr>\n",
       "      <th>0</th>\n",
       "      <td>Student_1</td>\n",
       "      <td>R001</td>\n",
       "      <td>25</td>\n",
       "      <td>Female</td>\n",
       "      <td>66</td>\n",
       "      <td>Fail</td>\n",
       "      <td>Young</td>\n",
       "      <td>2023-11-01</td>\n",
       "    </tr>\n",
       "    <tr>\n",
       "      <th>1</th>\n",
       "      <td>Student_2</td>\n",
       "      <td>R002</td>\n",
       "      <td>30</td>\n",
       "      <td>Other</td>\n",
       "      <td>95</td>\n",
       "      <td>Fail</td>\n",
       "      <td>Young</td>\n",
       "      <td>2023-11-02</td>\n",
       "    </tr>\n",
       "    <tr>\n",
       "      <th>2</th>\n",
       "      <td>Student_3</td>\n",
       "      <td>R003</td>\n",
       "      <td>35</td>\n",
       "      <td>Male</td>\n",
       "      <td>91</td>\n",
       "      <td>Pass</td>\n",
       "      <td>Old</td>\n",
       "      <td>2023-11-03</td>\n",
       "    </tr>\n",
       "    <tr>\n",
       "      <th>3</th>\n",
       "      <td>Student_4</td>\n",
       "      <td>R004</td>\n",
       "      <td>28</td>\n",
       "      <td>Female</td>\n",
       "      <td>77</td>\n",
       "      <td>Pass</td>\n",
       "      <td>Young</td>\n",
       "      <td>2023-11-04</td>\n",
       "    </tr>\n",
       "    <tr>\n",
       "      <th>4</th>\n",
       "      <td>Student_5</td>\n",
       "      <td>R005</td>\n",
       "      <td>34</td>\n",
       "      <td>Female</td>\n",
       "      <td>41</td>\n",
       "      <td>Fail</td>\n",
       "      <td>Old</td>\n",
       "      <td>2023-11-05</td>\n",
       "    </tr>\n",
       "    <tr>\n",
       "      <th>5</th>\n",
       "      <td>Student_6</td>\n",
       "      <td>R006</td>\n",
       "      <td>40</td>\n",
       "      <td>Other</td>\n",
       "      <td>86</td>\n",
       "      <td>Fail</td>\n",
       "      <td>Old</td>\n",
       "      <td>2023-11-06</td>\n",
       "    </tr>\n",
       "    <tr>\n",
       "      <th>6</th>\n",
       "      <td>Student_7</td>\n",
       "      <td>R007</td>\n",
       "      <td>26</td>\n",
       "      <td>Other</td>\n",
       "      <td>0</td>\n",
       "      <td>Pass</td>\n",
       "      <td>Young</td>\n",
       "      <td>2023-11-07</td>\n",
       "    </tr>\n",
       "    <tr>\n",
       "      <th>7</th>\n",
       "      <td>Student_8</td>\n",
       "      <td>R008</td>\n",
       "      <td>34</td>\n",
       "      <td>Female</td>\n",
       "      <td>7</td>\n",
       "      <td>Fail</td>\n",
       "      <td>Old</td>\n",
       "      <td>2023-11-08</td>\n",
       "    </tr>\n",
       "    <tr>\n",
       "      <th>8</th>\n",
       "      <td>Student_9</td>\n",
       "      <td>R009</td>\n",
       "      <td>25</td>\n",
       "      <td>Male</td>\n",
       "      <td>45</td>\n",
       "      <td>Pass</td>\n",
       "      <td>Young</td>\n",
       "      <td>2023-11-09</td>\n",
       "    </tr>\n",
       "    <tr>\n",
       "      <th>9</th>\n",
       "      <td>Student_10</td>\n",
       "      <td>R010</td>\n",
       "      <td>34</td>\n",
       "      <td>Female</td>\n",
       "      <td>51</td>\n",
       "      <td>Fail</td>\n",
       "      <td>Old</td>\n",
       "      <td>2023-11-10</td>\n",
       "    </tr>\n",
       "  </tbody>\n",
       "</table>\n",
       "</div>"
      ],
      "text/plain": [
       "         Name Roll_No  Years  Gender  Score Fail/Pass Age_Group date_of_join\n",
       "0   Student_1    R001     25  Female     66      Fail     Young   2023-11-01\n",
       "1   Student_2    R002     30   Other     95      Fail     Young   2023-11-02\n",
       "2   Student_3    R003     35    Male     91      Pass       Old   2023-11-03\n",
       "3   Student_4    R004     28  Female     77      Pass     Young   2023-11-04\n",
       "4   Student_5    R005     34  Female     41      Fail       Old   2023-11-05\n",
       "5   Student_6    R006     40   Other     86      Fail       Old   2023-11-06\n",
       "6   Student_7    R007     26   Other      0      Pass     Young   2023-11-07\n",
       "7   Student_8    R008     34  Female      7      Fail       Old   2023-11-08\n",
       "8   Student_9    R009     25    Male     45      Pass     Young   2023-11-09\n",
       "9  Student_10    R010     34  Female     51      Fail       Old   2023-11-10"
      ]
     },
     "execution_count": 46,
     "metadata": {},
     "output_type": "execute_result"
    }
   ],
   "source": [
    "#9. Rename the column Age to Years.df = ?\n",
    "#ans\n",
    "result = result.rename(columns={'Age': 'Years'})\n",
    "result"
   ]
  },
  {
   "cell_type": "code",
   "execution_count": 47,
   "id": "406d5ea0-46ad-422d-bd5c-4c07c5084eb5",
   "metadata": {},
   "outputs": [],
   "source": []
  },
  {
   "cell_type": "code",
   "execution_count": null,
   "id": "71353b51-71dc-4cf7-9753-0583725c7d49",
   "metadata": {},
   "outputs": [],
   "source": []
  }
 ],
 "metadata": {
  "kernelspec": {
   "display_name": "Python 3 (ipykernel)",
   "language": "python",
   "name": "python3"
  },
  "language_info": {
   "codemirror_mode": {
    "name": "ipython",
    "version": 3
   },
   "file_extension": ".py",
   "mimetype": "text/x-python",
   "name": "python",
   "nbconvert_exporter": "python",
   "pygments_lexer": "ipython3",
   "version": "3.13.0"
  }
 },
 "nbformat": 4,
 "nbformat_minor": 5
}
