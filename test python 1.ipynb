{
 "cells": [
  {
   "cell_type": "code",
   "execution_count": 57,
   "id": "b636b33b-9985-4765-a2e2-d2d51db6dbf8",
   "metadata": {},
   "outputs": [
    {
     "data": {
      "text/plain": [
       "153.86"
      ]
     },
     "execution_count": 57,
     "metadata": {},
     "output_type": "execute_result"
    }
   ],
   "source": [
    "#SIMPLE EXPRESSIONS\n",
    "#1 Write a Python expression to calculate the area of a circle with radius r = 7.\n",
    "\n",
    "radius=7         \n",
    "area=3.14*7*7 #Formula for area of circle\n",
    "area               \n",
    "    \n"
   ]
  },
  {
   "cell_type": "code",
   "execution_count": 59,
   "id": "60b9ace1-795e-4516-99f8-e6a9db87a931",
   "metadata": {},
   "outputs": [
    {
     "data": {
      "text/plain": [
       "10"
      ]
     },
     "execution_count": 59,
     "metadata": {},
     "output_type": "execute_result"
    }
   ],
   "source": [
    "#2 What will be the output of the expression 2 * 3 + 4?\n",
    "\n",
    "x=2*3+4 \n",
    "x"
   ]
  },
  {
   "cell_type": "code",
   "execution_count": 60,
   "id": "c6f34c5d-fe4b-411d-b598-af8b8784091c",
   "metadata": {},
   "outputs": [
    {
     "data": {
      "text/plain": [
       "20.0"
      ]
     },
     "execution_count": 60,
     "metadata": {},
     "output_type": "execute_result"
    }
   ],
   "source": [
    "#3 Calculate the result of (8 / 2) * (3 + 2).\n",
    "\n",
    "x=(8/2)*(3+2)\n",
    "x"
   ]
  },
  {
   "cell_type": "code",
   "execution_count": 15,
   "id": "57af3dd1-11d4-48d5-af8e-fd24201ab936",
   "metadata": {},
   "outputs": [],
   "source": [
    "#4 Write an expression to find the remainder when 15 is divided by 4.\n",
    "\n",
    "remainder = 15 % 4\n"
   ]
  },
  {
   "cell_type": "code",
   "execution_count": 16,
   "id": "4e3aefc6-fa7d-4254-9cc4-59f521554e33",
   "metadata": {},
   "outputs": [
    {
     "data": {
      "text/plain": [
       "3"
      ]
     },
     "execution_count": 16,
     "metadata": {},
     "output_type": "execute_result"
    }
   ],
   "source": [
    "remainder"
   ]
  },
  {
   "cell_type": "code",
   "execution_count": 17,
   "id": "d585cb37-69c3-44c6-9878-784b45d7d487",
   "metadata": {},
   "outputs": [],
   "source": [
    "#5 Write a Python expression to convert 100 Fahrenheit to Celsius using the formula: C = (F - 32) *\n",
    "#5/9.\n",
    "\n",
    "F = 100\n",
    "C = (F - 32) * 5 / 9"
   ]
  },
  {
   "cell_type": "code",
   "execution_count": 19,
   "id": "a1e9acc8-2e1a-4e60-afa5-afd07e5a7e1e",
   "metadata": {},
   "outputs": [
    {
     "data": {
      "text/plain": [
       "37.77777777777778"
      ]
     },
     "execution_count": 19,
     "metadata": {},
     "output_type": "execute_result"
    }
   ],
   "source": [
    "C"
   ]
  },
  {
   "cell_type": "code",
   "execution_count": 44,
   "id": "6dd4b800-7c09-4ecc-9a1b-5d82d33f8131",
   "metadata": {},
   "outputs": [],
   "source": [
    "#6 Evaluate the expression: 10 // 3 + 2 ** 3.\n",
    "\n",
    "x=10 // 3 \n",
    "y=2 ** 3\n",
    "z=x+y"
   ]
  },
  {
   "cell_type": "code",
   "execution_count": 23,
   "id": "45a61bd7-ca07-4fe5-89d5-376778cb802c",
   "metadata": {},
   "outputs": [
    {
     "data": {
      "text/plain": [
       "True"
      ]
     },
     "execution_count": 23,
     "metadata": {},
     "output_type": "execute_result"
    }
   ],
   "source": [
    "# 7. What does the expression 5 == 5 and 4 < 6 evaluate to?\n",
    "\n",
    "5 == 5 and 4 < 6"
   ]
  },
  {
   "cell_type": "code",
   "execution_count": 24,
   "id": "badce56a-8dc8-459c-a1dd-0861d8cec250",
   "metadata": {},
   "outputs": [
    {
     "data": {
      "text/plain": [
       "True"
      ]
     },
     "execution_count": 24,
     "metadata": {},
     "output_type": "execute_result"
    }
   ],
   "source": [
    "#8. What is the output of not (4 > 5 or 3 == 3)?\n",
    "\n",
    "(4 > 5 or 3 == 3)"
   ]
  },
  {
   "cell_type": "code",
   "execution_count": 30,
   "id": "5cc126ee-d59c-43c0-a22f-1edb60e21df6",
   "metadata": {},
   "outputs": [
    {
     "name": "stdin",
     "output_type": "stream",
     "text": [
      "Enter any number :  54\n"
     ]
    },
    {
     "name": "stdout",
     "output_type": "stream",
     "text": [
      "The given number is even\n"
     ]
    }
   ],
   "source": [
    "# 9. Write an expression that checks if a number x is odd.\n",
    "num = int (input ( \"Enter any number : \")) #Provide input\n",
    "\n",
    "if (num % 2) == 0:    #To check the condition i.e if number is divisible by 2\n",
    "              print (\"The given number is even\")\n",
    "else:\n",
    "              print (\"The given number is odd\")\n",
    "\n"
   ]
  },
  {
   "cell_type": "code",
   "execution_count": 31,
   "id": "32ca87a4-877b-4e92-80ca-988ff92196da",
   "metadata": {},
   "outputs": [
    {
     "data": {
      "text/plain": [
       "float"
      ]
     },
     "execution_count": 31,
     "metadata": {},
     "output_type": "execute_result"
    }
   ],
   "source": [
    "#10. What is the type of the value 5.0?\n",
    "\n",
    "x=5.0\n",
    "type(x) #to cehck the type of x use type ()function"
   ]
  },
  {
   "cell_type": "code",
   "execution_count": 63,
   "id": "0f1dab38-06e8-48b8-9c0d-0db725a4d7d0",
   "metadata": {},
   "outputs": [
    {
     "ename": "TypeError",
     "evalue": "'str' object is not callable",
     "output_type": "error",
     "traceback": [
      "\u001b[1;31m---------------------------------------------------------------------------\u001b[0m",
      "\u001b[1;31mTypeError\u001b[0m                                 Traceback (most recent call last)",
      "Cell \u001b[1;32mIn[63], line 4\u001b[0m\n\u001b[0;32m      1\u001b[0m \u001b[38;5;66;03m#11. How do you convert the integer 42 to a string?\u001b[39;00m\n\u001b[0;32m      3\u001b[0m x\u001b[38;5;241m=\u001b[39m\u001b[38;5;241m42\u001b[39m\n\u001b[1;32m----> 4\u001b[0m \u001b[38;5;28mstr\u001b[39m(x)\n\u001b[0;32m      5\u001b[0m \u001b[38;5;28mtype\u001b[39m(x)\n",
      "\u001b[1;31mTypeError\u001b[0m: 'str' object is not callable"
     ]
    }
   ],
   "source": [
    "#11. How do you convert the integer 42 to a string?\n",
    "\n",
    "x=42\n",
    "str(x)\n",
    "type(x)\n"
   ]
  },
  {
   "cell_type": "code",
   "execution_count": 64,
   "id": "0182505c-c0c9-40e0-ba3b-39605ea7e0f3",
   "metadata": {},
   "outputs": [
    {
     "ename": "TypeError",
     "evalue": "'str' object is not callable",
     "output_type": "error",
     "traceback": [
      "\u001b[1;31m---------------------------------------------------------------------------\u001b[0m",
      "\u001b[1;31mTypeError\u001b[0m                                 Traceback (most recent call last)",
      "Cell \u001b[1;32mIn[64], line 3\u001b[0m\n\u001b[0;32m      1\u001b[0m \u001b[38;5;66;03m#12. What will the expression str(3.14) + ' is pi' output?\u001b[39;00m\n\u001b[1;32m----> 3\u001b[0m \u001b[38;5;28mprint\u001b[39m(\u001b[38;5;28mstr\u001b[39m(\u001b[38;5;241m3.14\u001b[39m) \u001b[38;5;241m+\u001b[39m\u001b[38;5;124m'\u001b[39m\u001b[38;5;124m is pi\u001b[39m\u001b[38;5;124m'\u001b[39m)\n",
      "\u001b[1;31mTypeError\u001b[0m: 'str' object is not callable"
     ]
    }
   ],
   "source": [
    "#12. What will the expression str(3.14) + ' is pi' output?\n",
    "\n",
    "print(str(3.14) +' is pi')\n"
   ]
  },
  {
   "cell_type": "code",
   "execution_count": 41,
   "id": "b89c1d97-2772-4561-ad3c-a16fd884d755",
   "metadata": {},
   "outputs": [],
   "source": [
    "#13 What is the output type of the expression 4 + 3.5?\n",
    "\n",
    "x=4\n",
    "y=3.5\n",
    "z=x+y"
   ]
  },
  {
   "cell_type": "code",
   "execution_count": 45,
   "id": "7b3a4008-2f4b-4ded-847d-5ca11308da80",
   "metadata": {},
   "outputs": [
    {
     "data": {
      "text/plain": [
       "11"
      ]
     },
     "execution_count": 45,
     "metadata": {},
     "output_type": "execute_result"
    }
   ],
   "source": [
    "z"
   ]
  },
  {
   "cell_type": "code",
   "execution_count": 47,
   "id": "d042a5bf-6064-4521-805e-c9544e3aeabc",
   "metadata": {},
   "outputs": [
    {
     "ename": "TypeError",
     "evalue": "'str' object is not callable",
     "output_type": "error",
     "traceback": [
      "\u001b[1;31m---------------------------------------------------------------------------\u001b[0m",
      "\u001b[1;31mTypeError\u001b[0m                                 Traceback (most recent call last)",
      "Cell \u001b[1;32mIn[47], line 4\u001b[0m\n\u001b[0;32m      1\u001b[0m \u001b[38;5;66;03m#14 Write a Python code to take an input from the user and convert it to an integer.\u001b[39;00m\n\u001b[0;32m      3\u001b[0m a\u001b[38;5;241m=\u001b[39m\u001b[38;5;241m42\u001b[39m\n\u001b[1;32m----> 4\u001b[0m a\u001b[38;5;241m=\u001b[39m\u001b[38;5;28mstr\u001b[39m()\n",
      "\u001b[1;31mTypeError\u001b[0m: 'str' object is not callable"
     ]
    }
   ],
   "source": [
    "#14 Write a Python code to take an input from the user and convert it to an integer.\n",
    "\n",
    "a=42\n",
    "a=str()\n"
   ]
  },
  {
   "cell_type": "code",
   "execution_count": 67,
   "id": "cd6da653-74a4-412b-8228-2f052514c8bc",
   "metadata": {},
   "outputs": [
    {
     "name": "stdin",
     "output_type": "stream",
     "text": [
      " Village\n"
     ]
    },
    {
     "name": "stdout",
     "output_type": "stream",
     "text": [
      "<class 'str'>\n"
     ]
    }
   ],
   "source": [
    "# 15. How can you find the type of a variable in Python?\n",
    "\n",
    "#By using type() function\n",
    "\n",
    "#example\n",
    "x=input()\n",
    "print(type(x))"
   ]
  },
  {
   "cell_type": "code",
   "execution_count": 68,
   "id": "a0db67b1-e3c9-4b06-a1b8-ceb256bbc4d7",
   "metadata": {},
   "outputs": [
    {
     "data": {
      "text/plain": [
       "str"
      ]
     },
     "execution_count": 68,
     "metadata": {},
     "output_type": "execute_result"
    }
   ],
   "source": [
    "#16 Create a variable my_name and assign your name to it. Check if it is of type str.\n",
    "\n",
    "my_name='PradnyA'\n",
    "type(my_name)\n"
   ]
  },
  {
   "cell_type": "code",
   "execution_count": 69,
   "id": "0323d1ef-f1ba-47d7-917c-34bc343d688e",
   "metadata": {},
   "outputs": [],
   "source": [
    "#Data Structures - Lists, Tuples, Sets, and Dictionaries"
   ]
  },
  {
   "cell_type": "code",
   "execution_count": 70,
   "id": "bd1f973a-e44e-43bc-b2aa-f8cf1201baf6",
   "metadata": {},
   "outputs": [
    {
     "data": {
      "text/plain": [
       "[]"
      ]
     },
     "execution_count": 70,
     "metadata": {},
     "output_type": "execute_result"
    }
   ],
   "source": [
    "#17. How do you create an empty list in Python?\n",
    "\n",
    "lst=list() #create an empty list\n",
    "lst\n",
    "\n"
   ]
  },
  {
   "cell_type": "code",
   "execution_count": 71,
   "id": "3439fbe9-0ead-4d93-961a-9c238c34c765",
   "metadata": {},
   "outputs": [
    {
     "data": {
      "text/plain": [
       "[1, 2, 3, 42]"
      ]
     },
     "execution_count": 71,
     "metadata": {},
     "output_type": "execute_result"
    }
   ],
   "source": [
    "#18 Write code to add an element 42 to the end of the list [1, 2, 3].\n",
    "\n",
    "lst=[1,2,3]\n",
    "lst.append(42)\n",
    "lst"
   ]
  },
  {
   "cell_type": "code",
   "execution_count": 72,
   "id": "c7bd7644-d945-4831-9a34-0ad7b46fea37",
   "metadata": {},
   "outputs": [
    {
     "name": "stdout",
     "output_type": "stream",
     "text": [
      "30\n"
     ]
    }
   ],
   "source": [
    "#19 How do you access the third element in the list my_list = [10, 20, 30, 40]?\n",
    "\n",
    "my_list = [10, 20, 30, 40]\n",
    "print(my_list[2])\n",
    "     "
   ]
  },
  {
   "cell_type": "code",
   "execution_count": 73,
   "id": "d4d11986-2978-4f50-ac19-24cd7dfe0e54",
   "metadata": {},
   "outputs": [
    {
     "ename": "SyntaxError",
     "evalue": "invalid syntax (1031389561.py, line 2)",
     "output_type": "error",
     "traceback": [
      "\u001b[1;36m  Cell \u001b[1;32mIn[73], line 2\u001b[1;36m\u001b[0m\n\u001b[1;33m    ANS: We determine list using [] and Tuple using ()\u001b[0m\n\u001b[1;37m            ^\u001b[0m\n\u001b[1;31mSyntaxError\u001b[0m\u001b[1;31m:\u001b[0m invalid syntax\n"
     ]
    }
   ],
   "source": [
    "#20. What is the difference between a list and a tuple in Python?\n",
    "#ANS: We determine list using [] and Tuple using ()\n",
    "#WE can append list but not append tuple\n"
   ]
  },
  {
   "cell_type": "code",
   "execution_count": 74,
   "id": "4272dec6-529a-49ac-bd9f-5480fbc09820",
   "metadata": {},
   "outputs": [],
   "source": [
    "#21. Write a Python code to create a set with the elements 1, 2, and 3.\n",
    "\n",
    "s={1,2,3}\n",
    "\n"
   ]
  },
  {
   "cell_type": "code",
   "execution_count": 75,
   "id": "07d3bccb-feae-4933-8f60-c7871071ee6d",
   "metadata": {},
   "outputs": [
    {
     "data": {
      "text/plain": [
       "{1, 2, 3}"
      ]
     },
     "execution_count": 75,
     "metadata": {},
     "output_type": "execute_result"
    }
   ],
   "source": [
    "s"
   ]
  },
  {
   "cell_type": "code",
   "execution_count": 76,
   "id": "b7d5d81c-8339-4ee9-bd1e-f003cd481034",
   "metadata": {},
   "outputs": [
    {
     "name": "stdout",
     "output_type": "stream",
     "text": [
      "{1, 2, 4}\n"
     ]
    }
   ],
   "source": [
    "#22. How do you remove an element from a set in Python?\n",
    "\n",
    "s= {1, 2, 3, 4}\n",
    "s.remove(3) #We use s.remove() function to remove any element\n",
    "print(s)"
   ]
  },
  {
   "cell_type": "code",
   "execution_count": 77,
   "id": "adea95da-1b7b-4e0f-a192-e9252a47dffc",
   "metadata": {},
   "outputs": [
    {
     "data": {
      "text/plain": [
       "'Alice'"
      ]
     },
     "execution_count": 77,
     "metadata": {},
     "output_type": "execute_result"
    }
   ],
   "source": [
    "# 23. Write code to retrieve the value of the key 'name' from the dictionary person = {'name': 'Alice',\n",
    "#'age': 25}.\n",
    "\n",
    "new_dict={'name': 'Alice', 'age': 25}\n",
    "new_dict['name']"
   ]
  },
  {
   "cell_type": "code",
   "execution_count": 79,
   "id": "a1cec781-58be-4339-9a40-60c87565c9d6",
   "metadata": {},
   "outputs": [
    {
     "data": {
      "text/plain": [
       "{'name': 'ram', 'age': '26'}"
      ]
     },
     "execution_count": 79,
     "metadata": {},
     "output_type": "execute_result"
    }
   ],
   "source": [
    "#24. Create a dictionary with three key-value pairs and then remove one pair from it.\n",
    "\n",
    "my_dict={'name':'ram','age':'26', 'roll no':'52'}\n",
    "my_dict.pop('roll no')\n",
    "my_dict"
   ]
  },
  {
   "cell_type": "code",
   "execution_count": 81,
   "id": "0f283946-8c72-489a-af23-1d5599e4054e",
   "metadata": {},
   "outputs": [
    {
     "data": {
      "text/plain": [
       "10"
      ]
     },
     "execution_count": 81,
     "metadata": {},
     "output_type": "execute_result"
    }
   ],
   "source": [
    "#25. Given my_tuple = (5, 10, 15), how can you access the element 10?\n",
    "\n",
    "tuple=(5,10,15)\n",
    "tuple[1]  #we use the index\n"
   ]
  },
  {
   "cell_type": "code",
   "execution_count": 82,
   "id": "83a72348-a8ba-4959-8bdd-7bd04ae17006",
   "metadata": {},
   "outputs": [],
   "source": [
    "#Methods of Data Structures"
   ]
  },
  {
   "cell_type": "code",
   "execution_count": 83,
   "id": "a09815d4-fe86-4c07-bd20-b16d8121b679",
   "metadata": {},
   "outputs": [
    {
     "data": {
      "text/plain": [
       "5"
      ]
     },
     "execution_count": 83,
     "metadata": {},
     "output_type": "execute_result"
    }
   ],
   "source": [
    "#26. How do you find the length of a list numbers = [1, 2, 3, 4, 5]?\n",
    "x=[1,2,3,4,5]\n",
    "len(x)  #We use length() function to check length of list\n",
    "\n"
   ]
  },
  {
   "cell_type": "code",
   "execution_count": 87,
   "id": "1f174c6d-8bb4-4ce3-a7c4-7a67cf8c2da1",
   "metadata": {},
   "outputs": [
    {
     "data": {
      "text/plain": [
       "[1, 2, 4, 9]"
      ]
     },
     "execution_count": 87,
     "metadata": {},
     "output_type": "execute_result"
    }
   ],
   "source": [
    "#27. What method would you use to add an element at a specific index in a list?\n",
    "\n",
    "\n",
    "lst=[1,2,4]\n",
    "lst.insert(8,9)\n",
    "lst\n",
    "\n",
    " "
   ]
  },
  {
   "cell_type": "code",
   "execution_count": 88,
   "id": "e46783b4-a6d8-45dd-9a56-f0853c805b5c",
   "metadata": {},
   "outputs": [
    {
     "data": {
      "text/plain": [
       "[1, 2, 3, 4]"
      ]
     },
     "execution_count": 88,
     "metadata": {},
     "output_type": "execute_result"
    }
   ],
   "source": [
    "#28. Write a Python code to sort the list [4, 1, 3, 2] in ascending order.\n",
    "\n",
    "list=[4,1,3,2]\n",
    "list.sort()  #We use sort() method to sort elements in ascending order\n",
    "list"
   ]
  },
  {
   "cell_type": "code",
   "execution_count": 90,
   "id": "f265917f-5772-4805-bbd6-2617b7396f18",
   "metadata": {},
   "outputs": [
    {
     "name": "stdout",
     "output_type": "stream",
     "text": [
      "yes, 5 is part of the list\n"
     ]
    }
   ],
   "source": [
    "#29 How do you check if the number 5 is in the list [1, 2, 3, 4, 5]?\n",
    "\n",
    "lst=[1,2,3,4,5]\n",
    "if 5 in lst:\n",
    "  print('yes, 5 is part of the list')\n",
    "else:\n",
    "  print('no, 5 is not part of the list')\n"
   ]
  },
  {
   "cell_type": "code",
   "execution_count": 91,
   "id": "c892fbeb-dacd-4c32-bfe4-6229eee629c3",
   "metadata": {},
   "outputs": [
    {
     "data": {
      "text/plain": [
       "[1, 2, 3, 4, 5, 6]"
      ]
     },
     "execution_count": 91,
     "metadata": {},
     "output_type": "execute_result"
    }
   ],
   "source": [
    "#30. Write a code to concatenate two lists [1, 2, 3] and [4, 5, 6].\n",
    "\n",
    "l1=[1,2,3]\n",
    "l2=[4,5,6]\n",
    "l1+l2    #We use' + ' sign to concate the list\n"
   ]
  },
  {
   "cell_type": "code",
   "execution_count": 92,
   "id": "907918fa-d46c-4c4b-97a3-19d0ecb6847c",
   "metadata": {},
   "outputs": [],
   "source": [
    "#Branching\n"
   ]
  },
  {
   "cell_type": "code",
   "execution_count": 94,
   "id": "4de3e366-2123-42ec-b3bb-8a5107deb83d",
   "metadata": {},
   "outputs": [
    {
     "name": "stdin",
     "output_type": "stream",
     "text": [
      " 76\n"
     ]
    },
    {
     "name": "stdout",
     "output_type": "stream",
     "text": [
      "x is postive\n"
     ]
    }
   ],
   "source": [
    "#31 Write a Python if statement to check if a number x is positive.\n",
    "\n",
    "x=input()\n",
    "if int(x)>0:\n",
    "  print('x is postive')\n",
    "else:\n",
    "  print(' x is negative')"
   ]
  },
  {
   "cell_type": "code",
   "execution_count": 96,
   "id": "074309ba-4ef4-49f9-b7ee-889ebc337458",
   "metadata": {},
   "outputs": [
    {
     "name": "stdin",
     "output_type": "stream",
     "text": [
      " -54\n"
     ]
    },
    {
     "name": "stdout",
     "output_type": "stream",
     "text": [
      "x is zero or negative\n"
     ]
    }
   ],
   "source": [
    "#32. Modify the previous question to include else to handle the case when x is negative or zero.\n",
    "\n",
    "\n",
    "x=input()\n",
    "if int(x)>0:\n",
    "  print('the number is postive')\n",
    "#elif(x==0):\n",
    "  #print('the number is zero')\n",
    "else:\n",
    "  print('x is zero or negative')\n"
   ]
  },
  {
   "cell_type": "code",
   "execution_count": 97,
   "id": "397ed0ea-1cd1-425c-9b22-be14d9498f03",
   "metadata": {},
   "outputs": [
    {
     "name": "stdin",
     "output_type": "stream",
     "text": [
      " -67\n"
     ]
    },
    {
     "name": "stdout",
     "output_type": "stream",
     "text": [
      "x is negative\n"
     ]
    }
   ],
   "source": [
    "#33 Write an if-elif-else block to check if a number is positive, negative, or zero.\n",
    "\n",
    "x=input()\n",
    "if int(x)>0:\n",
    "  print('the number is positive')\n",
    "elif(x==0):\n",
    "  print('the number is zero')\n",
    "else:\n",
    "  print('x is negative')"
   ]
  },
  {
   "cell_type": "code",
   "execution_count": 98,
   "id": "d933ab2b-77e6-4e96-881f-03d78000b53d",
   "metadata": {},
   "outputs": [
    {
     "ename": "SyntaxError",
     "evalue": "invalid syntax (162731292.py, line 2)",
     "output_type": "error",
     "traceback": [
      "\u001b[1;36m  Cell \u001b[1;32mIn[98], line 2\u001b[1;36m\u001b[0m\n\u001b[1;33m    5?\u001b[0m\n\u001b[1;37m     ^\u001b[0m\n\u001b[1;31mSyntaxError\u001b[0m\u001b[1;31m:\u001b[0m invalid syntax\n"
     ]
    }
   ],
   "source": [
    "#34. How would you use a ternary operator to assign the value 10 to result if x > 5, otherwise assign\n",
    "#5?"
   ]
  },
  {
   "cell_type": "code",
   "execution_count": 102,
   "id": "b01bcb21-d138-4fd8-a468-bdb1fc8a1bf2",
   "metadata": {},
   "outputs": [
    {
     "ename": "TypeError",
     "evalue": "'>' not supported between instances of 'str' and 'int'",
     "output_type": "error",
     "traceback": [
      "\u001b[1;31m---------------------------------------------------------------------------\u001b[0m",
      "\u001b[1;31mTypeError\u001b[0m                                 Traceback (most recent call last)",
      "Cell \u001b[1;32mIn[102], line 1\u001b[0m\n\u001b[1;32m----> 1\u001b[0m result\u001b[38;5;241m=\u001b[39m\u001b[38;5;241m10\u001b[39m \u001b[38;5;28;01mif\u001b[39;00m x\u001b[38;5;241m>\u001b[39m\u001b[38;5;241m5\u001b[39m \u001b[38;5;28;01melse\u001b[39;00m \u001b[38;5;241m5\u001b[39m\n\u001b[0;32m      2\u001b[0m result\n",
      "\u001b[1;31mTypeError\u001b[0m: '>' not supported between instances of 'str' and 'int'"
     ]
    }
   ],
   "source": [
    "result=10 if x>5 else 5\n",
    "result"
   ]
  },
  {
   "cell_type": "code",
   "execution_count": 103,
   "id": "ce5b37da-c4a1-4a35-b4e6-e1b42ed869b8",
   "metadata": {},
   "outputs": [
    {
     "name": "stdin",
     "output_type": "stream",
     "text": [
      " 56\n"
     ]
    }
   ],
   "source": [
    "#35. Write an if statement that checks if a variable score is greater than or equal to 90, and if so,\n",
    "#prints 'A grade'\n",
    "\n",
    "\n",
    "marks=input()\n",
    "if int(marks)>=90:\n",
    "  print('A grade')\n",
    "\n"
   ]
  },
  {
   "cell_type": "code",
   "execution_count": 104,
   "id": "27f9537c-fbc9-48b1-8764-c7fa36db91cc",
   "metadata": {},
   "outputs": [
    {
     "name": "stdout",
     "output_type": "stream",
     "text": [
      "yes, banana is in the list\n"
     ]
    }
   ],
   "source": [
    "#36. Use an if statement to check if a list fruits = ['apple', 'banana', 'cherry'] contains the element\n",
    "#'banana'.\n",
    "\n",
    "fruits = ['apple', 'banana', 'cherry']\n",
    "if 'banana' in fruits:\n",
    "  print('yes, banana is in the list')\n",
    "else:\n",
    "  print('we need a banana')"
   ]
  },
  {
   "cell_type": "code",
   "execution_count": 105,
   "id": "2aa8d0aa-85e5-47b1-ad54-c9d7bfdcfe7e",
   "metadata": {},
   "outputs": [
    {
     "name": "stdin",
     "output_type": "stream",
     "text": [
      " 34\n",
      " male\n"
     ]
    },
    {
     "name": "stdout",
     "output_type": "stream",
     "text": [
      "Adult Male\n"
     ]
    }
   ],
   "source": [
    "# 37. Write a nested if statement that prints 'Adult Male' if age > 18 and gender == 'male'\n",
    "\n",
    "age=input()\n",
    "gender=input()\n",
    "if(int(age)>18):\n",
    "  if(gender=='male'):\n",
    "    print('Adult Male')"
   ]
  },
  {
   "cell_type": "code",
   "execution_count": 106,
   "id": "e6007202-700a-4468-85ed-4c5aec71ef18",
   "metadata": {},
   "outputs": [
    {
     "name": "stdin",
     "output_type": "stream",
     "text": [
      " 65\n"
     ]
    },
    {
     "name": "stdout",
     "output_type": "stream",
     "text": [
      "the number is divisible by 5\n"
     ]
    }
   ],
   "source": [
    "# 38. Create a Python code snippet using if statements to determine if a number is divisible by 3, 5, or\n",
    "#both.\n",
    "\n",
    "x=input()\n",
    "if int(x)%3==0:\n",
    "  print('the number is divisible by 3')\n",
    "elif int(x)%5==0:\n",
    "  print('the number is divisible by 5')\n",
    "elif int(x)%15==0:\n",
    "  print('the number is divisible by 3 and 5')\n",
    "else:\n",
    "  print('the number is not divisible by 3 or 5')"
   ]
  },
  {
   "cell_type": "code",
   "execution_count": 108,
   "id": "b5d8626c-1259-4239-a42b-229e19e7fae7",
   "metadata": {},
   "outputs": [
    {
     "name": "stdin",
     "output_type": "stream",
     "text": [
      " Pradnya\n"
     ]
    },
    {
     "ename": "TypeError",
     "evalue": "'str' object is not callable",
     "output_type": "error",
     "traceback": [
      "\u001b[1;31m---------------------------------------------------------------------------\u001b[0m",
      "\u001b[1;31mTypeError\u001b[0m                                 Traceback (most recent call last)",
      "Cell \u001b[1;32mIn[108], line 4\u001b[0m\n\u001b[0;32m      1\u001b[0m \u001b[38;5;66;03m#39. Write an if condition that checks if a string name is not empty and prints 'Name is provided'.\u001b[39;00m\n\u001b[0;32m      3\u001b[0m name\u001b[38;5;241m=\u001b[39m\u001b[38;5;28minput\u001b[39m()\n\u001b[1;32m----> 4\u001b[0m \u001b[38;5;28;01mif\u001b[39;00m \u001b[38;5;28mstr\u001b[39m(name):\n\u001b[0;32m      5\u001b[0m   \u001b[38;5;28mprint\u001b[39m(\u001b[38;5;124m'\u001b[39m\u001b[38;5;124mName is provided\u001b[39m\u001b[38;5;124m'\u001b[39m)\n",
      "\u001b[1;31mTypeError\u001b[0m: 'str' object is not callable"
     ]
    }
   ],
   "source": [
    "#39. Write an if condition that checks if a string name is not empty and prints 'Name is provided'.\n",
    "\n",
    "name=input()\n",
    "if str(name):\n",
    "  print('Name is provided')\n"
   ]
  },
  {
   "cell_type": "code",
   "execution_count": 109,
   "id": "94f6227f-c60e-4283-90d2-12156ac31edb",
   "metadata": {},
   "outputs": [
    {
     "name": "stdin",
     "output_type": "stream",
     "text": [
      " 56\n"
     ]
    },
    {
     "name": "stdout",
     "output_type": "stream",
     "text": [
      "age is not within range\n"
     ]
    }
   ],
   "source": [
    "#40. Use an if statement to check if a variable age is within the range 18 to 25 inclusive.\n",
    "\n",
    "age=input()\n",
    "if int(age)>=18 and int(age)<=25:\n",
    "  print('age is within range')\n",
    "else:\n",
    "  print('age is not within range')"
   ]
  },
  {
   "cell_type": "code",
   "execution_count": null,
   "id": "a9f186c5-cc9c-496d-adc4-daebc046a595",
   "metadata": {},
   "outputs": [],
   "source": []
  }
 ],
 "metadata": {
  "kernelspec": {
   "display_name": "Python 3 (ipykernel)",
   "language": "python",
   "name": "python3"
  },
  "language_info": {
   "codemirror_mode": {
    "name": "ipython",
    "version": 3
   },
   "file_extension": ".py",
   "mimetype": "text/x-python",
   "name": "python",
   "nbconvert_exporter": "python",
   "pygments_lexer": "ipython3",
   "version": "3.12.7"
  }
 },
 "nbformat": 4,
 "nbformat_minor": 5
}
