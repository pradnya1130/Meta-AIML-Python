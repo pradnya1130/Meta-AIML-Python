{
 "cells": [
  {
   "cell_type": "code",
   "execution_count": 4,
   "id": "7afe6bc4-0ee6-4429-aa08-79d5686dbc73",
   "metadata": {},
   "outputs": [],
   "source": [
    "#1. Write a Python program to evaluate the expression `5 + 3 * 2` and print the result.\n",
    "\n",
    "A=(5 + 3 * 2)"
   ]
  },
  {
   "cell_type": "code",
   "execution_count": 5,
   "id": "190c34ee-577b-4835-930f-a7e3f87a203f",
   "metadata": {},
   "outputs": [
    {
     "name": "stdout",
     "output_type": "stream",
     "text": [
      "11\n"
     ]
    }
   ],
   "source": [
    "print(A)"
   ]
  },
  {
   "cell_type": "code",
   "execution_count": 7,
   "id": "a76cf74d-952c-44d2-b2fe-2d9a382dc30b",
   "metadata": {},
   "outputs": [],
   "source": [
    "#2. Write a program that calculates the result of `2 ** 3 + 5`\n",
    "\n",
    "b=(2 ** 3 + 5)"
   ]
  },
  {
   "cell_type": "raw",
   "id": "6721555c-0839-4a2a-b687-30a698d37186",
   "metadata": {},
   "source": [
    "print(b)"
   ]
  },
  {
   "cell_type": "code",
   "execution_count": 8,
   "id": "ed4f6e45-4553-4027-8052-078efdff8a2f",
   "metadata": {},
   "outputs": [],
   "source": [
    "# 3. Create a program that calculates the result of the expression '(10 - 3) * (2 + 4)'\n",
    "\n",
    "c=(10 - 3) * (2 + 4)"
   ]
  },
  {
   "cell_type": "code",
   "execution_count": 9,
   "id": "be3d12f8-fd10-41d3-b498-0051493abe6f",
   "metadata": {},
   "outputs": [
    {
     "name": "stdout",
     "output_type": "stream",
     "text": [
      "42\n"
     ]
    }
   ],
   "source": [
    "print(c)"
   ]
  },
  {
   "cell_type": "code",
   "execution_count": 10,
   "id": "a1a3195e-a46c-4295-a346-aacbc67d469c",
   "metadata": {},
   "outputs": [],
   "source": [
    "#4. Write a program that calculates `15 // 4` and prints the result.\n",
    "\n",
    "d=(15 // 4)\n",
    "     "
   ]
  },
  {
   "cell_type": "code",
   "execution_count": 11,
   "id": "25421d3d-fb42-4b86-adce-be24f0089891",
   "metadata": {},
   "outputs": [
    {
     "name": "stdout",
     "output_type": "stream",
     "text": [
      "3\n"
     ]
    }
   ],
   "source": [
    "print(d)"
   ]
  },
  {
   "cell_type": "code",
   "execution_count": 13,
   "id": "8746cfac-c848-45ec-827d-a1cf4313893b",
   "metadata": {},
   "outputs": [],
   "source": [
    "#5. Write a Python code to find the remainder when dividing 15 by 4 (`15 % 4`)\n",
    "\n",
    "e=(15 % 4)"
   ]
  },
  {
   "cell_type": "code",
   "execution_count": 14,
   "id": "fed5acc0-d721-4afa-8c63-5d1e7e5641a5",
   "metadata": {},
   "outputs": [
    {
     "name": "stdout",
     "output_type": "stream",
     "text": [
      "3\n"
     ]
    }
   ],
   "source": [
    "print(e)"
   ]
  },
  {
   "cell_type": "code",
   "execution_count": 16,
   "id": "8e6a1d26-31c9-40d9-acf1-0b9db84b4649",
   "metadata": {},
   "outputs": [
    {
     "name": "stdout",
     "output_type": "stream",
     "text": [
      "<class 'int'>\n"
     ]
    }
   ],
   "source": [
    "# 6. Create a variable `x` and assign it the value 42. Print its type using `type()`.\n",
    "\n",
    "f= 42\n",
    "print(type(f))"
   ]
  },
  {
   "cell_type": "code",
   "execution_count": 17,
   "id": "d3feeb99-68db-4dd5-8069-6081fae2aa95",
   "metadata": {},
   "outputs": [
    {
     "name": "stdout",
     "output_type": "stream",
     "text": [
      "['apple', 'banana', 'cherry']\n",
      "<class 'list'>\n"
     ]
    }
   ],
   "source": [
    "\n",
    "# 7. Create a list `fruits = ['apple', 'banana', 'cherry']`. Print the type of this list.\n",
    "fruits=['apple','banana','cherry'] #created a list \n",
    "print(fruits)\n",
    "print(type(fruits))"
   ]
  },
  {
   "cell_type": "code",
   "execution_count": 18,
   "id": "3ab89c6c-1925-4c3e-a880-291b20f09486",
   "metadata": {},
   "outputs": [
    {
     "name": "stdout",
     "output_type": "stream",
     "text": [
      "<class 'bool'>\n"
     ]
    }
   ],
   "source": [
    "# 8. Create a variable `is_active` and assign it the value `True`. Print its type.\n",
    "\n",
    "is_active=True\n",
    "\n",
    "print(type(is_active))"
   ]
  },
  {
   "cell_type": "code",
   "execution_count": 19,
   "id": "fdf9aaa2-8249-43ee-8b61-88665030c252",
   "metadata": {},
   "outputs": [
    {
     "name": "stdout",
     "output_type": "stream",
     "text": [
      "<class 'float'>\n"
     ]
    }
   ],
   "source": [
    "#9. Create a variable `price = 3.14`. Print its type\n",
    "price=3.14\n",
    "\n",
    "print(type(price))"
   ]
  },
  {
   "cell_type": "code",
   "execution_count": 21,
   "id": "7dce7497-b438-4cae-8286-c8c8b2b5a698",
   "metadata": {},
   "outputs": [
    {
     "name": "stdout",
     "output_type": "stream",
     "text": [
      "<class 'str'>\n"
     ]
    }
   ],
   "source": [
    "#10. Write a program to print the type of the string `'Hello World'`.\n",
    "print(type('Hello World'))\n",
    "\n"
   ]
  },
  {
   "cell_type": "code",
   "execution_count": 23,
   "id": "5df80baf-305a-46d3-b318-91471f8c93b1",
   "metadata": {},
   "outputs": [
    {
     "name": "stdout",
     "output_type": "stream",
     "text": [
      "['cherry', 'kiwi', 'orange']\n"
     ]
    }
   ],
   "source": [
    "\n",
    "# 11. Create a list of your 3 favorite fruits and print it.\n",
    "\n",
    "fruits=['cherry','kiwi','orange',]\n",
    "print(fruits)"
   ]
  },
  {
   "cell_type": "code",
   "execution_count": 25,
   "id": "e22c8b5e-fea5-49e1-b81f-32274f942bc9",
   "metadata": {},
   "outputs": [
    {
     "name": "stdout",
     "output_type": "stream",
     "text": [
      "('apple', 'banana', 'cherry')\n",
      "<class 'tuple'>\n",
      "**************************************************\n"
     ]
    }
   ],
   "source": [
    "#12. Convert a tuple `('apple', 'banana', 'cherry')` into a list. Print the new list.\n",
    "#create a tuple\n",
    "x=('apple', 'banana', 'cherry')\n",
    "print(x)\n",
    "\n",
    "print(type(x))\n",
    "print(\"*\"*50)\n",
    "\n"
   ]
  },
  {
   "cell_type": "code",
   "execution_count": 26,
   "id": "a8b578ef-8d4b-4eee-b1cc-b31ead16e60b",
   "metadata": {},
   "outputs": [
    {
     "name": "stdout",
     "output_type": "stream",
     "text": [
      "['apple', 'banana', 'cherry']\n",
      "<class 'list'>\n"
     ]
    }
   ],
   "source": [
    "#Now covert tuple to list \n",
    "y=list(x)\n",
    "print(y)\n",
    "\n",
    "print(type(y))"
   ]
  },
  {
   "cell_type": "code",
   "execution_count": 27,
   "id": "1d51f0fd-c5f6-4cf1-a9f1-23727d872417",
   "metadata": {},
   "outputs": [
    {
     "name": "stdout",
     "output_type": "stream",
     "text": [
      "10\n"
     ]
    }
   ],
   "source": [
    "#13. Create a list `my_list = [10, 20, 30]`. Access and print the first element of the list\n",
    "\n",
    "my_list=[10,20,30]#Here \n",
    "\n",
    "print(my_list[0])\n",
    "     "
   ]
  },
  {
   "cell_type": "code",
   "execution_count": 28,
   "id": "d0642f7d-6ca0-4a46-9f2d-65eb3f1042b2",
   "metadata": {},
   "outputs": [
    {
     "name": "stdout",
     "output_type": "stream",
     "text": [
      "3\n"
     ]
    }
   ],
   "source": [
    "#14. Find the length of the list `[10, 20, 30]` and print it.\n",
    "print(len(my_list))"
   ]
  },
  {
   "cell_type": "code",
   "execution_count": 29,
   "id": "1440d7ea-aa93-42bd-925a-66202582230b",
   "metadata": {},
   "outputs": [
    {
     "name": "stdout",
     "output_type": "stream",
     "text": [
      "[10, 20, 30, 40]\n"
     ]
    }
   ],
   "source": [
    "#15. Add the element `40` to the list `my_list = [10, 20, 30]` and print the updated list\n",
    "\n",
    "my_list=[10,20,30]\n",
    "my_list.insert(3,40) # adds one element at a  index[3]\n",
    "print(my_list) \n",
    "\n"
   ]
  },
  {
   "cell_type": "code",
   "execution_count": 30,
   "id": "7602aea9-1db8-4fa4-9667-15cd69be3676",
   "metadata": {},
   "outputs": [
    {
     "name": "stdout",
     "output_type": "stream",
     "text": [
      "0\n",
      "1\n",
      "2\n",
      "3\n",
      "4\n",
      "5\n"
     ]
    }
   ],
   "source": [
    "#16. Write a `for` loop to print numbers from 1 to 5.\n",
    "for i in range(6):\n",
    "    print(i)"
   ]
  },
  {
   "cell_type": "code",
   "execution_count": 31,
   "id": "9ce85400-ff21-4776-bbc8-3e6354b24bbb",
   "metadata": {},
   "outputs": [
    {
     "name": "stdout",
     "output_type": "stream",
     "text": [
      "3\n",
      "4\n",
      "5\n"
     ]
    }
   ],
   "source": [
    "#17. Write a `for` loop to print numbers from 3 to 5.\n",
    "for i in range(3,6):\n",
    "    print(i)"
   ]
  },
  {
   "cell_type": "code",
   "execution_count": 32,
   "id": "0bcb92e4-56fd-4085-bab1-fdbd41b2fc4b",
   "metadata": {},
   "outputs": [
    {
     "name": "stdout",
     "output_type": "stream",
     "text": [
      "apple\n",
      "banana\n",
      "cherry\n"
     ]
    }
   ],
   "source": [
    "#.18  Write a `for` loop to iterate over a list `['apple', 'banana', 'cherry']` and print each element\n",
    "\n",
    "my_list=['apple','banana','cherry'] #create list\n",
    "for i in my_list: \n",
    "    print(i) "
   ]
  },
  {
   "cell_type": "code",
   "execution_count": 33,
   "id": "7a46c119-afc7-4b4a-822f-3d50afbfb450",
   "metadata": {},
   "outputs": [
    {
     "name": "stdout",
     "output_type": "stream",
     "text": [
      "1² = 1\n",
      "2² = 4\n",
      "3² = 9\n",
      "4² = 16\n"
     ]
    }
   ],
   "source": [
    "#  19. Print the square of numbers from 1 to 4 using a `for` loop\n",
    "for i in range(1,5): \n",
    "    print(f\"{i}² = {i**2}\")"
   ]
  },
  {
   "cell_type": "code",
   "execution_count": 34,
   "id": "7e85ba55-d424-4631-b0c0-3cb8de343be9",
   "metadata": {},
   "outputs": [
    {
     "name": "stdout",
     "output_type": "stream",
     "text": [
      "1 x 2 = 2\n",
      "2 x 2 = 4\n",
      "3 x 2 = 6\n",
      "4 x 2 = 8\n",
      "5 x 2 = 10\n"
     ]
    }
   ],
   "source": [
    "#20. Write a `for` loop that prints `i * 2` for `i` in the range of 5.\n",
    "for i in range(1,6): #1 to 6 but not including 5 so 1 to 5\n",
    "    print(f\"{i} x 2 = {i*2}\")"
   ]
  },
  {
   "cell_type": "code",
   "execution_count": 35,
   "id": "9ce358c6-d998-4443-b5c2-2ef9b13e159b",
   "metadata": {},
   "outputs": [
    {
     "name": "stdout",
     "output_type": "stream",
     "text": [
      "1\n",
      "2\n",
      "3\n",
      "4\n",
      "5\n"
     ]
    }
   ],
   "source": [
    "# 21. Write a `while` loop that prints numbers from 1 to 5.\n",
    "\n",
    "number=1 \n",
    "while number<=5: \n",
    "  print(number) \n",
    "  number+=1 "
   ]
  },
  {
   "cell_type": "code",
   "execution_count": 36,
   "id": "32d0592b-dc8f-4657-84e7-7aab71548b07",
   "metadata": {},
   "outputs": [
    {
     "name": "stdout",
     "output_type": "stream",
     "text": [
      "0\n",
      "1\n",
      "2\n",
      "3\n"
     ]
    }
   ],
   "source": [
    "# 22. Write a `while` loop that prints numbers from 0 to 3.\n",
    "\n",
    "number=0 #initialize num\n",
    "while number<=3: \n",
    "  print(number) \n",
    "  number+=1 "
   ]
  },
  {
   "cell_type": "code",
   "execution_count": 37,
   "id": "8c899baf-9546-4ae4-89ad-c77d5aaa5fbe",
   "metadata": {},
   "outputs": [
    {
     "name": "stdout",
     "output_type": "stream",
     "text": [
      "55\n"
     ]
    }
   ],
   "source": [
    "#23. Write a `while` loop that calculates and prints the sum of numbers from 1 to 10.\n",
    "\n",
    "number=1\n",
    "sum=0\n",
    "while number<=10:\n",
    "    sum+=number\n",
    "    number+=1\n",
    "print(sum)\n"
   ]
  },
  {
   "cell_type": "code",
   "execution_count": 38,
   "id": "f652a062-09a6-414a-aba3-e35617da6365",
   "metadata": {},
   "outputs": [
    {
     "name": "stdout",
     "output_type": "stream",
     "text": [
      "24\n"
     ]
    }
   ],
   "source": [
    "#24. Create a `while` loop that multiplies numbers from 1 to 4 and prints the\n",
    "#result.\n",
    "number= 1\n",
    "multiples=1\n",
    "while number<=4:\n",
    "    multiples*=number\n",
    "    number+=1\n",
    "print(multiples)"
   ]
  },
  {
   "cell_type": "code",
   "execution_count": 39,
   "id": "f0df43c2-aba5-4df6-8093-92ee5a0fbb77",
   "metadata": {},
   "outputs": [
    {
     "name": "stdout",
     "output_type": "stream",
     "text": [
      "10\n",
      "9\n",
      "8\n",
      "7\n",
      "6\n",
      "5\n",
      "4\n",
      "3\n",
      "2\n",
      "1\n"
     ]
    }
   ],
   "source": [
    "#25. Write a `while` loop that prints numbers from 10 to 1, decrementing by 1 each time.\n",
    "number=10\n",
    "while number>0:\n",
    "  print(number)\n",
    "  number-=1 #minus sign decrements the values "
   ]
  },
  {
   "cell_type": "code",
   "execution_count": 40,
   "id": "34971e2c-f4fa-432c-b24f-7c81e932a7c8",
   "metadata": {},
   "outputs": [
    {
     "name": "stdin",
     "output_type": "stream",
     "text": [
      "Enter a number:  98\n"
     ]
    },
    {
     "name": "stdout",
     "output_type": "stream",
     "text": [
      "98 is positive\n"
     ]
    }
   ],
   "source": [
    "# 26. Write a program that checks if a number is positive, negative, or zero\n",
    "a=int(input(\"Enter a number: \"))\n",
    "\n",
    "if a==0:\n",
    "  print(\"Number is zero\")\n",
    "elif a<0:\n",
    "  print(f\"{a} is negative\")\n",
    "else:\n",
    "  print(f\"{a} is positive\")"
   ]
  },
  {
   "cell_type": "code",
   "execution_count": 41,
   "id": "d2bb68eb-fc15-4523-a82c-2eb559c62060",
   "metadata": {},
   "outputs": [
    {
     "name": "stdin",
     "output_type": "stream",
     "text": [
      "Enter a number:  43\n"
     ]
    },
    {
     "name": "stdout",
     "output_type": "stream",
     "text": [
      "43 is odd\n"
     ]
    }
   ],
   "source": [
    "# 27. Write a program that checks if a number is even or odd using `if-else`.\n",
    "\n",
    "b=int(input(\"Enter a number: \"))\n",
    "if b % 2 ==0:\n",
    "  print(f\"{b} is even\")\n",
    "else:\n",
    "  print(f\"{b} is odd\")"
   ]
  },
  {
   "cell_type": "code",
   "execution_count": 43,
   "id": "be46a68d-73fa-4a3e-8608-c700d4bd8728",
   "metadata": {},
   "outputs": [
    {
     "name": "stdin",
     "output_type": "stream",
     "text": [
      "Enter a number:  8\n"
     ]
    },
    {
     "name": "stdout",
     "output_type": "stream",
     "text": [
      "8 is smaller than 10\n"
     ]
    }
   ],
   "source": [
    "#28. Write a program that checks if a number is greater than 10 and prints 'Greater', otherwise prints 'Smaller'\n",
    "\n",
    "x=int(input(\"Enter a number: \"))\n",
    "\n",
    "if x>10:\n",
    "  print(f\"{x} is greater than 10\")\n",
    "else:\n",
    "  print(f\"{x} is smaller than 10\")"
   ]
  },
  {
   "cell_type": "code",
   "execution_count": 46,
   "id": "ebe288a9-9d02-4b99-bfa7-703bb95213ea",
   "metadata": {},
   "outputs": [
    {
     "name": "stdin",
     "output_type": "stream",
     "text": [
      "enter score:  65\n"
     ]
    },
    {
     "name": "stdout",
     "output_type": "stream",
     "text": [
      "Grade:C\n"
     ]
    }
   ],
   "source": [
    "#29. Write a program that prints the grade based on a score: A (90-100), B (70-89), C (50-69), and D (0-49=int(input(\"enter grade: \"))\n",
    "score=int(input(\"enter score: \"))\n",
    "if score>=90 and score<=100:\n",
    "  print(\"Grade:A\")\n",
    "elif score>=70 and score<=89:\n",
    "  print(\"Grade:B\")\n",
    "elif score>=50 and score<=69:\n",
    "  print(\"Grade:C\")\n",
    "else:\n",
    "  print(\"Grade:D\")"
   ]
  },
  {
   "cell_type": "code",
   "execution_count": 47,
   "id": "22086208-4f40-4b00-a3f5-164dbbbee91e",
   "metadata": {},
   "outputs": [
    {
     "name": "stdin",
     "output_type": "stream",
     "text": [
      "Enter a number:  80\n"
     ]
    },
    {
     "name": "stdout",
     "output_type": "stream",
     "text": [
      "Divisible by 5\n"
     ]
    }
   ],
   "source": [
    "# 30. Write a program that checks if a number is divisible by 5 and prints 'Divisible' or 'Not Divisible'.\n",
    "number=int(input(\"Enter a number: \"))\n",
    "\n",
    "if number%5==0:\n",
    "  print(\"Divisible by 5\")\n",
    "else:\n",
    "  print(\"Not divisible by 5\")"
   ]
  },
  {
   "cell_type": "code",
   "execution_count": 52,
   "id": "50747990-0a29-490b-8c1b-c7d546d9795b",
   "metadata": {},
   "outputs": [
    {
     "name": "stdout",
     "output_type": "stream",
     "text": [
      "sum: 15\n"
     ]
    }
   ],
   "source": [
    "#31. Write a function `add_numbers(a, b)` that returns the sum of two number\n",
    "def add(a,b):\n",
    "  return(a+b)\n",
    "print(\"sum:\",add(7,8)) \n",
    "\n"
   ]
  },
  {
   "cell_type": "code",
   "execution_count": 55,
   "id": "da50cf5d-abb4-48ed-b24c-899536f1a5b1",
   "metadata": {},
   "outputs": [
    {
     "name": "stdin",
     "output_type": "stream",
     "text": [
      "Enter a string to be reversed :  Pradnya\n"
     ]
    },
    {
     "data": {
      "text/plain": [
       "'ayndarP'"
      ]
     },
     "execution_count": 55,
     "metadata": {},
     "output_type": "execute_result"
    }
   ],
   "source": [
    "\n",
    "#32. Write a function `revstr(s)` that returns the reverse of a string\n",
    "def revstr(s):\n",
    "  return(s[-1: :-1])\n",
    "\n",
    "\n",
    "mystr=input(\"Enter a string to be reversed : \")\n",
    "revstr(mystr)"
   ]
  },
  {
   "cell_type": "code",
   "execution_count": 56,
   "id": "a1163059-e9c5-4ab6-8794-851f60ebc311",
   "metadata": {},
   "outputs": [],
   "source": [
    "#33"
   ]
  },
  {
   "cell_type": "code",
   "execution_count": 57,
   "id": "8a53f5ad-74ee-4f57-9754-2f5da929f68e",
   "metadata": {},
   "outputs": [
    {
     "name": "stdin",
     "output_type": "stream",
     "text": [
      "Enter a number:  8\n"
     ]
    },
    {
     "name": "stdout",
     "output_type": "stream",
     "text": [
      "factorial of 8 is 8! = 40320\n"
     ]
    }
   ],
   "source": [
    "#34. Write a function that calculates the factorial of a number using a loop\n",
    "def factorial(num):\n",
    "  list=[]\n",
    "  while num>0:\n",
    "    list.append(num)\n",
    "    num-=1\n",
    "  factorial=1\n",
    "  for i in list:\n",
    "    factorial*=i\n",
    "\n",
    "  return factorial\n",
    "\n",
    "numb=int(input(\"Enter a number: \"))\n",
    "print(f\"factorial of {numb} is {numb}! =\",factorial(numb))"
   ]
  },
  {
   "cell_type": "code",
   "execution_count": 58,
   "id": "71b714e7-841e-46e1-ae80-ab8b74789645",
   "metadata": {},
   "outputs": [
    {
     "data": {
      "text/plain": [
       "72"
      ]
     },
     "execution_count": 58,
     "metadata": {},
     "output_type": "execute_result"
    }
   ],
   "source": [
    "# 35. Write a function `multiply(a, b)` that returns the product of two numbers and prints the result.\n",
    "def multiply(a,b):\n",
    "  return(a*b)\n",
    "\n",
    "multiply(8,9)"
   ]
  },
  {
   "cell_type": "code",
   "execution_count": 59,
   "id": "cbed6b54-9cb5-48d7-8238-07496ac2fd7c",
   "metadata": {},
   "outputs": [
    {
     "data": {
      "text/plain": [
       "142"
      ]
     },
     "execution_count": 59,
     "metadata": {},
     "output_type": "execute_result"
    }
   ],
   "source": [
    "#36. Write a lambda function that adds two numbers and prints the result.\n",
    "add=lambda x,y:x+y \n",
    "\n",
    "add(97,45) "
   ]
  },
  {
   "cell_type": "code",
   "execution_count": 61,
   "id": "4ddeb843-fe21-4e2c-bc8a-7a1a77bbdd98",
   "metadata": {},
   "outputs": [
    {
     "name": "stdin",
     "output_type": "stream",
     "text": [
      "Enter a number to square:  4\n"
     ]
    },
    {
     "name": "stdout",
     "output_type": "stream",
     "text": [
      "Method 1: 4² =  16\n",
      "Method 2: 4² =  16\n"
     ]
    }
   ],
   "source": [
    "#37. Use a lambda function to square a number and print the result\n",
    "#two ways to square a*a or a**2 eg: (2*2 or 2**2 both will give 4) we will do both\n",
    "square_1=lambda a:a*a\n",
    "square_2=lambda a:a**2\n",
    "number=int(input(\"Enter a number to square: \"))\n",
    "print(f\"Method 1: {number}² = \",square_1(number))\n",
    "print(f\"Method 2: {number}² = \",square_2(number))"
   ]
  },
  {
   "cell_type": "code",
   "execution_count": 63,
   "id": "930f42a3-9c04-4e76-9c3a-81fb893de9d7",
   "metadata": {},
   "outputs": [
    {
     "name": "stdin",
     "output_type": "stream",
     "text": [
      "Enter a number to cube:  3\n"
     ]
    },
    {
     "name": "stdout",
     "output_type": "stream",
     "text": [
      "Approach 1: 3³ =  27\n",
      "Approach 2: 3³ =  27\n"
     ]
    }
   ],
   "source": [
    "#38.i)Use a lambda function to cube a number and print the result\n",
    "#similar to previous code we will use two approaches for cubing\n",
    "cube_1=lambda a:a*a*a\n",
    "cube_2=lambda a:a**3\n",
    "number=int(input(\"Enter a number to cube: \"))\n",
    "print(f\"Approach 1: {number}³ = \",cube_1(number))\n",
    "print(f\"Approach 2: {number}³ = \",cube_2(number))"
   ]
  },
  {
   "cell_type": "code",
   "execution_count": 64,
   "id": "579c1ca3-e485-42ef-a49c-3a7fe413a396",
   "metadata": {},
   "outputs": [],
   "source": [
    "#38.\n",
    "# ii)Write a lambda function to find the cube of a number and call it with the value `3`\n"
   ]
  },
  {
   "cell_type": "code",
   "execution_count": 65,
   "id": "e35837c9-2174-40cb-b808-c06055cb8b30",
   "metadata": {},
   "outputs": [
    {
     "name": "stdout",
     "output_type": "stream",
     "text": [
      "[2, 4, 6]\n"
     ]
    }
   ],
   "source": [
    "# 39. Write a lambda function that filters even numbers from the list `[1, 2, 3, 4, 5, 6]`\n",
    "even=lambda list:[i for i in my_list if i%2==0] \n",
    "my_list=[1,2,3,4,5,6]\n",
    "print(even(my_list))"
   ]
  },
  {
   "cell_type": "code",
   "execution_count": 66,
   "id": "c392a848-89fb-4bbf-bebd-0d2235b35356",
   "metadata": {},
   "outputs": [
    {
     "name": "stdin",
     "output_type": "stream",
     "text": [
      "Enter a number:  87\n"
     ]
    },
    {
     "name": "stdout",
     "output_type": "stream",
     "text": [
      "['true, 8 is positive']\n"
     ]
    }
   ],
   "source": [
    "#40. Write a lambda function that checks if a number is positive or not give true or false respectively\n",
    "pos=lambda a:[f\"true, {x} is positive\" if a>0 and a!=0 else f\"false, {x} not positive\"]\n",
    "\n",
    "num=int(input(\"Enter a number: \"))\n",
    "print(pos(num))"
   ]
  },
  {
   "cell_type": "code",
   "execution_count": 68,
   "id": "42a01785-9f93-41e8-a714-dbcfd8203ac7",
   "metadata": {},
   "outputs": [],
   "source": [
    "#41. use map to multiply the numbers by 2 in the list `[1, 2, 3, 4]`\n"
   ]
  },
  {
   "cell_type": "code",
   "execution_count": 71,
   "id": "d51a2467-b093-4649-8809-6a082f718ff6",
   "metadata": {},
   "outputs": [
    {
     "name": "stdout",
     "output_type": "stream",
     "text": [
      "[1, 4, 9, 16, 25]\n"
     ]
    }
   ],
   "source": [
    "#42. map to square the numbers in the list `[1, 2, 3, 4, 5]`\n",
    "def square(a):\n",
    "    return a * a\n",
    "\n",
    "sq_number = map(square, [1, 2, 3, 4, 5])\n",
    "print(list(sq_number))"
   ]
  },
  {
   "cell_type": "code",
   "execution_count": 73,
   "id": "800b0b77-2232-4ede-9455-a5171862bc80",
   "metadata": {},
   "outputs": [
    {
     "name": "stdout",
     "output_type": "stream",
     "text": [
      "[1, 16, 81, 256]\n"
     ]
    }
   ],
   "source": [
    "#44 use map to square the numbers in the list `[1, 4, 9, 16]`\n",
    "def square(a):\n",
    "    return a * a\n",
    "\n",
    "sq_number = map(square, [1, 4, 9, 16])\n",
    "print(list(sq_number))\n"
   ]
  },
  {
   "cell_type": "code",
   "execution_count": 74,
   "id": "42e64e57-b98e-4af4-ac01-31539187364c",
   "metadata": {},
   "outputs": [
    {
     "name": "stdout",
     "output_type": "stream",
     "text": [
      "56\n",
      "58\n",
      "52\n"
     ]
    }
   ],
   "source": [
    "#46. use filter to filter out the even numbers from the list\n",
    "def iseven(a):\n",
    "  if a%2==0:\n",
    "    return True\n",
    "  else:\n",
    "    return False\n",
    "\n",
    "my_list=[56,57,58,59,53,52]\n",
    "even=filter(iseven,my_list)\n",
    "\n",
    "for i in even:\n",
    "  print(i)"
   ]
  },
  {
   "cell_type": "code",
   "execution_count": 75,
   "id": "5db60c23-1a8e-45b5-b9bf-d3d0d9b93255",
   "metadata": {},
   "outputs": [
    {
     "name": "stdout",
     "output_type": "stream",
     "text": [
      "56\n",
      "57\n",
      "58\n",
      "59\n",
      "53\n",
      "52\n"
     ]
    }
   ],
   "source": [
    "#47. use filter to filter out the numbers that are greater than 3\n",
    "def greaterthan(a):\n",
    "  if a>=3: \n",
    "    return True \n",
    "  else:\n",
    "    return False\n",
    "greater=filter(greaterthan,my_list) \n",
    "\n",
    "for i in greater:\n",
    "  print(i)\n",
    "     "
   ]
  },
  {
   "cell_type": "code",
   "execution_count": 77,
   "id": "0d42b025-10ee-4ccd-92e8-acf5da9fc75a",
   "metadata": {},
   "outputs": [
    {
     "name": "stdout",
     "output_type": "stream",
     "text": [
      "Shyam\n",
      "Laxman\n"
     ]
    }
   ],
   "source": [
    "#48. use filter to filter out the strings that are longer than 3 in length\n",
    "def lent(a):\n",
    "  if len(a)>3: #if length of string is greater than 3 True Else False\n",
    "    return True\n",
    "  else:\n",
    "    return False\n",
    "\n",
    "my_lis2=['Ram','Shyam','Laxman','Mon']\n",
    "\n",
    "lentt=filter(lent,my_lis2) #filter names longer than 3\n",
    "\n",
    "for i in lentt:\n",
    "  print(i)\n",
    "\n",
    "for i in lentt:\n",
    "  print(i)"
   ]
  },
  {
   "cell_type": "code",
   "execution_count": 78,
   "id": "d830627f-dbfa-4641-8a87-af5ebeacb5ea",
   "metadata": {},
   "outputs": [
    {
     "name": "stdout",
     "output_type": "stream",
     "text": [
      "-29\n",
      "-87\n",
      "-5\n"
     ]
    }
   ],
   "source": [
    "#49. use filter to filter out the negative numbers\n",
    "def check(a):\n",
    "  if a>0 and a!=0:\n",
    "    return False\n",
    "  else:\n",
    "    return True\n",
    "my_list=[-29,-87,66,42,-5]\n",
    "\n",
    "check=filter(check,my_list)\n",
    "\n",
    "for i in check:\n",
    "  print(i)"
   ]
  },
  {
   "cell_type": "code",
   "execution_count": 82,
   "id": "ea2addc9-e473-4424-af49-1c2d88096483",
   "metadata": {},
   "outputs": [],
   "source": [
    "#50. Use `filter()` to find all numbers divisible by 3 from the list `[1, 2, 3, 4, 5,6]`\n",
    "def divthree(a):\n",
    "  if a%3==0: #if number is divisible by 3 true else false\n",
    "    return True\n",
    "  else:\n",
    "    return False\n",
    "      \n",
    "\n"
   ]
  },
  {
   "cell_type": "code",
   "execution_count": 83,
   "id": "f02fd6d4-f6af-47dc-90e7-34ffe863bca6",
   "metadata": {},
   "outputs": [
    {
     "data": {
      "text/plain": [
       "[-29, -87, 66, 42, -5]"
      ]
     },
     "execution_count": 83,
     "metadata": {},
     "output_type": "execute_result"
    }
   ],
   "source": [
    "my_list\n"
   ]
  },
  {
   "cell_type": "code",
   "execution_count": 85,
   "id": "bd7e0e4f-df8c-406c-a3f5-cd3e3de86037",
   "metadata": {},
   "outputs": [
    {
     "name": "stdout",
     "output_type": "stream",
     "text": [
      "-87\n",
      "66\n",
      "42\n"
     ]
    }
   ],
   "source": [
    "threediv=filter(divthree,my_list) #filtering numbers divisible by 3\n",
    "for i in threediv:\n",
    "  print(i)"
   ]
  },
  {
   "cell_type": "code",
   "execution_count": 86,
   "id": "785e3db8-e9d4-4a0b-9c45-791ccaba1ba3",
   "metadata": {},
   "outputs": [
    {
     "name": "stdout",
     "output_type": "stream",
     "text": [
      "1\n",
      "2\n",
      "4\n",
      "5\n"
     ]
    }
   ],
   "source": [
    "# 52. Write a program that prints numbers from 1 to 5, but skips 3 using `continue`.\n",
    "for i in range(1,6):\n",
    "  if i==3:\n",
    "    continue \n",
    "  print(i)\n",
    "     \n",
    "\n"
   ]
  },
  {
   "cell_type": "code",
   "execution_count": 87,
   "id": "8ed8e545-be1a-4d0a-a433-7221dfb00244",
   "metadata": {},
   "outputs": [
    {
     "name": "stdout",
     "output_type": "stream",
     "text": [
      "1\n",
      "2\n",
      "3\n",
      "4\n"
     ]
    }
   ],
   "source": [
    "#53. Write a program that prints numbers from 1 to 5, but breaks the loop when number is greater than 4\n",
    "for i in range(1,6):\n",
    "  if i>4:\n",
    "    break\n",
    "  print(i)"
   ]
  },
  {
   "cell_type": "code",
   "execution_count": 88,
   "id": "eb474918-f467-48bc-8067-bbfaf0957089",
   "metadata": {},
   "outputs": [
    {
     "name": "stdout",
     "output_type": "stream",
     "text": [
      "2\n",
      "4\n",
      "6\n",
      "8\n",
      "10\n"
     ]
    }
   ],
   "source": [
    "#54. Write a program that prints even numbers from 1 to 10 using `continue`.\n",
    "for i in range(1,11):\n",
    "  if i%2!=0:\n",
    "    continue\n",
    "  print(i)"
   ]
  },
  {
   "cell_type": "code",
   "execution_count": 89,
   "id": "cc1fd5d7-304c-41c8-a955-d8c16b946e38",
   "metadata": {},
   "outputs": [
    {
     "name": "stdout",
     "output_type": "stream",
     "text": [
      "1\n",
      "2\n",
      "3\n"
     ]
    }
   ],
   "source": [
    "#55. Write a program that prints numbers from 1 to 5, but breaks the loop when negative number is encountered\n",
    "my_list5=[1, 2, 3, -1, 4]\n",
    "\n",
    "for i in my_list5:\n",
    "  if i<0: #if number is negative\n",
    "    break #it will break the loop i.e not print -1 and stop\n",
    "  print(i)"
   ]
  },
  {
   "cell_type": "code",
   "execution_count": 90,
   "id": "49d35751-5ed7-432a-ad7b-e9b3e17d64a6",
   "metadata": {},
   "outputs": [
    {
     "name": "stdout",
     "output_type": "stream",
     "text": [
      "0 apple\n",
      "1 banana\n",
      "2 cherry\n"
     ]
    }
   ],
   "source": [
    "#56. Write a program that uses `enumerate()` to print the index and value of each element in the list `['apple', 'banana', 'cherry']`.\n",
    "my_list=['apple','banana','cherry']\n",
    "for index,name in enumerate(my_list): #index and name are variables and my_list is the list which will be iterated\n",
    "  print(index,name)"
   ]
  },
  {
   "cell_type": "code",
   "execution_count": 92,
   "id": "6cd5a2b6-699d-4201-b647-1af22d889d14",
   "metadata": {},
   "outputs": [
    {
     "name": "stdout",
     "output_type": "stream",
     "text": [
      "[(1, 2, 3), ('a', 'b', 'c')]\n",
      "[1, 2, 3]\n",
      "['a', 'b', 'c']\n"
     ]
    }
   ],
   "source": [
    "#57. Write a program to unzip the list of tuples `[(1, 'a'), (2, 'b'), (3, 'c')]` into two separate lists\n",
    "my_list=[(1, 'a'), (2, 'b'), (3, 'c')] #list of tuples\n",
    "\n",
    "x=list(zip(*my_list)) \n",
    "print(x) \n",
    "l1,l2=map(list,x) \n",
    "print(l1)\n",
    "print(l2)"
   ]
  },
  {
   "cell_type": "code",
   "execution_count": 93,
   "id": "0dbb5414-2b48-446e-8bcf-b2ce19189204",
   "metadata": {},
   "outputs": [
    {
     "name": "stdout",
     "output_type": "stream",
     "text": [
      "[('apple', 1), ('banana', 2)]\n"
     ]
    }
   ],
   "source": [
    "# 58. Write a program that zips two lists `['apple', 'banana']` and `[1, 2]` and prints the result.\n",
    "#two lists\n",
    "x=['apple', 'banana']\n",
    "y=[1,2]\n",
    "\n",
    "q=list(zip(x,y))\n",
    "print(q)"
   ]
  },
  {
   "cell_type": "code",
   "execution_count": 94,
   "id": "c3e0ad02-6f71-40d9-a2de-0bdb250ada7a",
   "metadata": {},
   "outputs": [
    {
     "name": "stdout",
     "output_type": "stream",
     "text": [
      "[5, 7, 9]\n"
     ]
    }
   ],
   "source": [
    "#59. Write a program to find the sum of corresponding elements in two lists `a = [1, 2, 3]` and `b = [4, 5, 6]` using `zip()`\n",
    "# Create two lists a and b\n",
    "a = [1, 2, 3]\n",
    "b = [4, 5, 6]\n",
    "\n",
    "\n",
    "sums = [x + y for x, y in zip(a, b)] \n",
    "\n",
    "print(sums)"
   ]
  },
  {
   "cell_type": "code",
   "execution_count": 95,
   "id": "4a3f2cb1-b4a4-4d9f-8f58-bfa660182e02",
   "metadata": {},
   "outputs": [
    {
     "name": "stdout",
     "output_type": "stream",
     "text": [
      "0 Ram\n",
      "1 Shyam\n",
      "2 Mon\n"
     ]
    }
   ],
   "source": [
    "# 60. Use `enumerate()` to loop over a list of names and print each name with its index\n",
    "names=['Ram','Shyam','Mon'] \n",
    "for index,name in enumerate(names): \n",
    "  print(index,name)"
   ]
  },
  {
   "cell_type": "code",
   "execution_count": null,
   "id": "55b1ac87-0212-4067-88ed-73ea0b6f9e65",
   "metadata": {},
   "outputs": [],
   "source": []
  }
 ],
 "metadata": {
  "kernelspec": {
   "display_name": "Python 3 (ipykernel)",
   "language": "python",
   "name": "python3"
  },
  "language_info": {
   "codemirror_mode": {
    "name": "ipython",
    "version": 3
   },
   "file_extension": ".py",
   "mimetype": "text/x-python",
   "name": "python",
   "nbconvert_exporter": "python",
   "pygments_lexer": "ipython3",
   "version": "3.12.7"
  }
 },
 "nbformat": 4,
 "nbformat_minor": 5
}
