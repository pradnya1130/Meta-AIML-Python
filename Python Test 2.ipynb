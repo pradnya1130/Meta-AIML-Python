{
 "cells": [
  {
   "cell_type": "code",
   "execution_count": 1,
   "id": "46bba8bd-9e65-4b8c-b745-4be6ea448431",
   "metadata": {},
   "outputs": [],
   "source": [
    "#1. List five Python keywords and describe what they do.\n"
   ]
  },
  {
   "cell_type": "code",
   "execution_count": 2,
   "id": "e45a929f-779d-4427-beff-db64fb8f4c6c",
   "metadata": {},
   "outputs": [],
   "source": [
    "#Keywords are special or reserved words that are recognized by Python \n",
    "#\n",
    "\n",
    "\n"
   ]
  },
  {
   "cell_type": "code",
   "execution_count": 3,
   "id": "da3990d6-0763-4263-aedd-2c9a3178d53b",
   "metadata": {},
   "outputs": [],
   "source": [
    "#2. Write an expression to calculate the area of a rectangle with a length of 5 and width of 10."
   ]
  },
  {
   "cell_type": "code",
   "execution_count": 4,
   "id": "3ac40080-a262-422e-9dfd-112c7dd29e15",
   "metadata": {},
   "outputs": [],
   "source": [
    "l=5 \n",
    "b=10\n",
    "a=l*b\n"
   ]
  },
  {
   "cell_type": "code",
   "execution_count": 5,
   "id": "f8786b01-adfb-4c16-b2a0-bafe0b6cfed9",
   "metadata": {},
   "outputs": [
    {
     "data": {
      "text/plain": [
       "50"
      ]
     },
     "execution_count": 5,
     "metadata": {},
     "output_type": "execute_result"
    }
   ],
   "source": [
    "a"
   ]
  },
  {
   "cell_type": "code",
   "execution_count": 6,
   "id": "1e06880f-96c6-40d6-accb-d81fca47642c",
   "metadata": {},
   "outputs": [],
   "source": [
    "#3. Use the `is` keyword to check if two variables point to the same object."
   ]
  },
  {
   "cell_type": "code",
   "execution_count": 7,
   "id": "54823fa4-a9ab-4998-bc87-76f9225e59c1",
   "metadata": {},
   "outputs": [
    {
     "name": "stdout",
     "output_type": "stream",
     "text": [
      "True\n",
      "False\n"
     ]
    }
   ],
   "source": [
    "a = [1, 2, 3]\n",
    "b = a          # Both a and b point to the same list object\n",
    "c = [1, 2, 3]  # c is a different list with the same contents\n",
    "\n",
    "print(a is b)  # True, because a and b refer to the same object\n",
    "print(a is c)  # False, because a and c are different objects in memory\n"
   ]
  },
  {
   "cell_type": "code",
   "execution_count": 8,
   "id": "f05792d3-4c58-4095-b5cd-6fc0c207ecde",
   "metadata": {},
   "outputs": [],
   "source": [
    "#4. Write a Python expression that combines addition, subtraction, multiplication, and division.\n"
   ]
  },
  {
   "cell_type": "code",
   "execution_count": 9,
   "id": "afa05f46-718b-49e7-a373-019d8748f679",
   "metadata": {},
   "outputs": [],
   "source": [
    "result = (10 + 5) * 3 - 8 / 2"
   ]
  },
  {
   "cell_type": "code",
   "execution_count": 10,
   "id": "2ab0fdbb-cd39-44b9-b406-7faace5c96b8",
   "metadata": {},
   "outputs": [
    {
     "data": {
      "text/plain": [
       "41.0"
      ]
     },
     "execution_count": 10,
     "metadata": {},
     "output_type": "execute_result"
    }
   ],
   "source": [
    "result"
   ]
  },
  {
   "cell_type": "code",
   "execution_count": 11,
   "id": "5c714ea4-9818-4ebe-bf75-50ae215db989",
   "metadata": {},
   "outputs": [],
   "source": [
    "#5. What is the output of `10 % 3`? Explain why.\n"
   ]
  },
  {
   "cell_type": "code",
   "execution_count": 12,
   "id": "7c5198fd-98a0-4e75-9708-6b0134fc01e5",
   "metadata": {},
   "outputs": [
    {
     "data": {
      "text/plain": [
       "1"
      ]
     },
     "execution_count": 12,
     "metadata": {},
     "output_type": "execute_result"
    }
   ],
   "source": [
    "10%3"
   ]
  },
  {
   "cell_type": "code",
   "execution_count": 13,
   "id": "e0a73c58-8b6e-4aa7-b694-ac8d997ce71e",
   "metadata": {},
   "outputs": [],
   "source": [
    "#10 divided by 3 is 3 with a remainder of 1"
   ]
  },
  {
   "cell_type": "code",
   "execution_count": 14,
   "id": "efbcc9ca-5874-43c8-be6b-b8c273f04639",
   "metadata": {},
   "outputs": [],
   "source": [
    "#Data Types\n",
    "#6. Check the type of the value `3.14` in Python.\n"
   ]
  },
  {
   "cell_type": "code",
   "execution_count": 15,
   "id": "a539827e-89f9-4604-a1d5-477619d1eceb",
   "metadata": {},
   "outputs": [
    {
     "data": {
      "text/plain": [
       "float"
      ]
     },
     "execution_count": 15,
     "metadata": {},
     "output_type": "execute_result"
    }
   ],
   "source": [
    "type(3.14)"
   ]
  },
  {
   "cell_type": "code",
   "execution_count": 16,
   "id": "ad976943-2db4-4846-b6ab-9923797080c5",
   "metadata": {},
   "outputs": [],
   "source": [
    "#7. Convert the integer `10` to a float and a string. Print the results.\n",
    "\n"
   ]
  },
  {
   "cell_type": "code",
   "execution_count": 17,
   "id": "067bef29-9dab-4192-bb79-03e462a433aa",
   "metadata": {},
   "outputs": [
    {
     "name": "stdout",
     "output_type": "stream",
     "text": [
      "10.0\n",
      "10\n"
     ]
    }
   ],
   "source": [
    "num = 10\n",
    "\n",
    "# Convert to float\n",
    "num_float = float(num)\n",
    "\n",
    "# Convert to string\n",
    "num_string = str(num)\n",
    "\n",
    "# Print the results\n",
    "print(num_float)   # Output: 10.0\n",
    "print(num_string)  # Output: \"10\""
   ]
  },
  {
   "cell_type": "code",
   "execution_count": 18,
   "id": "ebc221b3-b850-44f0-a330-5eafa1fab02e",
   "metadata": {},
   "outputs": [
    {
     "name": "stdout",
     "output_type": "stream",
     "text": [
      "Hello, world!\n"
     ]
    }
   ],
   "source": [
    "#8. Write a statement to add two strings and print the result.\n",
    "\n",
    "# Define the strings\n",
    "string1 = \"Hello, \"\n",
    "string2 = \"world!\"\n",
    "\n",
    "# Concatenate and print the result\n",
    "result = string1 + string2\n",
    "print(result)\n",
    "\n"
   ]
  },
  {
   "cell_type": "code",
   "execution_count": 19,
   "id": "0bc38205-2d29-47dc-adf2-201f66808d2d",
   "metadata": {},
   "outputs": [
    {
     "data": {
      "text/plain": [
       "bool"
      ]
     },
     "execution_count": 19,
     "metadata": {},
     "output_type": "execute_result"
    }
   ],
   "source": [
    "#9. What data type would the result of `3 > 2` be?\n",
    "\n",
    "type(3>2)\n",
    "\n"
   ]
  },
  {
   "cell_type": "code",
   "execution_count": 3,
   "id": "888884a7-dd93-4b58-a3c9-2eced35fb586",
   "metadata": {},
   "outputs": [
    {
     "name": "stdout",
     "output_type": "stream",
     "text": [
      "123\n"
     ]
    }
   ],
   "source": [
    "#10  How can you convert a string \"123\" into an integer?\n",
    "x_str = \"123\"\n",
    "x_int = int(x_str)\n",
    "print(x_int)\n",
    "\n",
    "\n",
    "\n"
   ]
  },
  {
   "cell_type": "code",
   "execution_count": 21,
   "id": "6e75f5ff-48f8-46d4-9a32-c08b8516a2d3",
   "metadata": {},
   "outputs": [],
   "source": [
    "# DATA STRUCTURES \n",
    "#11. Create a list of 5 elements and print the third element."
   ]
  },
  {
   "cell_type": "code",
   "execution_count": 6,
   "id": "70860f91-4687-44d7-b064-6948eb82138b",
   "metadata": {},
   "outputs": [
    {
     "name": "stdout",
     "output_type": "stream",
     "text": [
      "3\n"
     ]
    }
   ],
   "source": [
    "\n",
    "roll_no = [1, 2, 3, 4, 5]\n",
    "print(roll_no[2])\n",
    "\n",
    "\n",
    "\n"
   ]
  },
  {
   "cell_type": "code",
   "execution_count": 22,
   "id": "22a52b6d-ec60-46a7-8526-837b9c0eb4b0",
   "metadata": {},
   "outputs": [],
   "source": [
    "#12. Add a new element to a list called `my_list` using the `.append()` method\n"
   ]
  },
  {
   "cell_type": "code",
   "execution_count": 7,
   "id": "6c6ce2fb-184c-44a4-b304-fb3a3a64bd6a",
   "metadata": {},
   "outputs": [],
   "source": [
    "students=[18,19,20,21,22]\n",
    "students.append(5)"
   ]
  },
  {
   "cell_type": "code",
   "execution_count": 8,
   "id": "962df108-4946-4c75-9eca-817c255984d1",
   "metadata": {},
   "outputs": [
    {
     "data": {
      "text/plain": [
       "[18, 19, 20, 21, 22, 5]"
      ]
     },
     "execution_count": 8,
     "metadata": {},
     "output_type": "execute_result"
    }
   ],
   "source": [
    "students"
   ]
  },
  {
   "cell_type": "code",
   "execution_count": 25,
   "id": "7257848b-eba3-4589-8d51-31bf0bae51c5",
   "metadata": {},
   "outputs": [],
   "source": [
    "#13. Remove the last element from a list `my_list` using the `.pop()` method.\n"
   ]
  },
  {
   "cell_type": "code",
   "execution_count": 13,
   "id": "0e2ee8c0-db12-4304-a2d9-dcdb6508aa2f",
   "metadata": {},
   "outputs": [
    {
     "data": {
      "text/plain": [
       "58"
      ]
     },
     "execution_count": 13,
     "metadata": {},
     "output_type": "execute_result"
    }
   ],
   "source": [
    "my_list = [19, 20, 34, 49, 58]\n",
    "my_list.pop() #last element will be popped"
   ]
  },
  {
   "cell_type": "code",
   "execution_count": 27,
   "id": "dc5362d6-5394-4ed7-9eaf-cef51303208d",
   "metadata": {},
   "outputs": [],
   "source": [
    "#14. Create a tuple with four elements and try changing the second element. What happens?"
   ]
  },
  {
   "cell_type": "code",
   "execution_count": 14,
   "id": "6eacc9f8-9f1b-46e7-9d89-27348416654b",
   "metadata": {},
   "outputs": [],
   "source": [
    "#It gives error"
   ]
  },
  {
   "cell_type": "code",
   "execution_count": 15,
   "id": "1c129969-599e-443e-9091-f1bcea04fc71",
   "metadata": {},
   "outputs": [],
   "source": [
    "\n",
    "#15. Use slicing to get the last two elements from a list `[10, 20, 30, 40, 50]"
   ]
  },
  {
   "cell_type": "code",
   "execution_count": 16,
   "id": "53d04ab2-b193-4319-942c-c155949ef4e9",
   "metadata": {},
   "outputs": [
    {
     "name": "stdout",
     "output_type": "stream",
     "text": [
      "[40, 50]\n"
     ]
    }
   ],
   "source": [
    "my_list = [10, 20, 30, 40, 50]\n",
    "print(my_list[-2:])"
   ]
  },
  {
   "cell_type": "code",
   "execution_count": 17,
   "id": "cc4a5e90-6a62-458a-98cd-e1e3ac74557e",
   "metadata": {},
   "outputs": [],
   "source": [
    "#16. Create a dictionary with keys 'name' and 'age' and values 'Alice' and 25."
   ]
  },
  {
   "cell_type": "code",
   "execution_count": 18,
   "id": "ebfee1e8-6feb-41af-bffc-390fc1eee813",
   "metadata": {},
   "outputs": [],
   "source": [
    "person = {'name': 'Alice', 'age': 25}"
   ]
  },
  {
   "cell_type": "code",
   "execution_count": 19,
   "id": "9cfc7db8-2a9d-4f5b-bc6d-80f655bdcf58",
   "metadata": {},
   "outputs": [],
   "source": [
    "#17. Retrieve the value associated with the key 'name' from the dictionary you\n",
    "#created in question 16."
   ]
  },
  {
   "cell_type": "code",
   "execution_count": 20,
   "id": "7a5ac142-4190-4f66-8f07-334e2c7452a0",
   "metadata": {},
   "outputs": [
    {
     "name": "stdout",
     "output_type": "stream",
     "text": [
      "Alice\n"
     ]
    }
   ],
   "source": [
    "print(person['name'])"
   ]
  },
  {
   "cell_type": "code",
   "execution_count": 21,
   "id": "b07efadf-fc50-4577-a75a-96e647a02bea",
   "metadata": {},
   "outputs": [],
   "source": [
    "#18. Check if the key 'name' exists in a dictionary."
   ]
  },
  {
   "cell_type": "code",
   "execution_count": 22,
   "id": "ba10f50c-af74-4b72-a6a8-eebda49db961",
   "metadata": {},
   "outputs": [],
   "source": [
    "person = {'name': 'Alice', 'age': 25}"
   ]
  },
  {
   "cell_type": "code",
   "execution_count": 23,
   "id": "94963c13-1ebd-4306-8d36-ac6f57d27b31",
   "metadata": {},
   "outputs": [
    {
     "name": "stdout",
     "output_type": "stream",
     "text": [
      "True\n"
     ]
    }
   ],
   "source": [
    "print('name' in person) "
   ]
  },
  {
   "cell_type": "code",
   "execution_count": 24,
   "id": "05ec8ec3-9620-4985-9c02-ea14d4fd55b9",
   "metadata": {},
   "outputs": [],
   "source": [
    "#19. What is the difference between a list and a set in Python?"
   ]
  },
  {
   "cell_type": "code",
   "execution_count": 25,
   "id": "967b4a21-07d8-4832-b266-ed90d2809c9f",
   "metadata": {},
   "outputs": [],
   "source": [
    "#We determine list using []\n",
    "#Elemnets are in ordered manner\n",
    "\n",
    "#set is a data structure in pyhton\n",
    "# Keeps item in sorted order\n",
    "# eliminate the duplicates element."
   ]
  },
  {
   "cell_type": "code",
   "execution_count": 26,
   "id": "c8a260bc-41aa-45a0-ac54-f8726e2d95f7",
   "metadata": {},
   "outputs": [],
   "source": [
    "#20. Convert a list `[1, 2, 3, 2, 1]` into a set and print the result."
   ]
  },
  {
   "cell_type": "code",
   "execution_count": 30,
   "id": "5d317d39-f69d-41fd-bc6b-abbf4c22b6ea",
   "metadata": {},
   "outputs": [],
   "source": [
    "my_list = [1, 2, 3, 2,1]\n",
    "my_set=set(my_list)\n"
   ]
  },
  {
   "cell_type": "code",
   "execution_count": 31,
   "id": "579838f2-7dfd-4a59-9f46-6635c98e411b",
   "metadata": {},
   "outputs": [
    {
     "name": "stdout",
     "output_type": "stream",
     "text": [
      "{1, 2, 3}\n"
     ]
    }
   ],
   "source": [
    "print(my_set)"
   ]
  },
  {
   "cell_type": "code",
   "execution_count": 32,
   "id": "042e3d82-33b0-49d3-8bfc-c82d1f31539c",
   "metadata": {},
   "outputs": [],
   "source": [
    "#21. Write an `if` statement that prints 'Greater than 10' if a number is greater than 10."
   ]
  },
  {
   "cell_type": "code",
   "execution_count": 34,
   "id": "8de9af18-12ca-4684-8b57-677cb08d2d22",
   "metadata": {},
   "outputs": [
    {
     "name": "stdin",
     "output_type": "stream",
     "text": [
      "enter a number :  89\n"
     ]
    },
    {
     "name": "stdout",
     "output_type": "stream",
     "text": [
      "number is greater than 10\n"
     ]
    }
   ],
   "source": [
    "number=int(input(\"enter a number : \"))   #asks user for a number to input\n",
    "if number>10:                            #check if number is greater than 10\n",
    "  print(\"number is greater than 10\")\n",
    "elif number==10:                         #check if number is equal to 10\n",
    "  print(\"number is equal to 10\")\n",
    "else:                                   #else print number is less than 10\n",
    "  print(\"number is less than 10\")\n",
    "     \n"
   ]
  },
  {
   "cell_type": "code",
   "execution_count": 35,
   "id": "4a364dd6-10bc-4a09-9e73-eb527491ae88",
   "metadata": {},
   "outputs": [],
   "source": [
    "#22. Write an `if-else` statement that checks if a number is positive or negative."
   ]
  },
  {
   "cell_type": "code",
   "execution_count": 36,
   "id": "17685a3f-f1b7-4607-aebb-f0326c363ffb",
   "metadata": {},
   "outputs": [
    {
     "name": "stdin",
     "output_type": "stream",
     "text": [
      "enter a number :  -94\n"
     ]
    },
    {
     "name": "stdout",
     "output_type": "stream",
     "text": [
      "negative number\n"
     ]
    }
   ],
   "source": [
    "number=int(input(\"enter a number : \"))\n",
    "if number>0:\n",
    "  print(\"positive number\")\n",
    "elif number==0:\n",
    "  print(\"zero\")\n",
    "else:\n",
    "  print(\"negative number\")"
   ]
  },
  {
   "cell_type": "code",
   "execution_count": 37,
   "id": "7bc3686d-86de-4562-b13d-875230aef1f0",
   "metadata": {},
   "outputs": [],
   "source": [
    "#24.Create a Python program that takes an integer as input and prints 'Even' if it is even and 'Odd' if\n",
    "#it is odd"
   ]
  },
  {
   "cell_type": "code",
   "execution_count": 38,
   "id": "245ee015-baec-479f-bd71-1f4480bc14b8",
   "metadata": {},
   "outputs": [
    {
     "name": "stdin",
     "output_type": "stream",
     "text": [
      "enter a number :  63\n"
     ]
    },
    {
     "name": "stdout",
     "output_type": "stream",
     "text": [
      "odd number\n"
     ]
    }
   ],
   "source": [
    "number=int(input(\"enter a number : \"))\n",
    "if number%2==0:                          #checks the number is even\n",
    "  print(\"even number\")\n",
    "else:\n",
    "  print(\"odd number\")                    #else print that number is odd number"
   ]
  },
  {
   "cell_type": "code",
   "execution_count": 40,
   "id": "2af3ef48-30c9-4cf6-b8f0-bee0d8ec18ec",
   "metadata": {},
   "outputs": [],
   "source": [
    "#25. Write a program that checks if a given year is a leap year."
   ]
  },
  {
   "cell_type": "code",
   "execution_count": 41,
   "id": "23d7e6eb-4744-42df-8972-05875f758ede",
   "metadata": {},
   "outputs": [
    {
     "name": "stdin",
     "output_type": "stream",
     "text": [
      "Enter a year :  2056\n"
     ]
    },
    {
     "name": "stdout",
     "output_type": "stream",
     "text": [
      "leap year\n"
     ]
    }
   ],
   "source": [
    "year=int(input(\"Enter a year : \"))           #ask user to enter input year\n",
    "\n",
    "if (year%400==0 and year%100==0) or (year%4==0 and year%100!=0): #check if year is a leap year\n",
    "  print(\"leap year\")\n",
    "else:\n",
    "  print(\"not a leap year\")"
   ]
  },
  {
   "cell_type": "code",
   "execution_count": 42,
   "id": "905f5d0c-9749-4b50-be2c-3436d0b66b56",
   "metadata": {},
   "outputs": [],
   "source": [
    "#26. Use a nested `if` statement to check if a number is positive and even.\n"
   ]
  },
  {
   "cell_type": "code",
   "execution_count": 44,
   "id": "feec78b3-cd3b-4578-939e-2fc610952a24",
   "metadata": {},
   "outputs": [
    {
     "name": "stdin",
     "output_type": "stream",
     "text": [
      "enter a number :  88\n"
     ]
    },
    {
     "name": "stdout",
     "output_type": "stream",
     "text": [
      "88 is positive and even\n"
     ]
    }
   ],
   "source": [
    "num=int(input(\"enter a number : \"))\n",
    "if num>0 and num%2==0:\n",
    "  print(f\"{num} is positive and even\") \n",
    "elif num==0:\n",
    "  print(f\"{num} is zero\") \n",
    "else:\n",
    "  print(f\"{num} is negative and odd\") "
   ]
  },
  {
   "cell_type": "code",
   "execution_count": 45,
   "id": "454a5735-ccf0-46f3-aece-072a180f6b29",
   "metadata": {},
   "outputs": [],
   "source": [
    "#27. Write a program to check if a variable `x` is between 5 and 10."
   ]
  },
  {
   "cell_type": "code",
   "execution_count": 46,
   "id": "7dff3eb9-f467-483c-bdae-78c6455964e9",
   "metadata": {},
   "outputs": [
    {
     "name": "stdin",
     "output_type": "stream",
     "text": [
      "enter a number :  7\n"
     ]
    },
    {
     "name": "stdout",
     "output_type": "stream",
     "text": [
      "7 is between 5 and 10\n"
     ]
    }
   ],
   "source": [
    "number=int(input(\"enter a number : \"))\n",
    "if number>=5 and number<=10:\n",
    "  print(f\"{number} is between 5 and 10\") \n",
    "else:\n",
    "  print(f\"{number} is not between 5 and 10\")"
   ]
  },
  {
   "cell_type": "code",
   "execution_count": 47,
   "id": "e37e7cf8-38bf-488f-8cbf-66e2bf8e1742",
   "metadata": {},
   "outputs": [],
   "source": [
    "#28. Write an `if` statement that checks if a variable is a specific data type"
   ]
  },
  {
   "cell_type": "code",
   "execution_count": 49,
   "id": "1e7a2c69-6517-4c5e-90d4-19a02161b8af",
   "metadata": {},
   "outputs": [
    {
     "name": "stdout",
     "output_type": "stream",
     "text": [
      "integer type\n"
     ]
    }
   ],
   "source": [
    "newvariable=34\n",
    "if type(newvariable)==int: \n",
    "  print(\"integer type\")\n",
    "else:\n",
    "  print(\"not integer type\")"
   ]
  },
  {
   "cell_type": "code",
   "execution_count": 50,
   "id": "bf60368f-17aa-4e11-985a-1641ae75e71d",
   "metadata": {},
   "outputs": [],
   "source": [
    "#29.Write a program that prints 'Pass' if a student's grade is 60 or higher, otherwise 'Fail'."
   ]
  },
  {
   "cell_type": "code",
   "execution_count": 51,
   "id": "6bca9046-9d90-4f31-965e-895fc1139ce0",
   "metadata": {},
   "outputs": [
    {
     "name": "stdin",
     "output_type": "stream",
     "text": [
      "enter student marks :  78\n"
     ]
    },
    {
     "name": "stdout",
     "output_type": "stream",
     "text": [
      "You have passed with 78%\n"
     ]
    }
   ],
   "source": [
    "grade=int(input(\"enter student marks : \"))\n",
    "\n",
    "if grade>=60: \n",
    "  print(f\"You have passed with {grade}%\") \n",
    "else:\n",
    "  print(f\"You have failed with {grade}%\") "
   ]
  },
  {
   "cell_type": "code",
   "execution_count": 54,
   "id": "09847f13-1514-4b79-beb6-19908c42aa78",
   "metadata": {},
   "outputs": [],
   "source": [
    "#30. Write an `if` statement that prints a message if a variable is empty."
   ]
  },
  {
   "cell_type": "code",
   "execution_count": 55,
   "id": "13868976-e4c3-4a60-8ea2-c4c4ba24723d",
   "metadata": {},
   "outputs": [
    {
     "name": "stdin",
     "output_type": "stream",
     "text": [
      " var\n"
     ]
    },
    {
     "name": "stdout",
     "output_type": "stream",
     "text": [
      "variable is not empty\n"
     ]
    }
   ],
   "source": [
    "var=input()\n",
    "\n",
    "\n",
    "if var==\"\":                  #check if variable is empty\n",
    "  print(f\"variable is empty\")\n",
    "else:\n",
    "  print(\"variable is not empty\") "
   ]
  },
  {
   "cell_type": "code",
   "execution_count": 56,
   "id": "0cedd0a3-3e5f-498f-8e77-ccb2922a83c1",
   "metadata": {},
   "outputs": [],
   "source": [
    "#Range and For Loop\n"
   ]
  },
  {
   "cell_type": "code",
   "execution_count": 57,
   "id": "0a5588a9-73d9-478f-8f01-138ce0acf812",
   "metadata": {},
   "outputs": [],
   "source": [
    "# 31. Use a `for` loop and `range()` to print numbers from 1 to 10."
   ]
  },
  {
   "cell_type": "code",
   "execution_count": 58,
   "id": "36020c43-b8ff-4cb2-b612-edcc6598ce57",
   "metadata": {},
   "outputs": [
    {
     "name": "stdout",
     "output_type": "stream",
     "text": [
      "1\n",
      "2\n",
      "3\n",
      "4\n",
      "5\n",
      "6\n",
      "7\n",
      "8\n",
      "9\n",
      "10\n",
      "[1, 2, 3, 4, 5, 6, 7, 8, 9, 10]\n"
     ]
    }
   ],
   "source": [
    "list=[] #empty list\n",
    "for i in range(1,11):\n",
    "  print(i) \n",
    "  list.append(i) \n",
    "\n",
    "\n",
    "print(list)"
   ]
  },
  {
   "cell_type": "code",
   "execution_count": 59,
   "id": "a6515540-4900-410f-8e3f-3358db59c352",
   "metadata": {},
   "outputs": [],
   "source": [
    "#32. Write a `for` loop that calculates the sum of all numbers from 1 to 20.\n",
    "           "
   ]
  },
  {
   "cell_type": "code",
   "execution_count": 63,
   "id": "84c73b0f-1b38-448f-bdb7-2ac1d377eabc",
   "metadata": {},
   "outputs": [],
   "source": [
    "total=0\n",
    "for i in range(1,21):\n",
    "    total+=i\n"
   ]
  },
  {
   "cell_type": "code",
   "execution_count": 64,
   "id": "0e54ce00-f87b-4c0a-9c86-82ff0121c779",
   "metadata": {},
   "outputs": [
    {
     "name": "stdout",
     "output_type": "stream",
     "text": [
      "210\n"
     ]
    }
   ],
   "source": [
    "print(total)"
   ]
  },
  {
   "cell_type": "code",
   "execution_count": 65,
   "id": "9fc66e8f-d63f-49df-9ccc-8d1bb871a0a9",
   "metadata": {},
   "outputs": [],
   "source": [
    "#33. Use a `for` loop to iterate over a list of names and print each name."
   ]
  },
  {
   "cell_type": "code",
   "execution_count": 66,
   "id": "c93c4720-901b-43ab-ab8d-1a328d249e24",
   "metadata": {},
   "outputs": [
    {
     "name": "stdout",
     "output_type": "stream",
     "text": [
      "Aryan\n",
      "Baban\n",
      "Chirag\n",
      "Dravid\n",
      "ishani\n"
     ]
    }
   ],
   "source": [
    "names=[\"Aryan\",\"Baban\",\"Chirag\",\"Dravid\",\"ishani\"] \n",
    "for name in names: \n",
    "  print(name)"
   ]
  },
  {
   "cell_type": "code",
   "execution_count": 67,
   "id": "f1383efa-b07a-4651-a203-77f2ed9caa06",
   "metadata": {},
   "outputs": [],
   "source": [
    "#34. Write a program to print the squares of numbers from 1 to 10 using a `for` loop."
   ]
  },
  {
   "cell_type": "code",
   "execution_count": 68,
   "id": "85b1e341-f6dc-4589-b10b-6c36062eb7ff",
   "metadata": {},
   "outputs": [
    {
     "name": "stdout",
     "output_type": "stream",
     "text": [
      "1² = 1\n",
      "2² = 4\n",
      "3² = 9\n",
      "4² = 16\n",
      "5² = 25\n"
     ]
    }
   ],
   "source": [
    "list=[1,2,3,4,5]\n",
    "\n",
    "for i in list :\n",
    "  print(f\"{i}² = {i**2}\")"
   ]
  },
  {
   "cell_type": "code",
   "execution_count": 69,
   "id": "2c9c23b7-0c17-4c8e-b9ab-5180c20cf21a",
   "metadata": {},
   "outputs": [],
   "source": [
    "#35. Use a `for` loop and `range()` to print all even numbers from 1 to 20."
   ]
  },
  {
   "cell_type": "code",
   "execution_count": null,
   "id": "128a058f-2903-4f94-90dd-24eaea1051ee",
   "metadata": {},
   "outputs": [],
   "source": [
    "\n",
    "\n",
    "\n",
    "\n",
    "\n",
    "\n"
   ]
  },
  {
   "cell_type": "code",
   "execution_count": 70,
   "id": "adbe695c-15cf-4714-982e-52a521a40016",
   "metadata": {},
   "outputs": [],
   "source": [
    "#36. Write a program that counts down from 10 to 1 using a `for` loop."
   ]
  },
  {
   "cell_type": "code",
   "execution_count": 71,
   "id": "2f537ea3-5f3c-4965-8837-519088551c22",
   "metadata": {},
   "outputs": [
    {
     "name": "stdout",
     "output_type": "stream",
     "text": [
      "10\n",
      "9\n",
      "8\n",
      "7\n",
      "6\n",
      "5\n",
      "4\n",
      "3\n",
      "2\n",
      "1\n"
     ]
    }
   ],
   "source": [
    "for i in range(10,0,-1): #print 10 to 1 in reverse\n",
    "  print(i)\n",
    "     "
   ]
  },
  {
   "cell_type": "code",
   "execution_count": 73,
   "id": "890628d4-10c2-4800-ae96-eb6375b5f42a",
   "metadata": {},
   "outputs": [],
   "source": [
    "#37. Create a list of fruits and use a `for` loop to print each fruit in uppercase."
   ]
  },
  {
   "cell_type": "code",
   "execution_count": 74,
   "id": "94445948-ab80-4a5b-888c-bb7f6f064c6e",
   "metadata": {},
   "outputs": [
    {
     "name": "stdout",
     "output_type": "stream",
     "text": [
      "APPLE\n",
      "KIWI\n",
      "ORANGE\n",
      "GUAVA\n"
     ]
    }
   ],
   "source": [
    "fruits=[\"apple\",\"kiwi\",\"orange\",\"guava\"]\n",
    "for fruit in fruits:\n",
    "  print(fruit.upper())"
   ]
  },
  {
   "cell_type": "code",
   "execution_count": 75,
   "id": "742932aa-ca28-44d7-92f1-38cea9004b58",
   "metadata": {},
   "outputs": [],
   "source": [
    "#38. Write a `for` loop that prints the elements in a list along with their index."
   ]
  },
  {
   "cell_type": "code",
   "execution_count": 77,
   "id": "962c4bec-0381-4463-844c-f5f1de8c999b",
   "metadata": {},
   "outputs": [
    {
     "name": "stdout",
     "output_type": "stream",
     "text": [
      "76 0\n",
      "67 1\n",
      "88 2\n",
      "42 3\n",
      "58 4\n"
     ]
    }
   ],
   "source": [
    "randomlist=[76,67,88,42,58]\n",
    "for i in randomlist:\n",
    "  print(i,randomlist.index(i))"
   ]
  },
  {
   "cell_type": "code",
   "execution_count": 78,
   "id": "52ccde53-2682-4cac-9896-8438d07c7eb8",
   "metadata": {},
   "outputs": [],
   "source": [
    "#39. Use `range()` with three arguments to print every third number from 0 to 30."
   ]
  },
  {
   "cell_type": "code",
   "execution_count": null,
   "id": "d905debd-9282-44db-ab4b-951985fac6d0",
   "metadata": {},
   "outputs": [],
   "source": [
    "\n",
    "\n",
    "\n",
    "\n"
   ]
  },
  {
   "cell_type": "code",
   "execution_count": 79,
   "id": "38af6e4a-e8f1-45a7-8013-a837d46fa329",
   "metadata": {},
   "outputs": [],
   "source": [
    "#40. Write a program to calculate the factorial of a number using a `for` loop."
   ]
  },
  {
   "cell_type": "code",
   "execution_count": 83,
   "id": "da6f8025-7e45-42c0-8f9f-b719299508fb",
   "metadata": {},
   "outputs": [
    {
     "name": "stdin",
     "output_type": "stream",
     "text": [
      "enter a number :  7\n"
     ]
    },
    {
     "name": "stdout",
     "output_type": "stream",
     "text": [
      "factorial of 7 is 5040\n"
     ]
    }
   ],
   "source": [
    "number=int(input(\"enter a number : \"))\n",
    "result=1\n",
    "for i in range(1,number+1): \n",
    "  result*=i \n",
    "\n",
    "print(f\"factorial of {number} is {result}\") \n"
   ]
  },
  {
   "cell_type": "code",
   "execution_count": 84,
   "id": "5ebbba74-732c-4e7c-a3ac-b1558154c31a",
   "metadata": {},
   "outputs": [],
   "source": [
    "#WHILE LOOP"
   ]
  },
  {
   "cell_type": "code",
   "execution_count": 85,
   "id": "473c013c-d0d2-4542-892f-18e62e082f30",
   "metadata": {},
   "outputs": [],
   "source": [
    "#41. Use a `while` loop to print numbers from 1 to 5."
   ]
  },
  {
   "cell_type": "code",
   "execution_count": 86,
   "id": "70876cb3-6923-40bb-a982-49cfdf54a156",
   "metadata": {},
   "outputs": [
    {
     "name": "stdout",
     "output_type": "stream",
     "text": [
      "1\n",
      "2\n",
      "3\n",
      "4\n",
      "5\n"
     ]
    }
   ],
   "source": [
    "i=1\n",
    "while i<=5:\n",
    "  print(i)\n",
    "  i+=1"
   ]
  },
  {
   "cell_type": "code",
   "execution_count": 87,
   "id": "7da7578e-b190-4dc9-8a62-280d3efa8a27",
   "metadata": {},
   "outputs": [],
   "source": [
    "#42. Write a program that keeps asking the user for a password until they enter '1234'."
   ]
  },
  {
   "cell_type": "code",
   "execution_count": null,
   "id": "6b7d5291-c55b-4df6-92dd-c191096a1d2f",
   "metadata": {},
   "outputs": [],
   "source": [
    "mypass=input(\"enter password : \") \n",
    "while int(mypass)!=1234: \n",
    "  newpass=input(\"incorrect password, enter correct password : \") \n",
    "  mypass=newpass \n",
    "print(\"password accepted\") \n",
    "\n"
   ]
  },
  {
   "cell_type": "code",
   "execution_count": 90,
   "id": "10a9c3b2-4630-45f1-9431-c661ce4360a8",
   "metadata": {},
   "outputs": [],
   "source": [
    "#43. Write a `while` loop to find the sum of numbers from 1 to 100."
   ]
  },
  {
   "cell_type": "code",
   "execution_count": null,
   "id": "410c9111-8f62-4951-a5f4-9be1cbb320bb",
   "metadata": {},
   "outputs": [],
   "source": [
    "\n"
   ]
  }
 ],
 "metadata": {
  "kernelspec": {
   "display_name": "Python 3 (ipykernel)",
   "language": "python",
   "name": "python3"
  },
  "language_info": {
   "codemirror_mode": {
    "name": "ipython",
    "version": 3
   },
   "file_extension": ".py",
   "mimetype": "text/x-python",
   "name": "python",
   "nbconvert_exporter": "python",
   "pygments_lexer": "ipython3",
   "version": "3.12.7"
  }
 },
 "nbformat": 4,
 "nbformat_minor": 5
}
