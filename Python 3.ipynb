{
 "cells": [
  {
   "cell_type": "code",
   "execution_count": 1,
   "id": "62814329-4ca2-4052-bb2a-d6b1f4167edc",
   "metadata": {},
   "outputs": [],
   "source": [
    "#Tuples\n",
    "#tuples are always in \n",
    "#they are immutable"
   ]
  },
  {
   "cell_type": "code",
   "execution_count": 2,
   "id": "abb8a58f-0fd0-4cdc-be2c-984310618269",
   "metadata": {},
   "outputs": [],
   "source": [
    "colours=('red','blue','green')\n"
   ]
  },
  {
   "cell_type": "code",
   "execution_count": 3,
   "id": "dd35e98f-8256-4bbb-bbc9-2f189e4be6d3",
   "metadata": {},
   "outputs": [
    {
     "data": {
      "text/plain": [
       "('red', 'blue', 'green')"
      ]
     },
     "execution_count": 3,
     "metadata": {},
     "output_type": "execute_result"
    }
   ],
   "source": [
    "colours"
   ]
  },
  {
   "cell_type": "code",
   "execution_count": 4,
   "id": "3bb6d8ee-84fb-4cd2-a677-4c04817b69db",
   "metadata": {},
   "outputs": [
    {
     "data": {
      "text/plain": [
       "tuple"
      ]
     },
     "execution_count": 4,
     "metadata": {},
     "output_type": "execute_result"
    }
   ],
   "source": [
    "type(colours)"
   ]
  },
  {
   "cell_type": "code",
   "execution_count": 5,
   "id": "357c44b0-aa6b-4d8e-9df4-cbab95968f27",
   "metadata": {},
   "outputs": [],
   "source": [
    "#Tuples does not append"
   ]
  },
  {
   "cell_type": "code",
   "execution_count": 6,
   "id": "951f7f9d-904f-427f-964b-4293756cc559",
   "metadata": {},
   "outputs": [],
   "source": [
    "colours=list(colours)"
   ]
  },
  {
   "cell_type": "code",
   "execution_count": 7,
   "id": "bfc88626-e8c9-402e-b374-b84408d5a031",
   "metadata": {},
   "outputs": [],
   "source": [
    "colours.append('Black')"
   ]
  },
  {
   "cell_type": "code",
   "execution_count": 8,
   "id": "4dd85aa1-1ffa-4939-b0d4-824a50eef908",
   "metadata": {},
   "outputs": [
    {
     "data": {
      "text/plain": [
       "['red', 'blue', 'green', 'Black']"
      ]
     },
     "execution_count": 8,
     "metadata": {},
     "output_type": "execute_result"
    }
   ],
   "source": [
    "colours"
   ]
  },
  {
   "cell_type": "code",
   "execution_count": 9,
   "id": "16a1fc53-7518-4dae-bb13-b1970aee27e8",
   "metadata": {},
   "outputs": [],
   "source": [
    "colours=tuple(colours)"
   ]
  },
  {
   "cell_type": "code",
   "execution_count": 10,
   "id": "7692bbfa-6c75-4354-8f33-02453757dff9",
   "metadata": {},
   "outputs": [
    {
     "data": {
      "text/plain": [
       "('red', 'blue', 'green', 'Black')"
      ]
     },
     "execution_count": 10,
     "metadata": {},
     "output_type": "execute_result"
    }
   ],
   "source": [
    "colours"
   ]
  },
  {
   "cell_type": "code",
   "execution_count": 11,
   "id": "6181c0f4-8460-467e-995b-bb24e92c38b3",
   "metadata": {},
   "outputs": [],
   "source": [
    "#to chek length of tuple"
   ]
  },
  {
   "cell_type": "code",
   "execution_count": 12,
   "id": "70dc9262-1a06-4585-8548-917d53c9c2b0",
   "metadata": {},
   "outputs": [
    {
     "data": {
      "text/plain": [
       "4"
      ]
     },
     "execution_count": 12,
     "metadata": {},
     "output_type": "execute_result"
    }
   ],
   "source": [
    "len(colours)"
   ]
  },
  {
   "cell_type": "code",
   "execution_count": 13,
   "id": "366e74d2-5f20-4f6d-844b-03d338538e90",
   "metadata": {},
   "outputs": [],
   "source": [
    "#Indexing for tuple\n"
   ]
  },
  {
   "cell_type": "code",
   "execution_count": 14,
   "id": "1a54c701-0979-41ed-962a-7dcf0f1165ce",
   "metadata": {},
   "outputs": [
    {
     "data": {
      "text/plain": [
       "'blue'"
      ]
     },
     "execution_count": 14,
     "metadata": {},
     "output_type": "execute_result"
    }
   ],
   "source": [
    "colours[1]"
   ]
  },
  {
   "cell_type": "code",
   "execution_count": 15,
   "id": "01c64eca-6690-4f15-801b-624b3d2d3ba0",
   "metadata": {},
   "outputs": [],
   "source": [
    "numbers=(50,60,40,90,80,70,60,50,40,70,10,20,30,7,50,50)"
   ]
  },
  {
   "cell_type": "code",
   "execution_count": 16,
   "id": "bf6c04a4-f0eb-437f-8e48-a0cf6d22d5fc",
   "metadata": {},
   "outputs": [
    {
     "data": {
      "text/plain": [
       "12"
      ]
     },
     "execution_count": 16,
     "metadata": {},
     "output_type": "execute_result"
    }
   ],
   "source": [
    "numbers.index(30)"
   ]
  },
  {
   "cell_type": "code",
   "execution_count": 17,
   "id": "31094129-c3b9-4fe6-859b-2becdcdc6d6a",
   "metadata": {},
   "outputs": [],
   "source": [
    "#Count method for tuple"
   ]
  },
  {
   "cell_type": "code",
   "execution_count": 18,
   "id": "50d7c877-06d6-4ebd-81ef-53333499d695",
   "metadata": {},
   "outputs": [
    {
     "data": {
      "text/plain": [
       "4"
      ]
     },
     "execution_count": 18,
     "metadata": {},
     "output_type": "execute_result"
    }
   ],
   "source": [
    "numbers.count(50)"
   ]
  },
  {
   "cell_type": "code",
   "execution_count": 19,
   "id": "c377f626-7441-45f1-813c-dc138e2a7633",
   "metadata": {},
   "outputs": [],
   "source": [
    "#Set\n",
    "#set is a data structure in pyhton\n"
   ]
  },
  {
   "cell_type": "code",
   "execution_count": 21,
   "id": "632a6496-5983-4128-bb81-4312d2f94d14",
   "metadata": {},
   "outputs": [],
   "source": [
    "#1 -  Keeps item in sorted order\n",
    "# 2 - eliminate the duplicates element."
   ]
  },
  {
   "cell_type": "code",
   "execution_count": 29,
   "id": "75e0f508-0fd2-4684-a6cc-7263a904401d",
   "metadata": {},
   "outputs": [],
   "source": [
    "name_age=set()"
   ]
  },
  {
   "cell_type": "code",
   "execution_count": 30,
   "id": "a35119b8-b396-46ce-8855-d19cfc1b6c7b",
   "metadata": {},
   "outputs": [
    {
     "data": {
      "text/plain": [
       "set"
      ]
     },
     "execution_count": 30,
     "metadata": {},
     "output_type": "execute_result"
    }
   ],
   "source": [
    "type(name_age)"
   ]
  },
  {
   "cell_type": "code",
   "execution_count": 31,
   "id": "0783f555-d01c-43a6-918f-02b146c77d16",
   "metadata": {},
   "outputs": [],
   "source": [
    "name_age.add(1)"
   ]
  },
  {
   "cell_type": "code",
   "execution_count": 32,
   "id": "aeb9a54f-450a-4984-91fb-715afade9b6f",
   "metadata": {},
   "outputs": [
    {
     "data": {
      "text/plain": [
       "{1}"
      ]
     },
     "execution_count": 32,
     "metadata": {},
     "output_type": "execute_result"
    }
   ],
   "source": [
    "name_age"
   ]
  },
  {
   "cell_type": "code",
   "execution_count": 35,
   "id": "b3a4e678-599b-46af-a899-d1e926028f5b",
   "metadata": {},
   "outputs": [],
   "source": [
    "#Set only has duplicate element\n",
    "name_age.add(2)"
   ]
  },
  {
   "cell_type": "code",
   "execution_count": 36,
   "id": "c8017a3a-f328-4f3a-908f-5c67a8f040e2",
   "metadata": {},
   "outputs": [
    {
     "data": {
      "text/plain": [
       "{1, 2}"
      ]
     },
     "execution_count": 36,
     "metadata": {},
     "output_type": "execute_result"
    }
   ],
   "source": [
    "name_age"
   ]
  },
  {
   "cell_type": "code",
   "execution_count": 37,
   "id": "51b7549d-7613-497f-80b7-55249e6c958c",
   "metadata": {},
   "outputs": [],
   "source": [
    "#When we Try to add the same element "
   ]
  },
  {
   "cell_type": "code",
   "execution_count": 38,
   "id": "f7a3cfe2-e52e-4871-b0bd-4f51b679792f",
   "metadata": {},
   "outputs": [],
   "source": [
    "name_age.add(1)"
   ]
  },
  {
   "cell_type": "code",
   "execution_count": 39,
   "id": "7941ee38-2c52-4aef-a4ad-e10e4ecab7d5",
   "metadata": {},
   "outputs": [
    {
     "data": {
      "text/plain": [
       "{1, 2}"
      ]
     },
     "execution_count": 39,
     "metadata": {},
     "output_type": "execute_result"
    }
   ],
   "source": [
    "name_age"
   ]
  },
  {
   "cell_type": "code",
   "execution_count": 40,
   "id": "63567593-3269-444d-b3cb-23f598f1a263",
   "metadata": {},
   "outputs": [],
   "source": [
    "#It does not add repeated values"
   ]
  },
  {
   "cell_type": "code",
   "execution_count": 41,
   "id": "1bde610c-7e81-4c85-98cb-294ef07a801a",
   "metadata": {},
   "outputs": [],
   "source": [
    "numbers=[1,2,3,4,5,6,7,8,9,1,2,3,4,56,789,12,74,74,85,96,74,85,96,4,1,52,63,52]"
   ]
  },
  {
   "cell_type": "code",
   "execution_count": 42,
   "id": "5d4ac718-a1db-4435-b489-539e795eda83",
   "metadata": {},
   "outputs": [],
   "source": [
    "#To remove duplicate values"
   ]
  },
  {
   "cell_type": "code",
   "execution_count": 43,
   "id": "6f528266-4eb5-41ea-9efc-56c9cbbf1043",
   "metadata": {},
   "outputs": [],
   "source": [
    "remove_duplicate=set(numbers)"
   ]
  },
  {
   "cell_type": "code",
   "execution_count": 44,
   "id": "9871f57d-b0a3-4f56-811a-dd0ca2556e7a",
   "metadata": {},
   "outputs": [
    {
     "data": {
      "text/plain": [
       "{1, 2, 3, 4, 5, 6, 7, 8, 9, 12, 52, 56, 63, 74, 85, 96, 789}"
      ]
     },
     "execution_count": 44,
     "metadata": {},
     "output_type": "execute_result"
    }
   ],
   "source": [
    "remove_duplicate"
   ]
  },
  {
   "cell_type": "code",
   "execution_count": 45,
   "id": "eb56d81a-cf6a-48d4-ac62-6238120f1292",
   "metadata": {},
   "outputs": [],
   "source": [
    "numberss=list(remove_duplicate)"
   ]
  },
  {
   "cell_type": "code",
   "execution_count": 46,
   "id": "002fd824-823f-4079-b512-0de9eb549358",
   "metadata": {},
   "outputs": [],
   "source": [
    "#Dictionary\n",
    "#dictionary is also a data staructure,dictionary contain keys and values\n",
    "#dictionary will take corresponding value\n"
   ]
  },
  {
   "cell_type": "code",
   "execution_count": 47,
   "id": "b8ac045f-3215-4cba-955a-8b0e5fb107e4",
   "metadata": {},
   "outputs": [],
   "source": [
    "my_dict={'key1':'value1','key2':'value2'}"
   ]
  },
  {
   "cell_type": "code",
   "execution_count": 48,
   "id": "9cf41775-1015-4602-9427-b3df731f6810",
   "metadata": {},
   "outputs": [
    {
     "data": {
      "text/plain": [
       "{'key1': 'value1', 'key2': 'value2'}"
      ]
     },
     "execution_count": 48,
     "metadata": {},
     "output_type": "execute_result"
    }
   ],
   "source": [
    "my_dict"
   ]
  },
  {
   "cell_type": "code",
   "execution_count": 50,
   "id": "e105a69a-8e25-4430-9d33-e67189aa7746",
   "metadata": {},
   "outputs": [],
   "source": [
    "#call the value by their key"
   ]
  },
  {
   "cell_type": "code",
   "execution_count": 51,
   "id": "5117168c-7ea9-448f-800a-48c026359e79",
   "metadata": {},
   "outputs": [
    {
     "data": {
      "text/plain": [
       "'value1'"
      ]
     },
     "execution_count": 51,
     "metadata": {},
     "output_type": "execute_result"
    }
   ],
   "source": [
    "my_dict['key1']"
   ]
  },
  {
   "cell_type": "code",
   "execution_count": 52,
   "id": "c8766dcf-0188-4045-9ad4-b546cc2f5512",
   "metadata": {},
   "outputs": [],
   "source": [
    "my_dict={'Roll Number':123,'Subjects':['Maths','science','Computer'],'Marks':[24,29,25]}"
   ]
  },
  {
   "cell_type": "code",
   "execution_count": 53,
   "id": "ec85fb8c-3271-4bd9-b7ee-cd392aedb6b7",
   "metadata": {},
   "outputs": [
    {
     "data": {
      "text/plain": [
       "{'Roll Number': 123,\n",
       " 'Subjects': ['Maths', 'science', 'Computer'],\n",
       " 'Marks': [24, 29, 25]}"
      ]
     },
     "execution_count": 53,
     "metadata": {},
     "output_type": "execute_result"
    }
   ],
   "source": [
    "my_dict"
   ]
  },
  {
   "cell_type": "code",
   "execution_count": 54,
   "id": "5859722a-34c2-4e28-99d3-d1b7d7911c9e",
   "metadata": {},
   "outputs": [],
   "source": [
    "#Lets call items from the dictionary"
   ]
  },
  {
   "cell_type": "code",
   "execution_count": 55,
   "id": "858c7c62-a240-410b-91b0-d145303aa488",
   "metadata": {},
   "outputs": [
    {
     "data": {
      "text/plain": [
       "['Maths', 'science', 'Computer']"
      ]
     },
     "execution_count": 55,
     "metadata": {},
     "output_type": "execute_result"
    }
   ],
   "source": [
    "my_dict['Subjects']"
   ]
  },
  {
   "cell_type": "code",
   "execution_count": 56,
   "id": "036aefe4-404d-4ebd-971a-92a806085241",
   "metadata": {},
   "outputs": [],
   "source": [
    "#Call by index\n"
   ]
  },
  {
   "cell_type": "code",
   "execution_count": 57,
   "id": "9bde49a5-9cd7-463b-8e76-0d5b55a0f7b5",
   "metadata": {},
   "outputs": [
    {
     "data": {
      "text/plain": [
       "'Maths'"
      ]
     },
     "execution_count": 57,
     "metadata": {},
     "output_type": "execute_result"
    }
   ],
   "source": [
    "my_dict['Subjects'][0]"
   ]
  },
  {
   "cell_type": "code",
   "execution_count": 58,
   "id": "d2b4a8ae-6aea-49e6-97af-3b6d04c90bb6",
   "metadata": {},
   "outputs": [],
   "source": [
    "#to capitalize the elemnet in dictionary"
   ]
  },
  {
   "cell_type": "code",
   "execution_count": 59,
   "id": "ba59d5e1-e571-4d94-bc3c-8fd9c5438988",
   "metadata": {},
   "outputs": [
    {
     "data": {
      "text/plain": [
       "'COMPUTER'"
      ]
     },
     "execution_count": 59,
     "metadata": {},
     "output_type": "execute_result"
    }
   ],
   "source": [
    "my_dict['Subjects'][2].upper()"
   ]
  },
  {
   "cell_type": "code",
   "execution_count": 60,
   "id": "70a2f8eb-eeda-4317-bf5f-c27a3e7df325",
   "metadata": {},
   "outputs": [],
   "source": [
    "#add Marks to the first element\n"
   ]
  },
  {
   "cell_type": "code",
   "execution_count": 61,
   "id": "54e72754-2a8a-4315-a07b-1c722c84a2c9",
   "metadata": {},
   "outputs": [
    {
     "data": {
      "text/plain": [
       "{'Roll Number': 123,\n",
       " 'Subjects': ['Maths', 'science', 'Computer'],\n",
       " 'Marks': [24, 29, 25]}"
      ]
     },
     "execution_count": 61,
     "metadata": {},
     "output_type": "execute_result"
    }
   ],
   "source": [
    "my_dict"
   ]
  },
  {
   "cell_type": "code",
   "execution_count": 62,
   "id": "15834c1b-4372-40c9-bd7d-9276909aeb17",
   "metadata": {},
   "outputs": [],
   "source": [
    "my_dict['Marks'][0]=my_dict['Marks'][0]+6"
   ]
  },
  {
   "cell_type": "code",
   "execution_count": 63,
   "id": "27f2fd93-4115-49e1-9600-43074c3323ef",
   "metadata": {},
   "outputs": [
    {
     "data": {
      "text/plain": [
       "{'Roll Number': 123,\n",
       " 'Subjects': ['Maths', 'science', 'Computer'],\n",
       " 'Marks': [30, 29, 25]}"
      ]
     },
     "execution_count": 63,
     "metadata": {},
     "output_type": "execute_result"
    }
   ],
   "source": [
    "my_dict"
   ]
  },
  {
   "cell_type": "code",
   "execution_count": 64,
   "id": "ae5cf512-1e83-4884-821c-7c8669cbb9f2",
   "metadata": {},
   "outputs": [],
   "source": [
    "my_dict['Marks'][0]+=4"
   ]
  },
  {
   "cell_type": "code",
   "execution_count": 65,
   "id": "843b510f-4bdf-4d77-bf35-051a6da94b4c",
   "metadata": {},
   "outputs": [
    {
     "data": {
      "text/plain": [
       "{'Roll Number': 123,\n",
       " 'Subjects': ['Maths', 'science', 'Computer'],\n",
       " 'Marks': [34, 29, 25]}"
      ]
     },
     "execution_count": 65,
     "metadata": {},
     "output_type": "execute_result"
    }
   ],
   "source": [
    "my_dict"
   ]
  },
  {
   "cell_type": "code",
   "execution_count": 66,
   "id": "d0bc0e8c-dacb-476f-b4c6-35a4f2a786d4",
   "metadata": {},
   "outputs": [],
   "source": [
    "my_dict['Marks'][0]-=4"
   ]
  },
  {
   "cell_type": "code",
   "execution_count": 67,
   "id": "0a612af8-2148-4b39-ba24-9fc353d029c5",
   "metadata": {},
   "outputs": [
    {
     "data": {
      "text/plain": [
       "{'Roll Number': 123,\n",
       " 'Subjects': ['Maths', 'science', 'Computer'],\n",
       " 'Marks': [30, 29, 25]}"
      ]
     },
     "execution_count": 67,
     "metadata": {},
     "output_type": "execute_result"
    }
   ],
   "source": [
    "my_dict"
   ]
  },
  {
   "cell_type": "code",
   "execution_count": 68,
   "id": "ae3ec38c-6467-4cd9-a119-96474b51fc1d",
   "metadata": {},
   "outputs": [],
   "source": [
    "my_dict['Year']=2015"
   ]
  },
  {
   "cell_type": "code",
   "execution_count": 69,
   "id": "df390f32-bc11-4e35-a6ba-9a65de0e1180",
   "metadata": {},
   "outputs": [
    {
     "data": {
      "text/plain": [
       "{'Roll Number': 123,\n",
       " 'Subjects': ['Maths', 'science', 'Computer'],\n",
       " 'Marks': [30, 29, 25],\n",
       " 'Year': 2015}"
      ]
     },
     "execution_count": 69,
     "metadata": {},
     "output_type": "execute_result"
    }
   ],
   "source": [
    "my_dict"
   ]
  },
  {
   "cell_type": "code",
   "execution_count": 70,
   "id": "ee9e30b1-3123-4feb-a96a-7f0aee1fa20b",
   "metadata": {},
   "outputs": [
    {
     "data": {
      "text/plain": [
       "dict_items([('Roll Number', 123), ('Subjects', ['Maths', 'science', 'Computer']), ('Marks', [30, 29, 25]), ('Year', 2015)])"
      ]
     },
     "execution_count": 70,
     "metadata": {},
     "output_type": "execute_result"
    }
   ],
   "source": [
    "my_dict.items()"
   ]
  },
  {
   "cell_type": "code",
   "execution_count": null,
   "id": "65a247bd-28e0-4a86-851a-05e2b80191f4",
   "metadata": {},
   "outputs": [],
   "source": []
  }
 ],
 "metadata": {
  "kernelspec": {
   "display_name": "Python 3 (ipykernel)",
   "language": "python",
   "name": "python3"
  },
  "language_info": {
   "codemirror_mode": {
    "name": "ipython",
    "version": 3
   },
   "file_extension": ".py",
   "mimetype": "text/x-python",
   "name": "python",
   "nbconvert_exporter": "python",
   "pygments_lexer": "ipython3",
   "version": "3.12.7"
  }
 },
 "nbformat": 4,
 "nbformat_minor": 5
}
