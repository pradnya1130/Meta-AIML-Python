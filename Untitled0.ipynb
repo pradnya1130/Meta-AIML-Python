{
  "nbformat": 4,
  "nbformat_minor": 0,
  "metadata": {
    "colab": {
      "provenance": []
    },
    "kernelspec": {
      "name": "python3",
      "display_name": "Python 3"
    },
    "language_info": {
      "name": "python"
    }
  },
  "cells": [
    {
      "cell_type": "code",
      "execution_count": 2,
      "metadata": {
        "colab": {
          "base_uri": "https://localhost:8080/"
        },
        "id": "yMETX2tKhOqo",
        "outputId": "8ce25086-69f6-4d82-e187-d3e799e07ba3"
      },
      "outputs": [
        {
          "output_type": "stream",
          "name": "stdout",
          "text": [
            "[2, 4, 6, 8, 10]\n"
          ]
        }
      ],
      "source": [
        "#Use map to double all the elements in the list: [1, 2, 3, 4, 5]\n",
        "\n",
        "numbers = [1, 2, 3, 4, 5]\n",
        "doubled_numbers = list(map(lambda x: x * 2, numbers))\n",
        "print(doubled_numbers)\n"
      ]
    },
    {
      "cell_type": "code",
      "source": [
        "#Use filter to extract all even numbers from the list: [10, 15, 20, 25, 30]."
      ],
      "metadata": {
        "id": "TVXne2iCiazW"
      },
      "execution_count": 3,
      "outputs": []
    },
    {
      "cell_type": "code",
      "source": [
        "numbers = [10, 15, 20, 25, 30]\n",
        "even_numbers = list(filter(lambda x: x % 2 == 0, numbers))\n",
        "print(even_numbers)\n"
      ],
      "metadata": {
        "colab": {
          "base_uri": "https://localhost:8080/"
        },
        "id": "9kMx8pEaioXW",
        "outputId": "ed0d999d-73d5-4abf-c2bd-2119acb074fc"
      },
      "execution_count": 6,
      "outputs": [
        {
          "output_type": "stream",
          "name": "stdout",
          "text": [
            "[10, 20, 30]\n"
          ]
        }
      ]
    },
    {
      "cell_type": "code",
      "source": [
        "#4. Write a one-liner lambda function to check if a given number is a palindrom\n",
        "is_palindrome = lambda num: str(num) == str(num)[::-1]\n"
      ],
      "metadata": {
        "id": "cucAemOijCHE"
      },
      "execution_count": 9,
      "outputs": []
    },
    {
      "cell_type": "code",
      "source": [
        "#5 Write a function that takes a variable number of arguments (*args) and returns\n",
        "#their sum\n",
        "def sum_of_numbers(*args):\n",
        "    return sum(args)\n"
      ],
      "metadata": {
        "id": "b6VVQ8YKjN92"
      },
      "execution_count": 12,
      "outputs": []
    },
    {
      "cell_type": "code",
      "source": [
        "#Write a function that uses **kwargs to accept a student’s details (name, age, and\n",
        "#grade) and print them in a formatted string.\n",
        "\n",
        "def print_student_details(**kwargs):\n",
        "    name = kwargs.get('name', 'N/A')\n",
        "    age = kwargs.get('age', 'N/A')\n",
        "    grade = kwargs.get('grade', 'N/A')\n",
        "    print(f\"Student Name: {name}\")\n",
        "    print(f\"Age: {age}\")\n",
        "    print(f\"Grade: {grade}\")\n"
      ],
      "metadata": {
        "id": "51c3p6YRkG1s"
      },
      "execution_count": 15,
      "outputs": []
    },
    {
      "cell_type": "code",
      "source": [
        "#10. Write a program to print the first 10 natural numbers using a for loop\n",
        "for i in range(1, 11):\n",
        "    print(i)\n"
      ],
      "metadata": {
        "colab": {
          "base_uri": "https://localhost:8080/"
        },
        "id": "zEN7T7DBk0Kf",
        "outputId": "1103d6dc-7e74-4597-b184-8e36c2cc2cee"
      },
      "execution_count": 17,
      "outputs": [
        {
          "output_type": "stream",
          "name": "stdout",
          "text": [
            "1\n",
            "2\n",
            "3\n",
            "4\n",
            "5\n",
            "6\n",
            "7\n",
            "8\n",
            "9\n",
            "10\n"
          ]
        }
      ]
    },
    {
      "cell_type": "code",
      "source": [
        "\n",
        "#11 . Write a program to calculate the sum of all numbers in a list: [5, 10, 15, 20]\n",
        "#using a for loop.\n",
        "numbers = [5, 10, 15, 20]\n",
        "total_sum = 0\n",
        "\n",
        "for num in numbers:\n",
        "    total_sum += num\n",
        "\n",
        "print(\"Sum of all numbers:\", total_sum)\n"
      ],
      "metadata": {
        "colab": {
          "base_uri": "https://localhost:8080/"
        },
        "id": "cxDqCLDHlKqR",
        "outputId": "9a22b8c3-5154-4bf0-edc8-46b8c0b7afab"
      },
      "execution_count": 21,
      "outputs": [
        {
          "output_type": "stream",
          "name": "stdout",
          "text": [
            "Sum of all numbers: 50\n"
          ]
        }
      ]
    },
    {
      "cell_type": "code",
      "source": [
        "#13. Write a program to find the factorial of a number using a while loop.\n",
        "def factorial(n):\n",
        "    result = 1\n",
        "    while n > 0:\n",
        "        result *= n\n",
        "        n -= 1\n",
        "    return result\n",
        "\n",
        "# Example usage:\n",
        "number = 5\n",
        "print(f\"The factorial of {number} is {factorial(number)}\")\n"
      ],
      "metadata": {
        "colab": {
          "base_uri": "https://localhost:8080/"
        },
        "id": "S0IpjXpImISr",
        "outputId": "8317bfff-a36b-42ce-ebe2-481f105dac2c"
      },
      "execution_count": 23,
      "outputs": [
        {
          "output_type": "stream",
          "name": "stdout",
          "text": [
            "The factorial of 5 is 120\n"
          ]
        }
      ]
    },
    {
      "cell_type": "code",
      "source": [
        "# 14. Write a Python program to check if a number entered by the user is even or odd\n",
        "number = int(input(\"Enter a number: \"))\n",
        "\n",
        "# Check if the number is even or odd\n",
        "if number % 2 == 0:\n",
        "    print(f\"{number} is even.\")\n",
        "else:\n",
        "    print(f\"{number} is odd.\")\n"
      ],
      "metadata": {
        "colab": {
          "base_uri": "https://localhost:8080/"
        },
        "id": "3gakTtWVm5Qy",
        "outputId": "626c05b0-fc41-4ea0-8554-59060eed4548"
      },
      "execution_count": 25,
      "outputs": [
        {
          "output_type": "stream",
          "name": "stdout",
          "text": [
            "Enter a number: 34\n",
            "34 is even.\n"
          ]
        }
      ]
    },
    {
      "cell_type": "code",
      "source": [
        "#18. Write a function that takes a list of numbers and returns the largest number.\n",
        "def find_largest(numbers):\n",
        "    largest = numbers[0]\n",
        "    for num in numbers:\n",
        "        if num > largest:\n",
        "            largest = num\n",
        "    return largest\n",
        "\n",
        "# Example usage:\n",
        "numbers = [32, 76, 67, 23, 45]\n",
        "print(\"The largest number is:\", find_largest(numbers))\n"
      ],
      "metadata": {
        "colab": {
          "base_uri": "https://localhost:8080/"
        },
        "id": "al9gVWZxnf1E",
        "outputId": "5c70a3bb-3849-4161-ca51-d1111fc09518"
      },
      "execution_count": 26,
      "outputs": [
        {
          "output_type": "stream",
          "name": "stdout",
          "text": [
            "The largest number is: 76\n"
          ]
        }
      ]
    },
    {
      "cell_type": "code",
      "source": [
        "#1. Create a NumPy array of zeros with shape (3, 4).\n",
        "import numpy as np\n",
        "\n",
        "# Create a NumPy array of zeros with shape (3, 4)\n",
        "array = np.zeros((3, 4))\n",
        "\n",
        "# Print the array\n",
        "print(array)\n"
      ],
      "metadata": {
        "colab": {
          "base_uri": "https://localhost:8080/"
        },
        "id": "jiP1FoVWoHsv",
        "outputId": "c05b01b6-632f-4bd5-dd82-fdd1f3ebff51"
      },
      "execution_count": 31,
      "outputs": [
        {
          "output_type": "stream",
          "name": "stdout",
          "text": [
            "[[0. 0. 0. 0.]\n",
            " [0. 0. 0. 0.]\n",
            " [0. 0. 0. 0.]]\n"
          ]
        }
      ]
    },
    {
      "cell_type": "code",
      "source": [
        "#2. Create a NumPy array of ones with shape (2, 5).\n",
        "import numpy as np\n",
        "\n",
        "# Create a NumPy array of ones with shape (2, 5)\n",
        "array = np.ones((2, 5))\n",
        "\n",
        "# Print the array\n",
        "print(array)\n"
      ],
      "metadata": {
        "colab": {
          "base_uri": "https://localhost:8080/"
        },
        "id": "RpKhYyjotOd3",
        "outputId": "0f150777-60e9-40ae-b0a5-578113a75b4d"
      },
      "execution_count": 33,
      "outputs": [
        {
          "output_type": "stream",
          "name": "stdout",
          "text": [
            "[[1. 1. 1. 1. 1.]\n",
            " [1. 1. 1. 1. 1.]]\n"
          ]
        }
      ]
    },
    {
      "cell_type": "code",
      "source": [
        " #3 Create a NumPy matrix with the values from 1 to 10 using np.arange()\n",
        " import numpy as np\n",
        "\n",
        "matrix = np.arange(1, 11)\n",
        "\n",
        "# Print the matrix\n",
        "print(matrix)\n"
      ],
      "metadata": {
        "colab": {
          "base_uri": "https://localhost:8080/"
        },
        "id": "gWT5fp3AuaAe",
        "outputId": "4f1542e2-969a-4e36-dbad-e0b058813daf"
      },
      "execution_count": 35,
      "outputs": [
        {
          "output_type": "stream",
          "name": "stdout",
          "text": [
            "[ 1  2  3  4  5  6  7  8  9 10]\n"
          ]
        }
      ]
    },
    {
      "cell_type": "code",
      "source": [
        "matrix_reshaped = matrix.reshape(2, 5)\n",
        "print(matrix_reshaped)\n"
      ],
      "metadata": {
        "colab": {
          "base_uri": "https://localhost:8080/"
        },
        "id": "lPVBkY_3vHsd",
        "outputId": "5e42bbb7-2ac1-46d1-a1e7-a514410d5b35"
      },
      "execution_count": 37,
      "outputs": [
        {
          "output_type": "stream",
          "name": "stdout",
          "text": [
            "[[ 1  2  3  4  5]\n",
            " [ 6  7  8  9 10]]\n"
          ]
        }
      ]
    },
    {
      "cell_type": "code",
      "source": [
        "#4. Create a NumPy array with numbers from 0 to 1 (inclusive) with a step size of 0.1\n",
        "#using np.arange()"
      ],
      "metadata": {
        "id": "p5icRn4cwMOp"
      },
      "execution_count": 38,
      "outputs": []
    },
    {
      "cell_type": "code",
      "source": [
        "import numpy as np\n",
        "\n",
        "# Create a NumPy array with 10 equally spaced values between 0 and 1 (excluding 1)\n",
        "array = np.linspace(0, 1, 10, endpoint=False)\n",
        "\n",
        "# Print the array\n",
        "print(array)\n"
      ],
      "metadata": {
        "colab": {
          "base_uri": "https://localhost:8080/"
        },
        "id": "zbInO0QqwPkk",
        "outputId": "c1982a26-1471-4634-c3f8-b296cf674774"
      },
      "execution_count": 40,
      "outputs": [
        {
          "output_type": "stream",
          "name": "stdout",
          "text": [
            "[0.  0.1 0.2 0.3 0.4 0.5 0.6 0.7 0.8 0.9]\n"
          ]
        }
      ]
    },
    {
      "cell_type": "code",
      "source": [
        "#6. Write a NumPy program to compute the square root of each element in the array\n",
        "#[1, 4, 9, 16].\n",
        "import numpy as np\n",
        "\n",
        "# Create the NumPy array\n",
        "array = np.array([1, 4, 9, 16])\n",
        "\n",
        "# Compute the square root of each element in the array\n",
        "sqrt_array = np.sqrt(array)\n",
        "\n",
        "# Print the result\n",
        "print(sqrt_array)\n"
      ],
      "metadata": {
        "colab": {
          "base_uri": "https://localhost:8080/"
        },
        "id": "xboKd1Dnw-Nh",
        "outputId": "45b6fe52-455d-4417-aea5-cecefbb57255"
      },
      "execution_count": 42,
      "outputs": [
        {
          "output_type": "stream",
          "name": "stdout",
          "text": [
            "[1. 2. 3. 4.]\n"
          ]
        }
      ]
    },
    {
      "cell_type": "code",
      "source": [
        "#7 Compute the sum of all elements in the array np.array([2, 3, 4, 5, 6]).\n",
        "import numpy as np\n",
        "\n",
        "# Create the NumPy array\n",
        "array = np.array([2, 3, 4, 5, 6])\n",
        "\n",
        "# Compute the sum of all elements in the array\n",
        "sum_array = np.sum(array)\n",
        "\n",
        "# Print the result\n",
        "print(sum_array)\n"
      ],
      "metadata": {
        "colab": {
          "base_uri": "https://localhost:8080/"
        },
        "id": "Ykc8YPFgxPV8",
        "outputId": "64eb0b1f-5080-4302-c06d-74e2069da1dc"
      },
      "execution_count": 43,
      "outputs": [
        {
          "output_type": "stream",
          "name": "stdout",
          "text": [
            "20\n"
          ]
        }
      ]
    },
    {
      "cell_type": "code",
      "source": [
        "# 8. Find the minimum value in the array np.array([1, 5, 9, 3, 6]) using np.min().\n",
        "import numpy as np\n",
        "\n",
        "# Create the NumPy array\n",
        "array = np.array([1,5,9,3,6])\n",
        "\n",
        "# Find the minimum value in the array\n",
        "min_value = np.min(array)\n",
        "\n",
        "# Print the result\n",
        "print(min_value)\n"
      ],
      "metadata": {
        "colab": {
          "base_uri": "https://localhost:8080/"
        },
        "id": "EZes1XSnxpD6",
        "outputId": "81f06fed-e8de-4888-bc80-a36236f8d74a"
      },
      "execution_count": 46,
      "outputs": [
        {
          "output_type": "stream",
          "name": "stdout",
          "text": [
            "1\n"
          ]
        }
      ]
    },
    {
      "cell_type": "markdown",
      "source": [],
      "metadata": {
        "id": "__i8VtER0LXr"
      }
    },
    {
      "cell_type": "code",
      "source": [
        "# 9. Find the maximum value in the array np.array([1, 5, 9, 3, 6]) using np.max()."
      ],
      "metadata": {
        "id": "MobAEO1uzHF2"
      },
      "execution_count": 50,
      "outputs": []
    },
    {
      "cell_type": "markdown",
      "source": [
        "import numpy as np\n",
        "\n",
        "# Create the NumPy array\n",
        "array = np.array([1, 5, 9, 3, 6])\n",
        "\n",
        "# Find the minimum value in the array\n",
        "min_value = np.min(array)\n",
        "\n",
        "# Print the result\n",
        "print(min_value)\n"
      ],
      "metadata": {
        "id": "LHzBHegw0M2h"
      }
    },
    {
      "cell_type": "code",
      "source": [
        "import numpy as np\n",
        "\n",
        "# Generate an array of 5 random integers between 10 and 50\n",
        "random_integers = np.random.randint(10, 51, size=5)\n",
        "\n",
        "# Print the result\n",
        "print(random_integers)\n"
      ],
      "metadata": {
        "colab": {
          "base_uri": "https://localhost:8080/"
        },
        "id": "9_RFPaag02Id",
        "outputId": "1f0aaee2-3799-465b-a399-719f713be67b"
      },
      "execution_count": 53,
      "outputs": [
        {
          "output_type": "stream",
          "name": "stdout",
          "text": [
            "[23 21 45 38 48]\n"
          ]
        }
      ]
    },
    {
      "cell_type": "code",
      "source": [],
      "metadata": {
        "id": "TpOeKUzw1xr-"
      },
      "execution_count": null,
      "outputs": []
    }
  ]
}