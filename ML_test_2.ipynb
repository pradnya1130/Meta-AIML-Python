{
  "nbformat": 4,
  "nbformat_minor": 0,
  "metadata": {
    "colab": {
      "provenance": []
    },
    "kernelspec": {
      "name": "python3",
      "display_name": "Python 3"
    },
    "language_info": {
      "name": "python"
    }
  },
  "cells": [
    {
      "cell_type": "code",
      "source": [],
      "metadata": {
        "id": "H5VX9KSyxZRH"
      },
      "execution_count": null,
      "outputs": []
    },
    {
      "cell_type": "code",
      "source": [],
      "metadata": {
        "id": "zXxh_VDyvuIz"
      },
      "execution_count": null,
      "outputs": []
    },
    {
      "cell_type": "code",
      "source": [
        "\n",
        "\n",
        "import pandas as pd\n",
        "from sklearn.model_selection import train_test_split\n",
        "from sklearn.preprocessing import StandardScaler\n",
        "from sklearn.linear_model import LinearRegression\n",
        "from sklearn.metrics import mean_squared_error, r2_score\n",
        "\n",
        "# Load the dataset\n",
        "data = pd.read_csv(r\"/content/test_2.csv\")\n",
        "\n",
        "# Display the first few rows to understand the structure\n",
        "print(data.head())\n",
        "\n",
        "# Assuming the dataset has a 'Seat No' and 'CGPA' column\n",
        "# Remove 'Seat No' as it is not a feature\n",
        "data = data.drop('Seat No.', axis=1)\n",
        "\n",
        "# Separate features (X) and target (y)\n",
        "X = data.drop('CGPA', axis=1)\n",
        "y = data['CGPA']\n",
        "\n",
        "# *** Identify and handle non-numerical columns ***\n",
        "# Convert non-numerical columns to numerical using one-hot encoding or other suitable methods\n",
        "# For example, if 'column_name' is a non-numerical column:\n",
        "# X = pd.get_dummies(X, columns=['column_name'], drop_first=True)\n",
        "\n",
        "# Find the columns with object (string) data type\n",
        "object_columns = X.select_dtypes(include=['object']).columns\n",
        "\n",
        "# One-hot encode the object columns\n",
        "for col in object_columns:\n",
        "    X = pd.get_dummies(X, columns=[col], prefix=[col], drop_first=True)\n",
        "\n",
        "# Split the data into training and testing sets\n",
        "X_train, X_test, y_train, y_test = train_test_split(X, y, test_size=0.2, random_state=42)\n",
        "\n",
        "# Standardize the features\n",
        "scaler = StandardScaler()\n",
        "X_train = scaler.fit_transform(X_train)\n",
        "X_test = scaler.transform(X_test)\n",
        "\n",
        "# Initialize and train the regression model\n",
        "model = LinearRegression()\n",
        "model.fit(X_train, y_train)\n",
        "\n",
        "# Make predictions\n",
        "y_pred = model.predict(X_test)\n",
        "\n",
        "# Evaluate the model\n",
        "mse = mean_squared_error(y_test, y_pred)\n",
        "r2 = r2_score(y_test, y_pred)\n",
        "\n",
        "print(f\"Mean Squared Error: {mse}\")\n",
        "print(f\"R-squared Score: {r2}\")\n",
        "\n",
        "# Predict CGPA for new data\n",
        "# new_data = [[...]]  # Add new data in the format of your feature columns\n",
        "# new_pred = model.predict(scaler.transform(new_data))\n",
        "# print(f\"Predicted CGPA: {new_pred}\")"
      ],
      "metadata": {
        "colab": {
          "base_uri": "https://localhost:8080/"
        },
        "id": "loNcp2YQGKDu",
        "outputId": "25dd1eae-df0c-4d15-f580-56c3ef2de5a1"
      },
      "execution_count": null,
      "outputs": [
        {
          "output_type": "stream",
          "name": "stdout",
          "text": [
            "   Seat No. PH-121 HS-101 CY-105 HS-105/12 MT-111 CS-105 CS-106 EL-102 EE-119  \\\n",
            "0  CS-97001     B-     D+     C-         C     C-     D+      D     C-     B-   \n",
            "1  CS-97002      A      D     D+         D     B-      C      D      A     D+   \n",
            "2  CS-97003      A      B      A        B-     B+      A     B-     B+     A-   \n",
            "3  CS-97004      D     C+     D+         D      D     A-     D+     C-      D   \n",
            "4  CS-97005     A-     A-     A-        B+      A      A     A-     B+      A   \n",
            "\n",
            "   ... CS-312 CS-317 CS-403 CS-421 CS-406 CS-414 CS-419 CS-423 CS-412   CGPA  \n",
            "0  ...     C-     C-     C-     C-     A-      A     C-      B     A-  2.205  \n",
            "1  ...     D+      D      C      D     A-     B-      C      C      B  2.008  \n",
            "2  ...      B      B      A      C      A      A      A     A-      A  3.608  \n",
            "3  ...     D+      C     D+     C-     B-      B     C+     C+     C+  1.906  \n",
            "4  ...     B-     B+     B+     B-     A-      A     A-     A-      A  3.448  \n",
            "\n",
            "[5 rows x 43 columns]\n",
            "Mean Squared Error: 0.10314784705148669\n",
            "R-squared Score: 0.6900489566552329\n"
          ]
        }
      ]
    }
  ]
}