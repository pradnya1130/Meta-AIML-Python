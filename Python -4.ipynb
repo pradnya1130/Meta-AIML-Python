{
 "cells": [
  {
   "cell_type": "code",
   "execution_count": 1,
   "id": "39f50a32-be85-4a01-ba9d-8361a53448ab",
   "metadata": {},
   "outputs": [],
   "source": [
    "#Branching (if,elif,else).\n",
    "#Provides truthiness of elements"
   ]
  },
  {
   "cell_type": "code",
   "execution_count": 10,
   "id": "fd413c61-63f1-45f0-ab8d-c36bb8782260",
   "metadata": {},
   "outputs": [
    {
     "name": "stdout",
     "output_type": "stream",
     "text": [
      "i is smaller\n"
     ]
    }
   ],
   "source": [
    "i =10\n",
    "if i<11: # definitely you have doubt whay print is in space, is know as indentation.means four space  \n",
    "    print('i is smaller')\n",
    "else:\n",
    "    print('i is greater')\n"
   ]
  },
  {
   "cell_type": "code",
   "execution_count": 6,
   "id": "e34d194f-515b-47f2-af01-7ebf7fb7ceaa",
   "metadata": {},
   "outputs": [
    {
     "name": "stdout",
     "output_type": "stream",
     "text": [
      "i is smaller\n"
     ]
    }
   ],
   "source": [
    "print('i is smaller')if i<11 else print('i is greater')"
   ]
  },
  {
   "cell_type": "code",
   "execution_count": 11,
   "id": "ab411207-7262-419c-90f4-9976e02322a0",
   "metadata": {},
   "outputs": [],
   "source": [
    "#Another example of Free shipping message"
   ]
  },
  {
   "cell_type": "code",
   "execution_count": 15,
   "id": "85bf9321-5919-4c8f-8ffc-5d2c491f4d1b",
   "metadata": {},
   "outputs": [
    {
     "name": "stdout",
     "output_type": "stream",
     "text": [
      "please add 150 Rs worth for free shipping\n"
     ]
    }
   ],
   "source": [
    "item_1=150\n",
    "item_2=200\n",
    "\n",
    "if (item_1+item_2)>=500:\n",
    "    print('Your item is eligible for free shipping')\n",
    "else:\n",
    "    extra=500-(item_1+item_2)\n",
    "    print('please add',extra,'Rs worth for free shipping') "
   ]
  },
  {
   "cell_type": "code",
   "execution_count": 16,
   "id": "382e769c-52e4-4ae3-85ef-504f43d9c627",
   "metadata": {},
   "outputs": [],
   "source": [
    "#Lets see different example with 'and' method"
   ]
  },
  {
   "cell_type": "code",
   "execution_count": 17,
   "id": "c42e5950-4e09-4196-8993-fc9442c13f41",
   "metadata": {},
   "outputs": [],
   "source": [
    "a=200\n",
    "b=33\n",
    "c=500"
   ]
  },
  {
   "cell_type": "code",
   "execution_count": 19,
   "id": "854d7530-4a03-4157-9b93-72735f3a20c0",
   "metadata": {},
   "outputs": [
    {
     "name": "stdout",
     "output_type": "stream",
     "text": [
      "Both condition are wrong\n"
     ]
    }
   ],
   "source": [
    "if a>b and c<a:\n",
    "    print('Both condition are true')\n",
    "else:\n",
    "    print('Both condition are wrong')"
   ]
  },
  {
   "cell_type": "code",
   "execution_count": 20,
   "id": "67e618ec-c684-45a0-a8c8-f74bc6d6899f",
   "metadata": {},
   "outputs": [],
   "source": [
    "#Lets see different example with 'or' method"
   ]
  },
  {
   "cell_type": "code",
   "execution_count": 22,
   "id": "9b5439a3-8406-4d3b-a195-0fe4155b5ad1",
   "metadata": {},
   "outputs": [
    {
     "name": "stdout",
     "output_type": "stream",
     "text": [
      "Atleast one of the condition are true\n"
     ]
    }
   ],
   "source": [
    "a=20\n",
    "b=3\n",
    "c=50\n",
    "\n",
    "if a>b or c<a:\n",
    "    print('Atleast one of the condition are true')\n",
    "else:\n",
    "    print('Both condition are wrong')"
   ]
  },
  {
   "cell_type": "code",
   "execution_count": 23,
   "id": "87f8f9b6-cfe6-4c6f-b8f7-d58e828ed5a9",
   "metadata": {},
   "outputs": [],
   "source": [
    "#Another example of Students leave"
   ]
  },
  {
   "cell_type": "code",
   "execution_count": 24,
   "id": "8f4ab1be-b45b-439b-af09-c5bf69a9bbaf",
   "metadata": {},
   "outputs": [
    {
     "name": "stdout",
     "output_type": "stream",
     "text": [
      "60 First class\n"
     ]
    }
   ],
   "source": [
    "marks=60\n",
    "\n",
    "if marks>=60:\n",
    "    if  marks>70:\n",
    "        print(marks,'distiction')\n",
    "    else:\n",
    "        print(marks,'First class')\n",
    "elif marks>50 and marks<60:\n",
    "    print(marks,'second division')\n",
    "elif marks>35:\n",
    "    print(marks,'Just pass')\n",
    "else:\n",
    "    ('marks','Fail Better luck next time')"
   ]
  },
  {
   "cell_type": "code",
   "execution_count": 25,
   "id": "5136c97e-004c-4f4c-97ac-4a6620f4036f",
   "metadata": {},
   "outputs": [
    {
     "name": "stdout",
     "output_type": "stream",
     "text": [
      "88 distiction\n"
     ]
    }
   ],
   "source": [
    "marks=88\n",
    "\n",
    "if marks>=60:\n",
    "    if  marks>70:\n",
    "        print(marks,'distiction')\n",
    "    else:\n",
    "        print(marks,'First class')\n",
    "elif marks>50 and marks<60:\n",
    "    print(marks,'second division')\n",
    "elif marks>35:\n",
    "    print(marks,'Just pass')\n",
    "else:\n",
    "    ('marks','Fail Better luck next time')"
   ]
  },
  {
   "cell_type": "code",
   "execution_count": 29,
   "id": "0b4038a1-a847-486c-8936-7fd7855ca0b4",
   "metadata": {},
   "outputs": [
    {
     "name": "stdout",
     "output_type": "stream",
     "text": [
      "54 is greater\n"
     ]
    }
   ],
   "source": [
    "num1=54\n",
    "num2=97\n",
    "if num1<num2:\n",
    "    print(num1,'is greater')\n",
    "elif num2==31:\n",
    "    print(num2,'is equal to 55')"
   ]
  },
  {
   "cell_type": "code",
   "execution_count": 30,
   "id": "c94bfc71-ba97-40cc-96e4-8214c87bac40",
   "metadata": {},
   "outputs": [],
   "source": [
    "#Range function\n",
    "#We can generate sequence of numbers using range()function\n",
    "#First element  is start of range,second is end and third is the step size"
   ]
  },
  {
   "cell_type": "code",
   "execution_count": 31,
   "id": "6e0996e7-367f-4e3a-8041-cd14a516538f",
   "metadata": {},
   "outputs": [
    {
     "name": "stdout",
     "output_type": "stream",
     "text": [
      "range(0, 10)\n"
     ]
    }
   ],
   "source": [
    "print(range(10))"
   ]
  },
  {
   "cell_type": "code",
   "execution_count": 32,
   "id": "bd5526ea-b94a-4a72-8d66-247c4b35d9bc",
   "metadata": {},
   "outputs": [],
   "source": [
    "#We can also print range in list"
   ]
  },
  {
   "cell_type": "code",
   "execution_count": 34,
   "id": "8d075fa6-9d0e-47cd-82c4-2c1f31f1fd7c",
   "metadata": {},
   "outputs": [
    {
     "name": "stdout",
     "output_type": "stream",
     "text": [
      "[0, 1, 2, 3, 4, 5, 6, 7, 8, 9, 10, 11, 12, 13, 14, 15, 16]\n"
     ]
    }
   ],
   "source": [
    "print(list(range(17)))"
   ]
  },
  {
   "cell_type": "code",
   "execution_count": 35,
   "id": "5ae2dbdc-2c92-4ca1-b267-d54cca850940",
   "metadata": {},
   "outputs": [
    {
     "name": "stdout",
     "output_type": "stream",
     "text": [
      "[18, 22, 26, 30, 34, 38, 42, 46, 50, 54, 58, 62, 66, 70, 74, 78, 82, 86, 90, 94, 98, 102, 106, 110, 114, 118, 122, 126, 130, 134, 138, 142, 146, 150, 154, 158, 162, 166, 170, 174, 178, 182, 186]\n"
     ]
    }
   ],
   "source": [
    "print(list(range(18,190,4)))"
   ]
  },
  {
   "cell_type": "code",
   "execution_count": 36,
   "id": "33f0b87b-62b4-42e6-8be2-05b315b3871e",
   "metadata": {},
   "outputs": [],
   "source": [
    "#We can also store range function in variable"
   ]
  },
  {
   "cell_type": "code",
   "execution_count": 38,
   "id": "dfeb5759-27be-48b8-8ecb-f6bcefc94458",
   "metadata": {},
   "outputs": [],
   "source": [
    "roll_num=list(range(10,50,1))"
   ]
  },
  {
   "cell_type": "code",
   "execution_count": 39,
   "id": "0f4e1267-8e8f-4d29-9b8b-2ba9eb7bbd40",
   "metadata": {},
   "outputs": [
    {
     "data": {
      "text/plain": [
       "[10,\n",
       " 11,\n",
       " 12,\n",
       " 13,\n",
       " 14,\n",
       " 15,\n",
       " 16,\n",
       " 17,\n",
       " 18,\n",
       " 19,\n",
       " 20,\n",
       " 21,\n",
       " 22,\n",
       " 23,\n",
       " 24,\n",
       " 25,\n",
       " 26,\n",
       " 27,\n",
       " 28,\n",
       " 29,\n",
       " 30,\n",
       " 31,\n",
       " 32,\n",
       " 33,\n",
       " 34,\n",
       " 35,\n",
       " 36,\n",
       " 37,\n",
       " 38,\n",
       " 39,\n",
       " 40,\n",
       " 41,\n",
       " 42,\n",
       " 43,\n",
       " 44,\n",
       " 45,\n",
       " 46,\n",
       " 47,\n",
       " 48,\n",
       " 49]"
      ]
     },
     "execution_count": 39,
     "metadata": {},
     "output_type": "execute_result"
    }
   ],
   "source": [
    "roll_num"
   ]
  },
  {
   "cell_type": "code",
   "execution_count": 41,
   "id": "bd36702d-43a7-4a78-bee3-9dd2f21974d2",
   "metadata": {},
   "outputs": [],
   "source": [
    "#We can also Reverse function with range function"
   ]
  },
  {
   "cell_type": "code",
   "execution_count": 42,
   "id": "70deb8b9-aec5-43e3-830e-a5ea56e257d1",
   "metadata": {},
   "outputs": [],
   "source": [
    "reverse=list(range(1600,99,-100))"
   ]
  },
  {
   "cell_type": "code",
   "execution_count": 43,
   "id": "14dcf851-51c3-443e-b289-58a4cd424aba",
   "metadata": {},
   "outputs": [],
   "source": [
    "#we use - sign when range decreases from start down to stop"
   ]
  },
  {
   "cell_type": "code",
   "execution_count": 44,
   "id": "0be9b1fe-4b69-414c-b9cb-48f3c389d475",
   "metadata": {},
   "outputs": [
    {
     "data": {
      "text/plain": [
       "[1600,\n",
       " 1500,\n",
       " 1400,\n",
       " 1300,\n",
       " 1200,\n",
       " 1100,\n",
       " 1000,\n",
       " 900,\n",
       " 800,\n",
       " 700,\n",
       " 600,\n",
       " 500,\n",
       " 400,\n",
       " 300,\n",
       " 200,\n",
       " 100]"
      ]
     },
     "execution_count": 44,
     "metadata": {},
     "output_type": "execute_result"
    }
   ],
   "source": [
    "reverse"
   ]
  },
  {
   "cell_type": "code",
   "execution_count": 45,
   "id": "bc8b63b9-9d22-40bf-b573-9408183b31ab",
   "metadata": {},
   "outputs": [],
   "source": [
    "#Loop function\n",
    "#we use loop function to repeat a set of statement in our program\n"
   ]
  },
  {
   "cell_type": "code",
   "execution_count": 46,
   "id": "4f17c002-c786-409e-b91e-a2a7f609ecfb",
   "metadata": {},
   "outputs": [],
   "source": [
    "#Lets start with 1.For loop"
   ]
  },
  {
   "cell_type": "code",
   "execution_count": 50,
   "id": "d381e35d-ec2c-41b7-8d37-46b8e0ae70e6",
   "metadata": {},
   "outputs": [],
   "source": [
    "location=[\"Kolkata\",\"Bihar\",\"Raipur\",\"Patna\",\"Siwan\"]"
   ]
  },
  {
   "cell_type": "code",
   "execution_count": 51,
   "id": "7f405f0a-76ba-49cd-b129-ab5c38f1ff65",
   "metadata": {},
   "outputs": [
    {
     "data": {
      "text/plain": [
       "['Kolkata', 'Bihar', 'Raipur', 'Patna', 'Siwan']"
      ]
     },
     "execution_count": 51,
     "metadata": {},
     "output_type": "execute_result"
    }
   ],
   "source": [
    "location"
   ]
  },
  {
   "cell_type": "code",
   "execution_count": 52,
   "id": "8fda23bf-8643-4724-8afc-fea78ef80c96",
   "metadata": {},
   "outputs": [
    {
     "name": "stdout",
     "output_type": "stream",
     "text": [
      "Kolkata\n",
      "Bihar\n",
      "Raipur\n",
      "Patna\n",
      "Siwan\n"
     ]
    }
   ],
   "source": [
    "for city in location:\n",
    "    print(city)"
   ]
  },
  {
   "cell_type": "code",
   "execution_count": 53,
   "id": "f652a7a0-2115-4eef-b9b5-16f647e6fa01",
   "metadata": {},
   "outputs": [],
   "source": [
    "#Lets check for numbers"
   ]
  },
  {
   "cell_type": "code",
   "execution_count": 54,
   "id": "620a82ac-1b54-4deb-af17-70c27e500468",
   "metadata": {},
   "outputs": [],
   "source": [
    "salary=[10500,204400,35000,57000,78000,19000,22000,95000]"
   ]
  },
  {
   "cell_type": "code",
   "execution_count": 56,
   "id": "8119daec-a5ee-4135-b008-e54182a3bf2b",
   "metadata": {},
   "outputs": [
    {
     "name": "stdout",
     "output_type": "stream",
     "text": [
      "10500\n",
      "204400\n",
      "35000\n",
      "57000\n",
      "78000\n",
      "19000\n",
      "22000\n",
      "95000\n"
     ]
    }
   ],
   "source": [
    "for money in salary:\n",
    "    print(money)"
   ]
  },
  {
   "cell_type": "code",
   "execution_count": 57,
   "id": "ba50ae0e-343f-421e-9900-97a12561bc0b",
   "metadata": {},
   "outputs": [],
   "source": [
    "student_score=[78,98,65,45,89,87,32,65,54,98,89,78,69,58,47]"
   ]
  },
  {
   "cell_type": "code",
   "execution_count": 58,
   "id": "0ddb0f86-0796-409c-8fdf-b7fb8cb12864",
   "metadata": {},
   "outputs": [],
   "source": [
    "#We can classify grades of students using student_score"
   ]
  },
  {
   "cell_type": "code",
   "execution_count": 59,
   "id": "8c7adffb-8538-4077-8673-30877c681c6f",
   "metadata": {},
   "outputs": [
    {
     "name": "stdout",
     "output_type": "stream",
     "text": [
      "78 First class\n",
      "98 Distiction\n",
      "65 First class\n",
      "45 Jsut Pass\n",
      "89 Second class\n",
      "87 Second class\n",
      "32 You are fail, please try next time\n",
      "65 First class\n",
      "54 Second class\n",
      "98 Distiction\n",
      "89 Second class\n",
      "78 First class\n",
      "69 First class\n",
      "58 Second class\n",
      "47 Second class\n"
     ]
    }
   ],
   "source": [
    "for marks in student_score:\n",
    "    if marks>90:\n",
    "        if marks>85:\n",
    "            print(marks , \"Distiction\")\n",
    "        else :\n",
    "            print(marks , \"First class\")\n",
    "    elif marks >60 and marks<85 :\n",
    "        print(marks ,\"First class\")\n",
    "    elif marks>45:\n",
    "        print(marks ,\"Second class\")\n",
    "    elif marks >35:\n",
    "        print(marks ,\"Jsut Pass\")\n",
    "    else:\n",
    "        print(marks ,\"You are fail, please try next time\")\n"
   ]
  },
  {
   "cell_type": "code",
   "execution_count": 60,
   "id": "8a1fc7f1-626e-45c4-aeb4-79c6bc016e96",
   "metadata": {},
   "outputs": [],
   "source": [
    "#What is list comprehension \n",
    "#List comprehension is a shorter syntax on values of existing list"
   ]
  },
  {
   "cell_type": "code",
   "execution_count": 61,
   "id": "36d6b79b-393c-476b-9320-de71c449af91",
   "metadata": {},
   "outputs": [],
   "source": [
    "salary=[1000,2000,3000,5000,7000,1000,2000,9000]"
   ]
  },
  {
   "cell_type": "code",
   "execution_count": 62,
   "id": "3c094371-ac52-4792-b88f-5ec91a26a55d",
   "metadata": {},
   "outputs": [],
   "source": [
    "#Use list comprehension"
   ]
  },
  {
   "cell_type": "code",
   "execution_count": 63,
   "id": "3623f9d0-2bff-4d60-8e53-ff206539de4a",
   "metadata": {},
   "outputs": [],
   "source": [
    "sal=[val for val in salary if val==2000]"
   ]
  },
  {
   "cell_type": "code",
   "execution_count": 64,
   "id": "7b63437d-d2af-4781-be71-39ce4e39aeae",
   "metadata": {},
   "outputs": [
    {
     "data": {
      "text/plain": [
       "[2000, 2000]"
      ]
     },
     "execution_count": 64,
     "metadata": {},
     "output_type": "execute_result"
    }
   ],
   "source": [
    "sal"
   ]
  },
  {
   "cell_type": "code",
   "execution_count": 65,
   "id": "4f32176a-d321-4061-9877-d1e277d3575c",
   "metadata": {},
   "outputs": [],
   "source": [
    "#Now lets see for loop with else"
   ]
  },
  {
   "cell_type": "code",
   "execution_count": 66,
   "id": "4f98e98c-2e32-4942-a4e7-dc0552ac7cb6",
   "metadata": {},
   "outputs": [],
   "source": [
    "#Print multiplication table with for loop with else"
   ]
  },
  {
   "cell_type": "code",
   "execution_count": 67,
   "id": "840fb8bb-af91-465f-a721-affa3fb890a9",
   "metadata": {},
   "outputs": [
    {
     "name": "stdout",
     "output_type": "stream",
     "text": [
      "Multiplication table for 2\n",
      "2\n",
      "4\n",
      "6\n",
      "8\n",
      "10\n",
      "12\n",
      "14\n",
      "16\n",
      "18\n",
      "20\n",
      "\n",
      "\n",
      "Multiplication table for 3\n",
      "3\n",
      "6\n",
      "9\n",
      "12\n",
      "15\n",
      "18\n",
      "21\n",
      "24\n",
      "27\n",
      "30\n",
      "\n",
      "\n",
      "Multiplication table for 4\n",
      "4\n",
      "8\n",
      "12\n",
      "16\n",
      "20\n",
      "24\n",
      "28\n",
      "32\n",
      "36\n",
      "40\n",
      "\n",
      "\n",
      "******************************\n",
      "Thats all\n",
      "******************************\n"
     ]
    }
   ],
   "source": [
    "for num in range(2,5):\n",
    "    print(\"Multiplication table for\",num)\n",
    "    for i in range(1,11):\n",
    "        print(num*i)\n",
    "        if i ==10:\n",
    "            print( \"\\n\" )\n",
    "else:\n",
    "    print(\"*\" * 30)\n",
    "    print(\"Thats all\")\n",
    "    print(\"*\" * 30)"
   ]
  },
  {
   "cell_type": "code",
   "execution_count": 68,
   "id": "1e6f69cf-5213-4320-b472-2c187da06f96",
   "metadata": {},
   "outputs": [],
   "source": [
    "#Lets see another method"
   ]
  },
  {
   "cell_type": "code",
   "execution_count": 69,
   "id": "9d3e4ee7-c1d8-4683-b40a-8ac860b0b334",
   "metadata": {},
   "outputs": [
    {
     "name": "stdin",
     "output_type": "stream",
     "text": [
      "Enter Number which one you want a table 89\n"
     ]
    },
    {
     "name": "stdout",
     "output_type": "stream",
     "text": [
      "89 X 1 = 89\n",
      "89 X 2 = 178\n",
      "89 X 3 = 267\n",
      "89 X 4 = 356\n",
      "89 X 5 = 445\n",
      "89 X 6 = 534\n",
      "89 X 7 = 623\n",
      "89 X 8 = 712\n",
      "89 X 9 = 801\n",
      "89 X 10 = 890\n"
     ]
    }
   ],
   "source": [
    "num=int(input(\"Enter Number which one you want a table\"))\n",
    "\n",
    "for i in range(1,11):\n",
    "    print(str(num), 'X' ,str(i),\"=\",str(num*i))"
   ]
  },
  {
   "cell_type": "code",
   "execution_count": null,
   "id": "05fdc208-755f-400a-a06a-5dea4a20814b",
   "metadata": {},
   "outputs": [],
   "source": []
  }
 ],
 "metadata": {
  "kernelspec": {
   "display_name": "Python 3 (ipykernel)",
   "language": "python",
   "name": "python3"
  },
  "language_info": {
   "codemirror_mode": {
    "name": "ipython",
    "version": 3
   },
   "file_extension": ".py",
   "mimetype": "text/x-python",
   "name": "python",
   "nbconvert_exporter": "python",
   "pygments_lexer": "ipython3",
   "version": "3.12.7"
  }
 },
 "nbformat": 4,
 "nbformat_minor": 5
}
