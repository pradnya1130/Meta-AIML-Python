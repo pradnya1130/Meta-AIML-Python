{
 "cells": [
  {
   "cell_type": "code",
   "execution_count": 1,
   "id": "9793a230-6fd5-4843-a5be-ceea1391ccda",
   "metadata": {},
   "outputs": [],
   "source": [
    "#Lets stude about loop function\n",
    "#A for loop is used to iterate through a sequence like list,tuple or string[iterable]\n",
    "#loop continues untill we reach the last number"
   ]
  },
  {
   "cell_type": "code",
   "execution_count": 2,
   "id": "de9d3e96-ffe1-4054-b188-4ff8ca26aebe",
   "metadata": {},
   "outputs": [],
   "source": [
    "#Syntax with range fucntion- \n",
    "#for i in range(10):\n",
    "#    print(i)\n",
    "\n",
    "     \n",
    "                           "
   ]
  },
  {
   "cell_type": "code",
   "execution_count": 3,
   "id": "5650886d-45fc-4519-9b8b-28b708a3e6e0",
   "metadata": {},
   "outputs": [],
   "source": [
    "location=[\"Kolkata\",\"Bihar\",\"Raipur\",\"Patna\",\"Siwan\"]\n"
   ]
  },
  {
   "cell_type": "code",
   "execution_count": 4,
   "id": "e34df7f3-eb70-4c4d-833f-f5294bfed4a7",
   "metadata": {},
   "outputs": [
    {
     "data": {
      "text/plain": [
       "['Kolkata', 'Bihar', 'Raipur', 'Patna', 'Siwan']"
      ]
     },
     "execution_count": 4,
     "metadata": {},
     "output_type": "execute_result"
    }
   ],
   "source": [
    "location"
   ]
  },
  {
   "cell_type": "code",
   "execution_count": 5,
   "id": "abc7e305-f26b-4743-85bd-cd141d48db2b",
   "metadata": {},
   "outputs": [],
   "source": [
    "location=[\"Kolkata\",\"Bihar\",\"Raipur\",\"Patna\",\"Siwan\"]\n"
   ]
  },
  {
   "cell_type": "code",
   "execution_count": 6,
   "id": "1436f2eb-5536-45b7-9724-b8a4618e74a1",
   "metadata": {},
   "outputs": [
    {
     "name": "stdout",
     "output_type": "stream",
     "text": [
      "Kolkata\n",
      "Bihar\n",
      "Raipur\n",
      "Patna\n",
      "Siwan\n"
     ]
    }
   ],
   "source": [
    "for city in location:\n",
    "    print(city)"
   ]
  },
  {
   "cell_type": "code",
   "execution_count": 7,
   "id": "55dc1cea-f55c-4e0b-8a52-0483fe7ca499",
   "metadata": {},
   "outputs": [],
   "source": [
    "salary=[10500,204400,35000,57000,78000,19000,22000,95000]\n",
    "\n"
   ]
  },
  {
   "cell_type": "code",
   "execution_count": 8,
   "id": "138bc0cb-e88a-45b0-8ee8-1223132fc869",
   "metadata": {},
   "outputs": [
    {
     "name": "stdout",
     "output_type": "stream",
     "text": [
      "10500\n",
      "204400\n",
      "35000\n",
      "57000\n",
      "78000\n",
      "19000\n",
      "22000\n",
      "95000\n"
     ]
    }
   ],
   "source": [
    "for money in salary:\n",
    "    print(money)"
   ]
  },
  {
   "cell_type": "code",
   "execution_count": 9,
   "id": "455c231c-830c-422a-89d0-0acd42d65674",
   "metadata": {},
   "outputs": [],
   "source": [
    "student_score=[78,98,65,45,89,87,32,65,54,98,89,78,69,58,47]"
   ]
  },
  {
   "cell_type": "code",
   "execution_count": 10,
   "id": "10004a82-8b42-4b14-9cbc-f22b4a9d1e3e",
   "metadata": {},
   "outputs": [],
   "source": [
    "#We can classify grades of students using student_score\n"
   ]
  },
  {
   "cell_type": "code",
   "execution_count": 11,
   "id": "029924cb-9c98-4ecb-8326-2ca7ff65cd9e",
   "metadata": {},
   "outputs": [
    {
     "name": "stdout",
     "output_type": "stream",
     "text": [
      "78 First class\n",
      "98 Distiction\n",
      "65 First class\n",
      "45 Jsut Pass\n",
      "89 Second class\n",
      "87 Second class\n",
      "32 You are fail, please try next time\n",
      "65 First class\n",
      "54 Second class\n",
      "98 Distiction\n",
      "89 Second class\n",
      "78 First class\n",
      "69 First class\n",
      "58 Second class\n",
      "47 Second class\n"
     ]
    }
   ],
   "source": [
    "for marks in student_score:\n",
    "    if marks>90:\n",
    "        if marks>85:\n",
    "            print(marks , \"Distiction\")\n",
    "        else :\n",
    "            print(marks , \"First class\")\n",
    "    elif marks >60 and marks<85 :\n",
    "        print(marks ,\"First class\")\n",
    "    elif marks>45:\n",
    "        print(marks ,\"Second class\")\n",
    "    elif marks >35:\n",
    "        print(marks ,\"Jsut Pass\")\n",
    "    else:\n",
    "        print(marks ,\"You are fail, please try next time\")"
   ]
  },
  {
   "cell_type": "code",
   "execution_count": 12,
   "id": "d953415f-1c0e-40ce-9396-0044ff7c6593",
   "metadata": {},
   "outputs": [],
   "source": [
    "#What is list comprehension \n",
    "#List comprehension is a shorter syntax on values of existing list"
   ]
  },
  {
   "cell_type": "code",
   "execution_count": 13,
   "id": "de36527a-015c-4bbb-b717-ca812e21b5a0",
   "metadata": {},
   "outputs": [],
   "source": [
    "salary=[1000,2000,3000,5000,7000,1000,2000,9000]"
   ]
  },
  {
   "cell_type": "code",
   "execution_count": 14,
   "id": "068deb5a-343b-4a34-8d2b-0e967c0f91d2",
   "metadata": {},
   "outputs": [],
   "source": [
    "\n",
    "#Use list comprehension"
   ]
  },
  {
   "cell_type": "code",
   "execution_count": 15,
   "id": "cc605a42-2f2b-4267-a6dc-80448af5dbc4",
   "metadata": {},
   "outputs": [],
   "source": [
    "sal=[val for val in salary if val==2000]"
   ]
  },
  {
   "cell_type": "code",
   "execution_count": 16,
   "id": "2fa98768-8670-4b32-ba01-7dc2350e2168",
   "metadata": {},
   "outputs": [
    {
     "data": {
      "text/plain": [
       "[2000, 2000]"
      ]
     },
     "execution_count": 16,
     "metadata": {},
     "output_type": "execute_result"
    }
   ],
   "source": [
    "sal"
   ]
  },
  {
   "cell_type": "code",
   "execution_count": 17,
   "id": "5e3261a2-5936-41b4-9edb-3cd1fc4cc137",
   "metadata": {},
   "outputs": [],
   "source": [
    "\n",
    "#Now lets see for loop with else"
   ]
  },
  {
   "cell_type": "code",
   "execution_count": 18,
   "id": "1303a89c-90ab-4201-a799-58900b6f17b4",
   "metadata": {},
   "outputs": [],
   "source": [
    "#Print multiplication table with for loop with else"
   ]
  },
  {
   "cell_type": "code",
   "execution_count": 19,
   "id": "073814d6-a8dd-4202-a228-2bafe804940e",
   "metadata": {},
   "outputs": [
    {
     "name": "stdout",
     "output_type": "stream",
     "text": [
      "Multiplication table for 2\n",
      "2\n",
      "4\n",
      "6\n",
      "8\n",
      "10\n",
      "12\n",
      "14\n",
      "16\n",
      "18\n",
      "20\n",
      "\n",
      "\n",
      "Multiplication table for 3\n",
      "3\n",
      "6\n",
      "9\n",
      "12\n",
      "15\n",
      "18\n",
      "21\n",
      "24\n",
      "27\n",
      "30\n",
      "\n",
      "\n",
      "Multiplication table for 4\n",
      "4\n",
      "8\n",
      "12\n",
      "16\n",
      "20\n",
      "24\n",
      "28\n",
      "32\n",
      "36\n",
      "40\n",
      "\n",
      "\n",
      "******************************\n",
      "Thats all\n",
      "******************************\n"
     ]
    }
   ],
   "source": [
    "for num in range(2,5):\n",
    "    print(\"Multiplication table for\",num)\n",
    "    for i in range(1,11):\n",
    "        print(num*i)\n",
    "        if i ==10:\n",
    "            print( \"\\n\" )\n",
    "else:\n",
    "    print(\"*\" * 30)\n",
    "    print(\"Thats all\")\n",
    "    print(\"*\" * 30)"
   ]
  },
  {
   "cell_type": "code",
   "execution_count": 20,
   "id": "248d6a4c-bc8f-49ad-b06e-310abad6dbe7",
   "metadata": {},
   "outputs": [],
   "source": [
    "#Lets see another method"
   ]
  },
  {
   "cell_type": "code",
   "execution_count": 21,
   "id": "20e6d4bb-835d-487c-b9d6-64c648b8af34",
   "metadata": {},
   "outputs": [
    {
     "name": "stdin",
     "output_type": "stream",
     "text": [
      "Enter Number which one you want a table 87\n"
     ]
    },
    {
     "name": "stdout",
     "output_type": "stream",
     "text": [
      "87 X 1 = 87\n",
      "87 X 2 = 174\n",
      "87 X 3 = 261\n",
      "87 X 4 = 348\n",
      "87 X 5 = 435\n",
      "87 X 6 = 522\n",
      "87 X 7 = 609\n",
      "87 X 8 = 696\n",
      "87 X 9 = 783\n",
      "87 X 10 = 870\n"
     ]
    }
   ],
   "source": [
    "num=int(input(\"Enter Number which one you want a table\"))\n",
    "\n",
    "for i in range(1,11):\n",
    "    print(str(num), 'X' ,str(i),\"=\",str(num*i))"
   ]
  },
  {
   "cell_type": "code",
   "execution_count": null,
   "id": "efb2906f-3b57-4aa6-b22c-7b957776c1ee",
   "metadata": {},
   "outputs": [],
   "source": []
  }
 ],
 "metadata": {
  "kernelspec": {
   "display_name": "Python 3 (ipykernel)",
   "language": "python",
   "name": "python3"
  },
  "language_info": {
   "codemirror_mode": {
    "name": "ipython",
    "version": 3
   },
   "file_extension": ".py",
   "mimetype": "text/x-python",
   "name": "python",
   "nbconvert_exporter": "python",
   "pygments_lexer": "ipython3",
   "version": "3.12.7"
  }
 },
 "nbformat": 4,
 "nbformat_minor": 5
}
