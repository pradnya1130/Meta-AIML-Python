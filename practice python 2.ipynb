{
 "cells": [
  {
   "cell_type": "code",
   "execution_count": 1,
   "id": "1224c957-99a9-4547-9fb0-d6019e524ce3",
   "metadata": {},
   "outputs": [],
   "source": [
    "#complex number\n",
    "#complex numbers as we studied in school includes i in Jupyter cell its denoted as j"
   ]
  },
  {
   "cell_type": "code",
   "execution_count": 2,
   "id": "9f4ae0df-c406-4c88-9ef6-01949ce572fa",
   "metadata": {},
   "outputs": [],
   "source": [
    "c=4+9j"
   ]
  },
  {
   "cell_type": "code",
   "execution_count": 3,
   "id": "0e788aaa-5ae3-4770-a3c8-a2bf1f9febfd",
   "metadata": {},
   "outputs": [
    {
     "data": {
      "text/plain": [
       "complex"
      ]
     },
     "execution_count": 3,
     "metadata": {},
     "output_type": "execute_result"
    }
   ],
   "source": [
    "type(c)"
   ]
  },
  {
   "cell_type": "code",
   "execution_count": 4,
   "id": "5c7bbf34-b587-43f5-ad90-efe0216a63fb",
   "metadata": {},
   "outputs": [],
   "source": [
    "#String\n",
    "#String is simple sentence ,which is written in single,double and triple qoutations "
   ]
  },
  {
   "cell_type": "code",
   "execution_count": 5,
   "id": "b7d7f8eb-093d-4aa8-b0f0-236c03362906",
   "metadata": {},
   "outputs": [],
   "source": [
    "a='My name is Pradnya'"
   ]
  },
  {
   "cell_type": "code",
   "execution_count": 6,
   "id": "ac7128ef-ea03-4548-836e-563497aaee34",
   "metadata": {},
   "outputs": [
    {
     "data": {
      "text/plain": [
       "'My name is Pradnya'"
      ]
     },
     "execution_count": 6,
     "metadata": {},
     "output_type": "execute_result"
    }
   ],
   "source": [
    "a"
   ]
  },
  {
   "cell_type": "code",
   "execution_count": 7,
   "id": "dcf1d81d-baec-44e6-ba99-e84802dd7ae0",
   "metadata": {},
   "outputs": [
    {
     "data": {
      "text/plain": [
       "str"
      ]
     },
     "execution_count": 7,
     "metadata": {},
     "output_type": "execute_result"
    }
   ],
   "source": [
    "type(a)"
   ]
  },
  {
   "cell_type": "code",
   "execution_count": 8,
   "id": "de0a83c2-964e-4426-9bdf-4364ed59d32f",
   "metadata": {},
   "outputs": [],
   "source": [
    "str1='Taj Mahal'\n",
    "str2=' is '\n",
    "str3=' one of the 7 wonders'"
   ]
  },
  {
   "cell_type": "code",
   "execution_count": 9,
   "id": "685f27c0-0548-49a8-806c-bdf7e50fcefa",
   "metadata": {},
   "outputs": [
    {
     "name": "stdout",
     "output_type": "stream",
     "text": [
      "Taj Mahal is  one of the 7 wonders\n"
     ]
    }
   ],
   "source": [
    "print(str1+str2+str3)"
   ]
  },
  {
   "cell_type": "code",
   "execution_count": 10,
   "id": "edb83ac4-314f-4f6b-a0ad-6d7bbd2e52ab",
   "metadata": {},
   "outputs": [
    {
     "name": "stdout",
     "output_type": "stream",
     "text": [
      "im  an   2024 graduate\n"
     ]
    }
   ],
   "source": [
    "print(\"im \"+\" an \",\" 2024 graduate\")"
   ]
  },
  {
   "cell_type": "code",
   "execution_count": 11,
   "id": "b297ac7a-850f-415d-b7f0-d83381217fad",
   "metadata": {},
   "outputs": [],
   "source": [
    "#We can also multiply the string"
   ]
  },
  {
   "cell_type": "code",
   "execution_count": 14,
   "id": "21fdaa60-bcb7-463a-8e35-04a037aa515b",
   "metadata": {},
   "outputs": [
    {
     "name": "stdout",
     "output_type": "stream",
     "text": [
      " Good Good Good Good Good Good\n"
     ]
    }
   ],
   "source": [
    "print(' Good' * 6)"
   ]
  },
  {
   "cell_type": "code",
   "execution_count": 19,
   "id": "15a44727-a9a1-44b9-84a9-e551d10e12bc",
   "metadata": {},
   "outputs": [
    {
     "ename": "TypeError",
     "evalue": "can only concatenate str (not \"int\") to str",
     "output_type": "error",
     "traceback": [
      "\u001b[1;31m---------------------------------------------------------------------------\u001b[0m",
      "\u001b[1;31mTypeError\u001b[0m                                 Traceback (most recent call last)",
      "Cell \u001b[1;32mIn[19], line 1\u001b[0m\n\u001b[1;32m----> 1\u001b[0m \u001b[38;5;28mprint\u001b[39m(\u001b[38;5;124m'\u001b[39m\u001b[38;5;124mGood\u001b[39m\u001b[38;5;124m'\u001b[39m \u001b[38;5;241m+\u001b[39m \u001b[38;5;241m5\u001b[39m)\n",
      "\u001b[1;31mTypeError\u001b[0m: can only concatenate str (not \"int\") to str"
     ]
    }
   ],
   "source": [
    "print('Good' + 5)"
   ]
  },
  {
   "cell_type": "code",
   "execution_count": 16,
   "id": "5f0c152a-e7b6-4bcb-886b-8e0ec0dc267f",
   "metadata": {},
   "outputs": [],
   "source": [
    "#First we have to convert into string"
   ]
  },
  {
   "cell_type": "code",
   "execution_count": 20,
   "id": "4f02d383-9e0f-448e-a434-4b8f3172eb70",
   "metadata": {},
   "outputs": [
    {
     "name": "stdout",
     "output_type": "stream",
     "text": [
      "Good5\n"
     ]
    }
   ],
   "source": [
    "print('Good' + str(5))"
   ]
  },
  {
   "cell_type": "code",
   "execution_count": 21,
   "id": "fa130cb2-dbc1-4631-9dd5-6251cd2d065f",
   "metadata": {},
   "outputs": [],
   "source": [
    "#these are different different typee of data structure"
   ]
  },
  {
   "cell_type": "code",
   "execution_count": 22,
   "id": "9e6b7c6e-6ba2-4c89-9528-76fdbddb2c44",
   "metadata": {},
   "outputs": [],
   "source": [
    "#1-List\n",
    "#denoted by []\n",
    "#mutable i.e can be edited whenever"
   ]
  },
  {
   "cell_type": "code",
   "execution_count": 24,
   "id": "5fef79dc-95ea-463d-b6c5-546c1671a6fa",
   "metadata": {},
   "outputs": [],
   "source": [
    "lst=[]"
   ]
  },
  {
   "cell_type": "code",
   "execution_count": 25,
   "id": "96c44ae1-363c-4d26-8181-29e8cee28b49",
   "metadata": {},
   "outputs": [
    {
     "data": {
      "text/plain": [
       "list"
      ]
     },
     "execution_count": 25,
     "metadata": {},
     "output_type": "execute_result"
    }
   ],
   "source": [
    "type(lst)"
   ]
  },
  {
   "cell_type": "code",
   "execution_count": 26,
   "id": "5fbc996a-efc6-4da3-a8ae-9f828c17db03",
   "metadata": {},
   "outputs": [],
   "source": [
    "#Lets create proper list"
   ]
  },
  {
   "cell_type": "code",
   "execution_count": 27,
   "id": "150807a9-66e1-4748-b435-96996848c412",
   "metadata": {},
   "outputs": [],
   "source": [
    "lst=['p','q','r','s']"
   ]
  },
  {
   "cell_type": "code",
   "execution_count": 28,
   "id": "6f876c4d-cc57-45ce-9a71-997d14b3b20c",
   "metadata": {},
   "outputs": [
    {
     "data": {
      "text/plain": [
       "['p', 'q', 'r', 's']"
      ]
     },
     "execution_count": 28,
     "metadata": {},
     "output_type": "execute_result"
    }
   ],
   "source": [
    "lst"
   ]
  },
  {
   "cell_type": "code",
   "execution_count": 29,
   "id": "ff5f9b21-9ddd-403e-969a-5472cc614caa",
   "metadata": {},
   "outputs": [],
   "source": [
    "l2=list(lst)"
   ]
  },
  {
   "cell_type": "code",
   "execution_count": 30,
   "id": "00fa0d52-7df3-4ed4-9b27-30dc826e4ab0",
   "metadata": {},
   "outputs": [
    {
     "data": {
      "text/plain": [
       "['p', 'q', 'r', 's']"
      ]
     },
     "execution_count": 30,
     "metadata": {},
     "output_type": "execute_result"
    }
   ],
   "source": [
    "l2"
   ]
  },
  {
   "cell_type": "code",
   "execution_count": 31,
   "id": "25a2c210-51a1-444f-aeed-8c5894996ffa",
   "metadata": {},
   "outputs": [],
   "source": [
    "#how to copy a list"
   ]
  },
  {
   "cell_type": "code",
   "execution_count": 39,
   "id": "9b2237eb-9ce5-4e8e-a9c6-3c4717e3ab7b",
   "metadata": {},
   "outputs": [],
   "source": [
    "marks=[30,40,50,60]\n"
   ]
  },
  {
   "cell_type": "code",
   "execution_count": 40,
   "id": "78fbfc2f-0fb9-44db-94ec-3d71d2da951e",
   "metadata": {},
   "outputs": [],
   "source": [
    "copy_marks=marks.copy()"
   ]
  },
  {
   "cell_type": "code",
   "execution_count": 41,
   "id": "9fa6633f-47ae-4bcd-a67f-0375b829e18e",
   "metadata": {},
   "outputs": [
    {
     "data": {
      "text/plain": [
       "[30, 40, 50, 60]"
      ]
     },
     "execution_count": 41,
     "metadata": {},
     "output_type": "execute_result"
    }
   ],
   "source": [
    "copy_marks"
   ]
  },
  {
   "cell_type": "code",
   "execution_count": 42,
   "id": "7f20c2ce-7fbc-49ae-b297-96a5f2189ea1",
   "metadata": {},
   "outputs": [],
   "source": [
    "#we can also create list and can separate all the elements "
   ]
  },
  {
   "cell_type": "code",
   "execution_count": 45,
   "id": "939b327f-ca22-4d79-9eb8-6174205cf08e",
   "metadata": {},
   "outputs": [
    {
     "data": {
      "text/plain": [
       "['p', 'a', 'r', 'r', 'o', 't']"
      ]
     },
     "execution_count": 45,
     "metadata": {},
     "output_type": "execute_result"
    }
   ],
   "source": [
    "list('parrot')"
   ]
  },
  {
   "cell_type": "code",
   "execution_count": 46,
   "id": "2b5c3073-a89a-4c5b-900a-2e911c119fe7",
   "metadata": {},
   "outputs": [],
   "source": [
    "#Append\n",
    "#Append means values get added at end of the list"
   ]
  },
  {
   "cell_type": "code",
   "execution_count": 47,
   "id": "653dfed7-a09f-46d2-8817-02bef06da2dd",
   "metadata": {},
   "outputs": [],
   "source": [
    "l1=[]"
   ]
  },
  {
   "cell_type": "code",
   "execution_count": 48,
   "id": "f3d96a0a-913f-464d-b8de-91033a897e82",
   "metadata": {},
   "outputs": [],
   "source": [
    "l1.append('pradnya')"
   ]
  },
  {
   "cell_type": "code",
   "execution_count": 49,
   "id": "4c27e01d-50b3-466a-bd86-5123d243fac1",
   "metadata": {},
   "outputs": [
    {
     "data": {
      "text/plain": [
       "['pradnya']"
      ]
     },
     "execution_count": 49,
     "metadata": {},
     "output_type": "execute_result"
    }
   ],
   "source": [
    "l1"
   ]
  },
  {
   "cell_type": "code",
   "execution_count": 50,
   "id": "78bd54a9-3cf8-44f3-baf3-77dd2226c8bc",
   "metadata": {},
   "outputs": [],
   "source": [
    "l1.append('sneha')"
   ]
  },
  {
   "cell_type": "code",
   "execution_count": 51,
   "id": "bfb81bc9-8650-4a18-a03d-55ca883f44ea",
   "metadata": {},
   "outputs": [
    {
     "data": {
      "text/plain": [
       "['pradnya', 'sneha']"
      ]
     },
     "execution_count": 51,
     "metadata": {},
     "output_type": "execute_result"
    }
   ],
   "source": [
    "l1"
   ]
  },
  {
   "cell_type": "code",
   "execution_count": 53,
   "id": "b3f1e0da-38bc-47ff-877f-fff8a307e756",
   "metadata": {},
   "outputs": [],
   "source": [
    "l1.append('yashu')\n",
    "l1.append('shivangi')"
   ]
  },
  {
   "cell_type": "code",
   "execution_count": 54,
   "id": "43a63fa7-a958-4db0-8f80-ae8664f2c642",
   "metadata": {},
   "outputs": [
    {
     "data": {
      "text/plain": [
       "['pradnya', 'sneha', 'yashu', 'shivangi']"
      ]
     },
     "execution_count": 54,
     "metadata": {},
     "output_type": "execute_result"
    }
   ],
   "source": [
    "l1"
   ]
  },
  {
   "cell_type": "code",
   "execution_count": 55,
   "id": "f46e913a-28f6-4fc5-9a73-915ce611b85c",
   "metadata": {},
   "outputs": [],
   "source": [
    "#Insert \n",
    "#how to insert a data in place of another data\n",
    "#For this purpose ,we can use insert method"
   ]
  },
  {
   "cell_type": "code",
   "execution_count": 56,
   "id": "be138481-00d7-4346-ab12-c69550ef4703",
   "metadata": {},
   "outputs": [],
   "source": [
    "l1.insert(4,'Sonal')"
   ]
  },
  {
   "cell_type": "code",
   "execution_count": 57,
   "id": "fcaf5579-44e0-4039-a5b9-b4530bbdf41c",
   "metadata": {},
   "outputs": [
    {
     "data": {
      "text/plain": [
       "['pradnya', 'sneha', 'yashu', 'shivangi', 'Sonal']"
      ]
     },
     "execution_count": 57,
     "metadata": {},
     "output_type": "execute_result"
    }
   ],
   "source": [
    "l1"
   ]
  },
  {
   "cell_type": "code",
   "execution_count": 58,
   "id": "7a71158f-3767-4941-92d7-c0072316c2fb",
   "metadata": {},
   "outputs": [],
   "source": [
    "#How to check total element in the list."
   ]
  },
  {
   "cell_type": "code",
   "execution_count": 59,
   "id": "3192c8ca-a895-4070-b2b3-e95646ebcd9a",
   "metadata": {},
   "outputs": [],
   "source": [
    "l1=[44,55,66,99,77,88]"
   ]
  },
  {
   "cell_type": "code",
   "execution_count": 60,
   "id": "1c990b34-707b-4e48-a257-5146a7b15c1a",
   "metadata": {},
   "outputs": [
    {
     "data": {
      "text/plain": [
       "6"
      ]
     },
     "execution_count": 60,
     "metadata": {},
     "output_type": "execute_result"
    }
   ],
   "source": [
    "len(l1)"
   ]
  },
  {
   "cell_type": "code",
   "execution_count": 61,
   "id": "134d76e9-05b4-45f2-b84c-cd76b37bb1ad",
   "metadata": {},
   "outputs": [],
   "source": [
    "#Check index number\n"
   ]
  },
  {
   "cell_type": "code",
   "execution_count": 63,
   "id": "6580967b-e210-47eb-a3eb-8ebdd84fceb7",
   "metadata": {},
   "outputs": [],
   "source": [
    "l1=['saurav','gaurav','lovely','advit']"
   ]
  },
  {
   "cell_type": "markdown",
   "id": "c5911e16-0bc8-4eea-984f-712e59fe2052",
   "metadata": {},
   "source": [
    "l1[0]"
   ]
  },
  {
   "cell_type": "code",
   "execution_count": 64,
   "id": "f55ca94c-a8f4-4d3b-8f1f-cfad843ca461",
   "metadata": {},
   "outputs": [
    {
     "data": {
      "text/plain": [
       "'saurav'"
      ]
     },
     "execution_count": 64,
     "metadata": {},
     "output_type": "execute_result"
    }
   ],
   "source": [
    "l1[0]"
   ]
  },
  {
   "cell_type": "code",
   "execution_count": 65,
   "id": "4aa90d22-36da-4c22-b864-ee40a31d4ef2",
   "metadata": {},
   "outputs": [
    {
     "data": {
      "text/plain": [
       "'lovely'"
      ]
     },
     "execution_count": 65,
     "metadata": {},
     "output_type": "execute_result"
    }
   ],
   "source": [
    "l1[2]"
   ]
  },
  {
   "cell_type": "code",
   "execution_count": 67,
   "id": "e9be3a32-3f5a-40d1-91a5-58061ef67b59",
   "metadata": {},
   "outputs": [],
   "source": [
    "#How to replace object in list"
   ]
  },
  {
   "cell_type": "code",
   "execution_count": 68,
   "id": "116b184d-1980-4c5c-aba2-e2e0cd22c1a0",
   "metadata": {},
   "outputs": [],
   "source": [
    "l1[3]='Ram'\n"
   ]
  },
  {
   "cell_type": "code",
   "execution_count": 69,
   "id": "68cc8577-1fff-44fb-8c5f-b2bf76f4a838",
   "metadata": {},
   "outputs": [
    {
     "data": {
      "text/plain": [
       "['saurav', 'gaurav', 'lovely', 'Ram']"
      ]
     },
     "execution_count": 69,
     "metadata": {},
     "output_type": "execute_result"
    }
   ],
   "source": [
    "l1"
   ]
  },
  {
   "cell_type": "code",
   "execution_count": 70,
   "id": "6c78d605-9862-4e30-a440-41a66d54e8e3",
   "metadata": {},
   "outputs": [],
   "source": [
    "l1=[11,22,33,66,44,88,99,44]"
   ]
  },
  {
   "cell_type": "code",
   "execution_count": 71,
   "id": "294dbb1c-b867-4a43-9131-2560885339bf",
   "metadata": {},
   "outputs": [],
   "source": [
    "l1[3]=78"
   ]
  },
  {
   "cell_type": "code",
   "execution_count": 72,
   "id": "05c7bd34-b083-437f-96bd-085b0a2ad246",
   "metadata": {},
   "outputs": [
    {
     "data": {
      "text/plain": [
       "[11, 22, 33, 78, 44, 88, 99, 44]"
      ]
     },
     "execution_count": 72,
     "metadata": {},
     "output_type": "execute_result"
    }
   ],
   "source": [
    "l1"
   ]
  },
  {
   "cell_type": "code",
   "execution_count": 73,
   "id": "1345ddc0-8a42-47ad-8a7d-761530e19615",
   "metadata": {},
   "outputs": [],
   "source": [
    "#Range in a list\n"
   ]
  },
  {
   "cell_type": "code",
   "execution_count": 74,
   "id": "af895788-484e-45a0-a5a2-adfa57102ab2",
   "metadata": {},
   "outputs": [
    {
     "data": {
      "text/plain": [
       "[22, 33, 78, 44, 88, 99, 44]"
      ]
     },
     "execution_count": 74,
     "metadata": {},
     "output_type": "execute_result"
    }
   ],
   "source": [
    "l1[1:]"
   ]
  },
  {
   "cell_type": "code",
   "execution_count": 75,
   "id": "755c270c-f27c-48cb-8022-48eaf85979ba",
   "metadata": {},
   "outputs": [
    {
     "data": {
      "text/plain": [
       "[22, 33, 78, 44, 88, 99]"
      ]
     },
     "execution_count": 75,
     "metadata": {},
     "output_type": "execute_result"
    }
   ],
   "source": [
    "l1[1:7]"
   ]
  },
  {
   "cell_type": "code",
   "execution_count": 76,
   "id": "4a5999e6-7c57-41a9-977f-a8780d7f48ee",
   "metadata": {},
   "outputs": [],
   "source": [
    "# Here last element is not printed\n",
    "#only till last second elem of the list"
   ]
  },
  {
   "cell_type": "code",
   "execution_count": 78,
   "id": "7b548ace-c991-48ec-bb6d-c7b1a4292561",
   "metadata": {},
   "outputs": [
    {
     "data": {
      "text/plain": [
       "[11, 22, 33]"
      ]
     },
     "execution_count": 78,
     "metadata": {},
     "output_type": "execute_result"
    }
   ],
   "source": [
    "l1[:3]"
   ]
  },
  {
   "cell_type": "code",
   "execution_count": 79,
   "id": "c23da492-b41b-40d0-99cb-2320a3edd16f",
   "metadata": {},
   "outputs": [],
   "source": [
    "#if starting range is not given ..elements are printed from start to end"
   ]
  },
  {
   "cell_type": "code",
   "execution_count": 80,
   "id": "f009700d-b1a3-436e-82b7-98b4b66d880b",
   "metadata": {},
   "outputs": [
    {
     "data": {
      "text/plain": [
       "[11, 22, 33, 78, 44, 88, 99, 44]"
      ]
     },
     "execution_count": 80,
     "metadata": {},
     "output_type": "execute_result"
    }
   ],
   "source": [
    "l1"
   ]
  },
  {
   "cell_type": "code",
   "execution_count": 81,
   "id": "c9d1f14c-628b-44dc-a20d-de38b4185781",
   "metadata": {},
   "outputs": [
    {
     "data": {
      "text/plain": [
       "[11, 22, 33, 78, 44, 88, 99, 44, 6622]"
      ]
     },
     "execution_count": 81,
     "metadata": {},
     "output_type": "execute_result"
    }
   ],
   "source": [
    "l1+[6622]"
   ]
  },
  {
   "cell_type": "code",
   "execution_count": 82,
   "id": "0d96efb1-6999-4ec4-8c7f-6e5524cf14d0",
   "metadata": {},
   "outputs": [],
   "source": [
    "#we can also concatanate list by using'+' sign"
   ]
  },
  {
   "cell_type": "code",
   "execution_count": 83,
   "id": "6131b5c1-5a5b-4c60-bdb9-38085ea9f13b",
   "metadata": {},
   "outputs": [],
   "source": [
    "l1=l1+[5566]"
   ]
  },
  {
   "cell_type": "code",
   "execution_count": 84,
   "id": "7df71a8f-6fc7-4e3a-872d-4d2a994279b6",
   "metadata": {},
   "outputs": [
    {
     "data": {
      "text/plain": [
       "[11, 22, 33, 78, 44, 88, 99, 44, 5566]"
      ]
     },
     "execution_count": 84,
     "metadata": {},
     "output_type": "execute_result"
    }
   ],
   "source": [
    "l1"
   ]
  },
  {
   "cell_type": "code",
   "execution_count": 85,
   "id": "b1c3210a-6063-4e3c-9e0e-de5f67bcce2f",
   "metadata": {},
   "outputs": [],
   "source": [
    "#To print list multiple times"
   ]
  },
  {
   "cell_type": "code",
   "execution_count": 86,
   "id": "a16d85b6-558a-4c15-9aaa-5c6037887d72",
   "metadata": {},
   "outputs": [
    {
     "data": {
      "text/plain": [
       "[11,\n",
       " 22,\n",
       " 33,\n",
       " 78,\n",
       " 44,\n",
       " 88,\n",
       " 99,\n",
       " 44,\n",
       " 5566,\n",
       " 11,\n",
       " 22,\n",
       " 33,\n",
       " 78,\n",
       " 44,\n",
       " 88,\n",
       " 99,\n",
       " 44,\n",
       " 5566,\n",
       " 11,\n",
       " 22,\n",
       " 33,\n",
       " 78,\n",
       " 44,\n",
       " 88,\n",
       " 99,\n",
       " 44,\n",
       " 5566,\n",
       " 11,\n",
       " 22,\n",
       " 33,\n",
       " 78,\n",
       " 44,\n",
       " 88,\n",
       " 99,\n",
       " 44,\n",
       " 5566]"
      ]
     },
     "execution_count": 86,
     "metadata": {},
     "output_type": "execute_result"
    }
   ],
   "source": [
    "l1 * 4"
   ]
  },
  {
   "cell_type": "code",
   "execution_count": 87,
   "id": "fa1fb1ba-0870-49b2-908d-351fdc25c48b",
   "metadata": {},
   "outputs": [
    {
     "name": "stdout",
     "output_type": "stream",
     "text": [
      "====================================================================================================\n",
      "[11, 22, 33, 78, 44, 88, 99, 44, 5566]\n",
      "====================================================================================================\n"
     ]
    }
   ],
   "source": [
    "print('=' * 100)\n",
    "\n",
    "print(l1)\n",
    "\n",
    "print('=' * 100)"
   ]
  },
  {
   "cell_type": "code",
   "execution_count": 88,
   "id": "3b914944-4448-4367-94b5-238e5d97ad12",
   "metadata": {},
   "outputs": [],
   "source": [
    "#Advanced List\n",
    "#count method\n",
    "#count method- which can show how many time the number has been repeated"
   ]
  },
  {
   "cell_type": "code",
   "execution_count": 89,
   "id": "67353c69-8fc6-4395-bf3c-91bd13f71762",
   "metadata": {},
   "outputs": [],
   "source": [
    "marks=[51,56,89,78,89,45,56,12,12,32,45,32,65,45,89,78,45,56,23,12,4,5,23,23,56,]"
   ]
  },
  {
   "cell_type": "code",
   "execution_count": 90,
   "id": "33a5671c-7e3f-4bd7-998a-61d0d1033fa5",
   "metadata": {},
   "outputs": [
    {
     "data": {
      "text/plain": [
       "3"
      ]
     },
     "execution_count": 90,
     "metadata": {},
     "output_type": "execute_result"
    }
   ],
   "source": [
    "marks.count(23)"
   ]
  },
  {
   "cell_type": "code",
   "execution_count": 91,
   "id": "d25972dc-0c44-4456-97d5-eb31be8ea747",
   "metadata": {},
   "outputs": [],
   "source": [
    "#Extend Method"
   ]
  },
  {
   "cell_type": "code",
   "execution_count": 101,
   "id": "90af3346-fd0c-432d-8f17-8ab357cfffcc",
   "metadata": {},
   "outputs": [],
   "source": [
    "lst1=['moon','sun']"
   ]
  },
  {
   "cell_type": "code",
   "execution_count": 102,
   "id": "5fd04fe8-2d0a-4c7b-a54d-4e9d609e4ffa",
   "metadata": {},
   "outputs": [
    {
     "data": {
      "text/plain": [
       "['moon', 'sun']"
      ]
     },
     "execution_count": 102,
     "metadata": {},
     "output_type": "execute_result"
    }
   ],
   "source": [
    "lst1\n"
   ]
  },
  {
   "cell_type": "code",
   "execution_count": 103,
   "id": "f3f9e77d-1602-49ba-be43-aa7fef5727ff",
   "metadata": {},
   "outputs": [],
   "source": [
    "lst1.extend(['earth','mars'])"
   ]
  },
  {
   "cell_type": "code",
   "execution_count": 104,
   "id": "4a309ea6-fa91-4050-9ade-b1e811859faa",
   "metadata": {},
   "outputs": [
    {
     "data": {
      "text/plain": [
       "['moon', 'sun', 'earth', 'mars']"
      ]
     },
     "execution_count": 104,
     "metadata": {},
     "output_type": "execute_result"
    }
   ],
   "source": [
    "lst1"
   ]
  },
  {
   "cell_type": "code",
   "execution_count": 105,
   "id": "c6b51a4e-762b-475b-8c51-580efc8cd77e",
   "metadata": {},
   "outputs": [],
   "source": [
    "#Pop method\n",
    "#pop mehod help for delete last index elemnt from any list"
   ]
  },
  {
   "cell_type": "code",
   "execution_count": 106,
   "id": "b70ea823-a23e-491a-a16c-5a1d293c5685",
   "metadata": {},
   "outputs": [],
   "source": [
    "lst1=['Ram','Laxman','Seeta']"
   ]
  },
  {
   "cell_type": "code",
   "execution_count": 107,
   "id": "3b797739-71a5-4d90-aab9-f8b3bf68bb8f",
   "metadata": {},
   "outputs": [],
   "source": [
    "pop_Seeta=lst1.pop()"
   ]
  },
  {
   "cell_type": "code",
   "execution_count": 108,
   "id": "835da9cc-a794-43e4-bc1a-aeee1eb3dfc8",
   "metadata": {},
   "outputs": [
    {
     "data": {
      "text/plain": [
       "'Seeta'"
      ]
     },
     "execution_count": 108,
     "metadata": {},
     "output_type": "execute_result"
    }
   ],
   "source": [
    "pop_Seeta"
   ]
  },
  {
   "cell_type": "code",
   "execution_count": 109,
   "id": "4827f910-f24c-44a0-8ea3-24bfe3c0def1",
   "metadata": {},
   "outputs": [
    {
     "data": {
      "text/plain": [
       "['Ram', 'Laxman']"
      ]
     },
     "execution_count": 109,
     "metadata": {},
     "output_type": "execute_result"
    }
   ],
   "source": [
    "lst1"
   ]
  },
  {
   "cell_type": "code",
   "execution_count": 111,
   "id": "bd3de3ff-f59a-46c2-81c1-e4de44406647",
   "metadata": {},
   "outputs": [],
   "source": [
    "pop_Ram=lst1.pop(0)"
   ]
  },
  {
   "cell_type": "code",
   "execution_count": 112,
   "id": "5e26ce26-85ae-49f0-baa4-288ed4064d59",
   "metadata": {},
   "outputs": [
    {
     "data": {
      "text/plain": [
       "'Ram'"
      ]
     },
     "execution_count": 112,
     "metadata": {},
     "output_type": "execute_result"
    }
   ],
   "source": [
    "pop_Ram"
   ]
  },
  {
   "cell_type": "code",
   "execution_count": 114,
   "id": "eb475cca-5416-4f1d-86ce-a3f6dbab5a96",
   "metadata": {},
   "outputs": [
    {
     "data": {
      "text/plain": [
       "['Laxman']"
      ]
     },
     "execution_count": 114,
     "metadata": {},
     "output_type": "execute_result"
    }
   ],
   "source": [
    "lst1"
   ]
  },
  {
   "cell_type": "code",
   "execution_count": 115,
   "id": "2f5e03b1-df63-47f4-8901-ce68c34054b6",
   "metadata": {},
   "outputs": [],
   "source": [
    "#Remove method\n",
    "#To delete elemenet from list"
   ]
  },
  {
   "cell_type": "code",
   "execution_count": 116,
   "id": "af5edf7d-c413-4273-85a9-3b5dc25ea0e6",
   "metadata": {},
   "outputs": [],
   "source": [
    "lst1=[12,33,66,55,44]"
   ]
  },
  {
   "cell_type": "code",
   "execution_count": 117,
   "id": "0ac34ca7-996e-44af-9a67-4f176b775b23",
   "metadata": {},
   "outputs": [],
   "source": [
    "lst1.remove(55)"
   ]
  },
  {
   "cell_type": "code",
   "execution_count": 118,
   "id": "f0944da6-0428-464a-a5a0-56e6b494fedc",
   "metadata": {},
   "outputs": [
    {
     "data": {
      "text/plain": [
       "[12, 33, 66, 44]"
      ]
     },
     "execution_count": 118,
     "metadata": {},
     "output_type": "execute_result"
    }
   ],
   "source": [
    "lst1"
   ]
  },
  {
   "cell_type": "code",
   "execution_count": 119,
   "id": "61758f6b-4026-4ce8-b2c8-81ecbbb144ac",
   "metadata": {},
   "outputs": [],
   "source": [
    "#Reverse Mehtod.\n",
    "#reverse method helps in to reverse show the all element"
   ]
  },
  {
   "cell_type": "code",
   "execution_count": 120,
   "id": "43e0b509-0fe7-4036-81ac-dd5e70c24e51",
   "metadata": {},
   "outputs": [],
   "source": [
    "lst1=[11,22,33,44,55,66,44,55,66,77,88,99]"
   ]
  },
  {
   "cell_type": "code",
   "execution_count": 121,
   "id": "f313da7a-110f-48a2-bc86-3f6cf7b7df8b",
   "metadata": {},
   "outputs": [],
   "source": [
    "lst1.reverse()"
   ]
  },
  {
   "cell_type": "code",
   "execution_count": 122,
   "id": "ee1e8099-1b13-421e-84d9-4ca6daababb6",
   "metadata": {},
   "outputs": [
    {
     "data": {
      "text/plain": [
       "[99, 88, 77, 66, 55, 44, 66, 55, 44, 33, 22, 11]"
      ]
     },
     "execution_count": 122,
     "metadata": {},
     "output_type": "execute_result"
    }
   ],
   "source": [
    "lst1"
   ]
  },
  {
   "cell_type": "code",
   "execution_count": 123,
   "id": "5afdc00a-8ec4-4f21-a1c7-f9482cecf54e",
   "metadata": {},
   "outputs": [],
   "source": [
    "#Sort Method\n",
    "#sort method helps in  to arrange the elements by ascending order"
   ]
  },
  {
   "cell_type": "code",
   "execution_count": 124,
   "id": "bfa01087-d5f6-4788-97fc-2521fd343753",
   "metadata": {},
   "outputs": [],
   "source": [
    "lst1.sort()"
   ]
  },
  {
   "cell_type": "code",
   "execution_count": 125,
   "id": "b28e06f3-9bce-47ff-9ec1-620027b6b128",
   "metadata": {},
   "outputs": [
    {
     "data": {
      "text/plain": [
       "[11, 22, 33, 44, 44, 55, 55, 66, 66, 77, 88, 99]"
      ]
     },
     "execution_count": 125,
     "metadata": {},
     "output_type": "execute_result"
    }
   ],
   "source": [
    "lst1"
   ]
  },
  {
   "cell_type": "code",
   "execution_count": 126,
   "id": "b0f7be10-20d3-404c-b9ba-edf93696b88c",
   "metadata": {},
   "outputs": [],
   "source": [
    "lst1.sort(reverse=True)"
   ]
  },
  {
   "cell_type": "code",
   "execution_count": 127,
   "id": "ffc2442c-08f8-4a35-97d5-0a198b04af9e",
   "metadata": {},
   "outputs": [
    {
     "data": {
      "text/plain": [
       "[99, 88, 77, 66, 66, 55, 55, 44, 44, 33, 22, 11]"
      ]
     },
     "execution_count": 127,
     "metadata": {},
     "output_type": "execute_result"
    }
   ],
   "source": [
    "lst1"
   ]
  },
  {
   "cell_type": "code",
   "execution_count": null,
   "id": "5fbc99b3-07b6-402c-9593-05f11320443e",
   "metadata": {},
   "outputs": [],
   "source": []
  }
 ],
 "metadata": {
  "kernelspec": {
   "display_name": "Python 3 (ipykernel)",
   "language": "python",
   "name": "python3"
  },
  "language_info": {
   "codemirror_mode": {
    "name": "ipython",
    "version": 3
   },
   "file_extension": ".py",
   "mimetype": "text/x-python",
   "name": "python",
   "nbconvert_exporter": "python",
   "pygments_lexer": "ipython3",
   "version": "3.12.7"
  }
 },
 "nbformat": 4,
 "nbformat_minor": 5
}
